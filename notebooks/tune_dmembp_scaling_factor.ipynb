{
 "cells": [
  {
   "cell_type": "code",
   "execution_count": 1,
   "id": "51aa7f5b",
   "metadata": {},
   "outputs": [],
   "source": [
    "%reload_ext autoreload\n",
    "%autoreload 2\n",
    "import numpy as np\n",
    "import sinter\n",
    "import matplotlib.pyplot as plt\n",
    "import os\n",
    "\n",
    "from qecdec import RotatedSurfaceCode_Memory\n",
    "from qecdec import DMemBPDecoder, SinterDecoderWrapper"
   ]
  },
  {
   "cell_type": "code",
   "execution_count": 4,
   "id": "26a6e6ee",
   "metadata": {},
   "outputs": [],
   "source": [
    "d = 5\n",
    "rounds = 5\n",
    "p = 0.01\n",
    "scaling_factor_list = np.arange(0, 1.0001, 0.05).tolist()\n",
    "max_iter = 50\n",
    "gamma = np.load(\"gamma.npy\")"
   ]
  },
  {
   "cell_type": "code",
   "execution_count": 5,
   "id": "5deb027c",
   "metadata": {},
   "outputs": [],
   "source": [
    "def generate_sinter_tasks_and_custom_decoders():\n",
    "    tasks: list[sinter.Task] = []\n",
    "    custom_decoders: dict[str, sinter.Decoder] = {}\n",
    "    # Setup the experiment.\n",
    "    expmt = RotatedSurfaceCode_Memory(\n",
    "        d=d,\n",
    "        rounds=rounds,\n",
    "        basis='Z',\n",
    "        data_qubit_error_rate=p,\n",
    "        meas_error_rate=p,\n",
    "    )\n",
    "    for scaling_factor in scaling_factor_list:\n",
    "        # Setup a sinter.Task with BP decoder.\n",
    "        dmembp = DMemBPDecoder(expmt.chkmat, expmt.prior,\n",
    "                               gamma=gamma, max_iter=max_iter, scaling_factor=scaling_factor)\n",
    "        custom_decoder_id = f\"custom_decoder_{len(custom_decoders)}\"\n",
    "        custom_decoders[custom_decoder_id] = SinterDecoderWrapper(dmembp, expmt.obsmat)\n",
    "        tasks.append(sinter.Task(\n",
    "            circuit=expmt.circuit,\n",
    "            detector_error_model=expmt.dem,\n",
    "            decoder=custom_decoder_id,\n",
    "            json_metadata={'scaling_factor': scaling_factor},\n",
    "        ))\n",
    "    return tasks, custom_decoders\n",
    "\n",
    "tasks, custom_decoders = generate_sinter_tasks_and_custom_decoders()\n"
   ]
  },
  {
   "cell_type": "code",
   "execution_count": 6,
   "id": "80fb1ac3",
   "metadata": {},
   "outputs": [
    {
     "name": "stderr",
     "output_type": "stream",
     "text": [
      "\u001b[31mStarting 7 workers...\u001b[0m\n",
      "\u001b[31m21 tasks left:\n",
      "  workers           decoder  eta shots_left errors_left json_metadata                     \n",
      "        1  custom_decoder_0    ?   10000000         100 scaling_factor=0.0                \n",
      "        1  custom_decoder_1    ?   10000000         100 scaling_factor=0.05               \n",
      "        1  custom_decoder_2    ?   10000000         100 scaling_factor=0.1                \n",
      "        1  custom_decoder_3    ?   10000000         100 scaling_factor=0.15000000000000002\n",
      "        1  custom_decoder_4    ?   10000000         100 scaling_factor=0.2                \n",
      "        1  custom_decoder_5    ?   10000000         100 scaling_factor=0.25               \n",
      "        1  custom_decoder_6 793m    9999999         100 scaling_factor=0.30000000000000004\n",
      "        0  custom_decoder_7  ?·∞   10000000         100 scaling_factor=0.35000000000000003\n",
      "        0  custom_decoder_8  ?·∞   10000000         100 scaling_factor=0.4                \n",
      "        0  custom_decoder_9  ?·∞   10000000         100 scaling_factor=0.45               \n",
      "        0 custom_decoder_10  ?·∞   10000000         100 scaling_factor=0.5                \n",
      "        0 custom_decoder_11  ?·∞   10000000         100 scaling_factor=0.55               \n",
      "        0 custom_decoder_12  ?·∞   10000000         100 scaling_factor=0.6000000000000001 \n",
      "        0 custom_decoder_13  ?·∞   10000000         100 scaling_factor=0.65               \n",
      "        0 custom_decoder_14  ?·∞   10000000         100 scaling_factor=0.7000000000000001 \n",
      "        0 custom_decoder_15  ?·∞   10000000         100 scaling_factor=0.75               \n",
      "        0 custom_decoder_16  ?·∞   10000000         100 scaling_factor=0.8                \n",
      "        0 custom_decoder_17  ?·∞   10000000         100 scaling_factor=0.8500000000000001 \n",
      "        0 custom_decoder_18  ?·∞   10000000         100 scaling_factor=0.9                \n",
      "        0 custom_decoder_19  ?·∞   10000000         100 scaling_factor=0.9500000000000001 \n",
      "        0 custom_decoder_20  ?·∞   10000000         100 scaling_factor=1.0                \u001b[0m\n",
      "\u001b[31m21 tasks left:\n",
      "  workers           decoder eta shots_left errors_left json_metadata                     \n",
      "        1  custom_decoder_0 <1m    9999727          54 scaling_factor=0.0                \n",
      "        1  custom_decoder_1 <1m    9999727          48 scaling_factor=0.05               \n",
      "        1  custom_decoder_2 <1m    9999727          48 scaling_factor=0.1                \n",
      "        1  custom_decoder_3 <1m    9999727          56 scaling_factor=0.15000000000000002\n",
      "        1  custom_decoder_4 <1m    9999727          51 scaling_factor=0.2                \n",
      "        1  custom_decoder_5 <1m    9999727          60 scaling_factor=0.25               \n",
      "        1  custom_decoder_6 <1m    9999727          46 scaling_factor=0.30000000000000004\n",
      "        0  custom_decoder_7 ?·∞   10000000         100 scaling_factor=0.35000000000000003\n",
      "        0  custom_decoder_8 ?·∞   10000000         100 scaling_factor=0.4                \n",
      "        0  custom_decoder_9 ?·∞   10000000         100 scaling_factor=0.45               \n",
      "        0 custom_decoder_10 ?·∞   10000000         100 scaling_factor=0.5                \n",
      "        0 custom_decoder_11 ?·∞   10000000         100 scaling_factor=0.55               \n",
      "        0 custom_decoder_12 ?·∞   10000000         100 scaling_factor=0.6000000000000001 \n",
      "        0 custom_decoder_13 ?·∞   10000000         100 scaling_factor=0.65               \n",
      "        0 custom_decoder_14 ?·∞   10000000         100 scaling_factor=0.7000000000000001 \n",
      "        0 custom_decoder_15 ?·∞   10000000         100 scaling_factor=0.75               \n",
      "        0 custom_decoder_16 ?·∞   10000000         100 scaling_factor=0.8                \n",
      "        0 custom_decoder_17 ?·∞   10000000         100 scaling_factor=0.8500000000000001 \n",
      "        0 custom_decoder_18 ?·∞   10000000         100 scaling_factor=0.9                \n",
      "        0 custom_decoder_19 ?·∞   10000000         100 scaling_factor=0.9500000000000001 \n",
      "        0 custom_decoder_20 ?·∞   10000000         100 scaling_factor=1.0                \u001b[0m\n",
      "\u001b[31m17 tasks left:\n",
      "  workers           decoder        eta shots_left errors_left json_metadata                     \n",
      "        1  custom_decoder_0 [draining]    9998703         -99 scaling_factor=0.0                \n",
      "        1  custom_decoder_2 [draining]    9998703        -118 scaling_factor=0.1                \n",
      "        1  custom_decoder_6 [draining]    9998703        -134 scaling_factor=0.30000000000000004\n",
      "        1  custom_decoder_7          ?   10000000         100 scaling_factor=0.35000000000000003\n",
      "        1  custom_decoder_8          ?   10000000         100 scaling_factor=0.4                \n",
      "        1  custom_decoder_9          ?   10000000         100 scaling_factor=0.45               \n",
      "        1 custom_decoder_10          ?   10000000         100 scaling_factor=0.5                \n",
      "        0 custom_decoder_11        ?·∞   10000000         100 scaling_factor=0.55               \n",
      "        0 custom_decoder_12        ?·∞   10000000         100 scaling_factor=0.6000000000000001 \n",
      "        0 custom_decoder_13        ?·∞   10000000         100 scaling_factor=0.65               \n",
      "        0 custom_decoder_14        ?·∞   10000000         100 scaling_factor=0.7000000000000001 \n",
      "        0 custom_decoder_15        ?·∞   10000000         100 scaling_factor=0.75               \n",
      "        0 custom_decoder_16        ?·∞   10000000         100 scaling_factor=0.8                \n",
      "        0 custom_decoder_17        ?·∞   10000000         100 scaling_factor=0.8500000000000001 \n",
      "        0 custom_decoder_18        ?·∞   10000000         100 scaling_factor=0.9                \n",
      "        0 custom_decoder_19        ?·∞   10000000         100 scaling_factor=0.9500000000000001 \n",
      "        0 custom_decoder_20        ?·∞   10000000         100 scaling_factor=1.0                \u001b[0m\n",
      "\u001b[31m10 tasks left:\n",
      "  workers           decoder        eta shots_left errors_left json_metadata                    \n",
      "        1 custom_decoder_11 [draining]    9994607         -16 scaling_factor=0.55              \n",
      "        1 custom_decoder_12 [draining]    9993583          -6 scaling_factor=0.6000000000000001\n",
      "        1 custom_decoder_13        <1m    9993583          39 scaling_factor=0.65              \n",
      "        1 custom_decoder_14        <1m    9998703          88 scaling_factor=0.7000000000000001\n",
      "        1 custom_decoder_15        <1m    9997679          90 scaling_factor=0.75              \n",
      "        1 custom_decoder_16          ?   10000000         100 scaling_factor=0.8               \n",
      "        1 custom_decoder_17          ?   10000000         100 scaling_factor=0.8500000000000001\n",
      "        0 custom_decoder_18        ?·∞   10000000         100 scaling_factor=0.9               \n",
      "        0 custom_decoder_19        ?·∞   10000000         100 scaling_factor=0.9500000000000001\n",
      "        0 custom_decoder_20        ?·∞   10000000         100 scaling_factor=1.0               \u001b[0m\n",
      "\u001b[31m7 tasks left:\n",
      "  workers           decoder        eta shots_left errors_left json_metadata                    \n",
      "        1 custom_decoder_14 [draining]    9987439          -4 scaling_factor=0.7000000000000001\n",
      "        1 custom_decoder_15        <1m    9989487          46 scaling_factor=0.75              \n",
      "        1 custom_decoder_16        <1m    9989487          43 scaling_factor=0.8               \n",
      "        1 custom_decoder_17        <1m    9987439          64 scaling_factor=0.8500000000000001\n",
      "        1 custom_decoder_18        <1m    9992559          65 scaling_factor=0.9               \n",
      "        1 custom_decoder_19        <1m    9992559          79 scaling_factor=0.9500000000000001\n",
      "        1 custom_decoder_20        <1m    9996655          87 scaling_factor=1.0               \u001b[0m\n",
      "\u001b[31m2 tasks left:\n",
      "  workers           decoder eta shots_left errors_left json_metadata                    \n",
      "        4 custom_decoder_19 <1m    9976926          20 scaling_factor=0.9500000000000001\n",
      "        3 custom_decoder_20 <1m    9976653          12 scaling_factor=1.0               \u001b[0m\n",
      "\u001b[31m1 tasks left:\n",
      "  workers           decoder        eta shots_left errors_left json_metadata     \n",
      "        3 custom_decoder_20 [draining]    9960269         -34 scaling_factor=1.0\u001b[0m\n"
     ]
    }
   ],
   "source": [
    "sinter_stats = sinter.collect(\n",
    "    num_workers=os.cpu_count() - 1,\n",
    "    max_shots=10_000_000,\n",
    "    max_errors=100,\n",
    "    tasks=tasks,\n",
    "    custom_decoders=custom_decoders,\n",
    "    print_progress=True,\n",
    ")"
   ]
  },
  {
   "cell_type": "code",
   "execution_count": 7,
   "id": "fc3705db",
   "metadata": {},
   "outputs": [
    {
     "data": {
      "text/plain": [
       "<matplotlib.legend.Legend at 0x12d70c6a0>"
      ]
     },
     "execution_count": 7,
     "metadata": {},
     "output_type": "execute_result"
    },
    {
     "data": {
      "image/png": "[encoded data removed]",
      "text/plain": [
       "<Figure size 640x480 with 1 Axes>"
      ]
     },
     "metadata": {},
     "output_type": "display_data"
    }
   ],
   "source": [
    "fig, ax = plt.subplots(1, 1)\n",
    "sinter.plot_error_rate(\n",
    "    ax=ax,\n",
    "    stats=sinter_stats,\n",
    "    x_func=lambda stat: stat.json_metadata['scaling_factor'],\n",
    ")\n",
    "ax.semilogy()\n",
    "ax.set_ylim(1e-5, 1)\n",
    "ax.grid()\n",
    "ax.set_ylabel('Logical Error Probability (per shot)')\n",
    "ax.set_xlabel('Scaling Factor')\n",
    "ax.legend()"
   ]
  },
  {
   "cell_type": "code",
   "execution_count": null,
   "id": "8f5115ff",
   "metadata": {},
   "outputs": [],
   "source": []
  }
 ],
 "metadata": {
  "kernelspec": {
   "display_name": ".env",
   "language": "python",
   "name": "python3"
  },
  "language_info": {
   "codemirror_mode": {
    "name": "ipython",
    "version": 3
   },
   "file_extension": ".py",
   "mimetype": "text/x-python",
   "name": "python",
   "nbconvert_exporter": "python",
   "pygments_lexer": "ipython3",
   "version": "3.10.6"
  }
 },
 "nbformat": 4,
 "nbformat_minor": 5
}
