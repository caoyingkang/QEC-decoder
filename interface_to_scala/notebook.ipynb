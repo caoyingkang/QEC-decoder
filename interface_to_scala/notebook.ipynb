{
 "cells": [
  {
   "cell_type": "code",
   "execution_count": 1,
   "id": "93d916e0",
   "metadata": {},
   "outputs": [],
   "source": [
    "from qecdec import RotatedSurfaceCode_Memory\n",
    "from qecdec import BPDecoder\n",
    "import numpy as np"
   ]
  },
  {
   "cell_type": "code",
   "execution_count": 2,
   "id": "c83d35de",
   "metadata": {},
   "outputs": [],
   "source": [
    "d = 5\n",
    "rounds = 5\n",
    "max_iter = 50\n",
    "num_shots = 100_000\n",
    "\n",
    "expmt = RotatedSurfaceCode_Memory(\n",
    "    d=d,\n",
    "    rounds=rounds,\n",
    "    basis='Z',\n",
    "    data_qubit_error_rate=0.01,\n",
    "    meas_error_rate=0.01,\n",
    ")\n",
    "\n",
    "bp = BPDecoder(expmt.chkmat, expmt.prior, max_iter=max_iter)\n",
    "\n",
    "syndromes, _ = expmt.circuit.compile_detector_sampler(seed=42).sample(num_shots, separate_observables=True)\n",
    "syndromes = syndromes.astype(np.uint8)\n",
    "\n",
    "ehat_bp = bp.decode_batch(syndromes)"
   ]
  },
  {
   "cell_type": "code",
   "execution_count": 3,
   "id": "c80a06dd",
   "metadata": {},
   "outputs": [],
   "source": [
    "# save to file\n",
    "np.save('chkmat.npy', expmt.chkmat)\n",
    "np.save('prior.npy', expmt.prior)\n",
    "np.save('syndromes.npy', syndromes)\n",
    "np.save('ehat_bp.npy', ehat_bp)"
   ]
  },
  {
   "cell_type": "code",
   "execution_count": 4,
   "id": "238df9cd",
   "metadata": {},
   "outputs": [],
   "source": [
    "from qecdec.utils import plot_tanner_graph_interactively\n",
    "\n",
    "plot_tanner_graph_interactively(\n",
    "    expmt.chkmat, \n",
    "    expmt.detector_coords, \n",
    "    expmt.error_coords, \n",
    "    html_filename='decoding_graph.html'\n",
    ")"
   ]
  }
 ],
 "metadata": {
  "kernelspec": {
   "display_name": ".env",
   "language": "python",
   "name": "python3"
  },
  "language_info": {
   "codemirror_mode": {
    "name": "ipython",
    "version": 3
   },
   "file_extension": ".py",
   "mimetype": "text/x-python",
   "name": "python",
   "nbconvert_exporter": "python",
   "pygments_lexer": "ipython3",
   "version": "3.10.6"
  }
 },
 "nbformat": 4,
 "nbformat_minor": 5
}
