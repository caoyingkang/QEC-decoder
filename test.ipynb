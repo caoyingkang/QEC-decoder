{
 "cells": [
  {
   "cell_type": "code",
   "execution_count": 1,
   "id": "d7c141d7",
   "metadata": {},
   "outputs": [],
   "source": [
    "import numpy as np\n",
    "from rotated_surface_code import RotatedSurfaceCode"
   ]
  },
  {
   "cell_type": "markdown",
   "id": "51ed5ff5",
   "metadata": {},
   "source": [
    "# Test implementation of `rotated_surface_code`"
   ]
  },
  {
   "cell_type": "code",
   "execution_count": 2,
   "id": "1c226310",
   "metadata": {},
   "outputs": [],
   "source": [
    "code = RotatedSurfaceCode(5)"
   ]
  },
  {
   "cell_type": "code",
   "execution_count": 3,
   "id": "57adce0d",
   "metadata": {},
   "outputs": [
    {
     "name": "stdout",
     "output_type": "stream",
     "text": [
      "0, (1, 1)\n",
      "1, (1, 3)\n",
      "2, (1, 5)\n",
      "3, (1, 7)\n",
      "4, (1, 9)\n",
      "5, (3, 1)\n",
      "6, (3, 3)\n",
      "7, (3, 5)\n",
      "8, (3, 7)\n",
      "9, (3, 9)\n",
      "10, (5, 1)\n",
      "11, (5, 3)\n",
      "12, (5, 5)\n",
      "13, (5, 7)\n",
      "14, (5, 9)\n",
      "15, (7, 1)\n",
      "16, (7, 3)\n",
      "17, (7, 5)\n",
      "18, (7, 7)\n",
      "19, (7, 9)\n",
      "20, (9, 1)\n",
      "21, (9, 3)\n",
      "22, (9, 5)\n",
      "23, (9, 7)\n",
      "24, (9, 9)\n"
     ]
    }
   ],
   "source": [
    "for i in range(code.n):\n",
    "    row, col = code._dq_to_coord(i)\n",
    "    assert code._coord_to_dq(row, col) == i\n",
    "    print(\"{}, ({}, {})\".format(i, row, col))"
   ]
  },
  {
   "cell_type": "code",
   "execution_count": 4,
   "id": "2ba331d7",
   "metadata": {},
   "outputs": [
    {
     "name": "stdout",
     "output_type": "stream",
     "text": [
      "0, (0, 2)\n",
      "1, (0, 6)\n",
      "2, (2, 4)\n",
      "3, (2, 8)\n",
      "4, (4, 2)\n",
      "5, (4, 6)\n",
      "6, (6, 4)\n",
      "7, (6, 8)\n",
      "8, (8, 2)\n",
      "9, (8, 6)\n",
      "10, (10, 4)\n",
      "11, (10, 8)\n"
     ]
    }
   ],
   "source": [
    "for i in range(code.mx):\n",
    "    row, col = code._xstab_to_coord(i)\n",
    "    assert code._coord_to_xstab(row, col) == i\n",
    "    print(\"{}, ({}, {})\".format(i, row, col))"
   ]
  },
  {
   "cell_type": "code",
   "execution_count": 5,
   "id": "a476e9fb",
   "metadata": {},
   "outputs": [
    {
     "name": "stdout",
     "output_type": "stream",
     "text": [
      "0, (4, 0)\n",
      "1, (2, 2)\n",
      "2, (4, 4)\n",
      "3, (2, 6)\n",
      "4, (4, 8)\n",
      "5, (2, 10)\n",
      "6, (8, 0)\n",
      "7, (6, 2)\n",
      "8, (8, 4)\n",
      "9, (6, 6)\n",
      "10, (8, 8)\n",
      "11, (6, 10)\n"
     ]
    }
   ],
   "source": [
    "for i in range(code.mz):\n",
    "    row, col = code._zstab_to_coord(i)\n",
    "    assert code._coord_to_zstab(row, col) == i\n",
    "    print(\"{}, ({}, {})\".format(i, row, col))"
   ]
  },
  {
   "cell_type": "code",
   "execution_count": null,
   "id": "486afd64",
   "metadata": {},
   "outputs": [
    {
     "name": "stdout",
     "output_type": "stream",
     "text": [
      "0 [0 1]\n",
      "1 [2 3]\n",
      "2 [1 2 6 7]\n",
      "3 [3 4 8 9]\n",
      "4 [ 5  6 10 11]\n",
      "5 [ 7  8 12 13]\n",
      "6 [11 12 16 17]\n",
      "7 [13 14 18 19]\n",
      "8 [15 16 20 21]\n",
      "9 [17 18 22 23]\n",
      "10 [21 22]\n",
      "11 [23 24]\n"
     ]
    }
   ],
   "source": [
    "for i in range(code.mx):\n",
    "    support = np.where(code.Hx[i] == 1)[0]\n",
    "    print(i, support)"
   ]
  },
  {
   "cell_type": "code",
   "execution_count": null,
   "id": "6f7683c7",
   "metadata": {},
   "outputs": [
    {
     "name": "stdout",
     "output_type": "stream",
     "text": [
      "0 [ 5 10]\n",
      "1 [0 1 5 6]\n",
      "2 [ 6  7 11 12]\n",
      "3 [2 3 7 8]\n",
      "4 [ 8  9 13 14]\n",
      "5 [4 9]\n",
      "6 [15 20]\n",
      "7 [10 11 15 16]\n",
      "8 [16 17 21 22]\n",
      "9 [12 13 17 18]\n",
      "10 [18 19 23 24]\n",
      "11 [14 19]\n"
     ]
    }
   ],
   "source": [
    "for i in range(code.mz):\n",
    "    support = np.where(code.Hz[i] == 1)[0]\n",
    "    print(i, support)"
   ]
  },
  {
   "cell_type": "code",
   "execution_count": 7,
   "id": "ddaf2f97",
   "metadata": {},
   "outputs": [
    {
     "ename": "AssertionError",
     "evalue": "",
     "output_type": "error",
     "traceback": [
      "\u001b[0;31m---------------------------------------------------------------------------\u001b[0m",
      "\u001b[0;31mAssertionError\u001b[0m                            Traceback (most recent call last)",
      "Cell \u001b[0;32mIn[7], line 1\u001b[0m\n\u001b[0;32m----> 1\u001b[0m \u001b[38;5;28;01massert\u001b[39;00m \u001b[38;5;28;01mFalse\u001b[39;00m\n",
      "\u001b[0;31mAssertionError\u001b[0m: "
     ]
    }
   ],
   "source": [
    "assert False"
   ]
  },
  {
   "cell_type": "code",
   "execution_count": null,
   "id": "88d58ce4",
   "metadata": {},
   "outputs": [],
   "source": []
  },
  {
   "cell_type": "code",
   "execution_count": null,
   "id": "5584a9fe",
   "metadata": {},
   "outputs": [],
   "source": []
  },
  {
   "cell_type": "code",
   "execution_count": null,
   "id": "d10d7b8a",
   "metadata": {},
   "outputs": [],
   "source": [
    "import numpy as np\n",
    "from rotated_surface_code import RotatedSurfaceCode\n",
    "from decoder import BPDecoder, RelayBPDecoder\n",
    "from ldpc import BpDecoder as ldpc_BPDecoder\n",
    "from ldpc import BpOsdDecoder"
   ]
  },
  {
   "cell_type": "code",
   "execution_count": null,
   "id": "9024e62e",
   "metadata": {},
   "outputs": [],
   "source": [
    "code = RotatedSurfaceCode(d=5)\n",
    "error_rate = np.array([0.1] * code.n)\n",
    "ex, ez, sx, sz = code.sample_error_and_syndrome_with_code_capacity_model(N=10, p=error_rate, seed=42)"
   ]
  },
  {
   "cell_type": "markdown",
   "id": "b2c62ec7",
   "metadata": {},
   "source": [
    "# BP decoder (implementation from `ldpc` package) for decoding X errors"
   ]
  },
  {
   "cell_type": "code",
   "execution_count": null,
   "id": "6bcda72c",
   "metadata": {},
   "outputs": [
    {
     "name": "stdout",
     "output_type": "stream",
     "text": [
      "error:      [0 0 0 0 0 0 1 0 0 0 1 0 0 0 0 0 0 0 0 0 0 0 0 0 0]\n",
      "syndrome:   [1 0 0 0 0 0 0 0 0 0 0 0]\n",
      "decoded:    [1 1 1 1 0 1 1 1 1 0 1 1 1 0 0 0 0 0 0 0 0 0 0 0 0]\n",
      "converged?  False\n",
      "error:      [0 0 0 0 0 0 0 0 0 0 0 0 1 0 0 0 0 1 0 0 0 0 0 0 0]\n",
      "syndrome:   [0 0 0 1 0 0 0 1 0 0 0 0]\n",
      "decoded:    [0 0 0 0 0 0 0 0 0 0 0 0 0 0 0 0 0 0 0 0 0 0 0 0 0]\n",
      "converged?  False\n",
      "error:      [0 0 0 0 0 0 0 0 1 0 0 0 0 0 0 0 0 0 0 0 0 0 1 0 0]\n",
      "syndrome:   [0 1 0 1 0 0 0 1 0 0 1 0]\n",
      "decoded:    [0 0 0 0 1 0 0 0 1 1 0 0 0 0 0 0 0 0 0 0 0 0 1 0 0]\n",
      "converged?  True\n",
      "error:      [0 0 0 0 0 0 0 0 1 0 0 0 0 0 0 0 0 0 0 0 0 0 0 1 0]\n",
      "syndrome:   [0 1 0 1 0 0 0 1 0 0 0 1]\n",
      "decoded:    [0 0 0 0 0 0 0 0 1 0 0 0 0 0 0 0 0 0 0 0 0 0 0 1 0]\n",
      "converged?  True\n",
      "error:      [1 0 0 0 0 0 0 0 0 1 0 0 0 0 0 0 0 0 0 0 0 0 0 0 0]\n",
      "syndrome:   [0 1 0 0 0 0 0 0 1 0 0 0]\n",
      "decoded:    [1 0 0 0 1 0 0 0 0 1 0 0 0 0 0 0 0 0 0 0 0 0 0 0 0]\n",
      "converged?  False\n",
      "error:      [0 0 0 1 0 0 0 0 0 0 0 0 0 0 0 0 0 0 0 0 1 0 0 1 0]\n",
      "syndrome:   [0 1 0 0 0 0 1 1 0 1 0 1]\n",
      "decoded:    [0 0 0 1 0 0 0 0 0 0 0 0 0 0 0 1 0 0 0 0 1 0 0 1 0]\n",
      "converged?  False\n",
      "error:      [0 0 0 0 0 0 0 0 0 0 0 0 0 0 0 0 0 0 1 0 0 0 0 0 0]\n",
      "syndrome:   [0 0 0 0 0 1 0 1 0 0 0 0]\n",
      "decoded:    [0 0 0 0 0 0 0 0 0 0 0 0 0 0 1 0 0 0 1 1 0 0 0 0 0]\n",
      "converged?  True\n",
      "error:      [0 0 0 0 0 0 0 0 0 0 0 0 0 0 0 0 0 0 0 0 0 0 0 0 0]\n",
      "syndrome:   [0 0 0 0 0 0 0 0 0 0 0 0]\n",
      "decoded:    [0 0 0 0 0 0 0 0 0 0 0 0 0 0 0 0 0 0 0 0 0 0 0 0 0]\n",
      "converged?  True\n",
      "error:      [0 1 0 0 0 1 0 0 0 0 0 0 0 0 0 0 0 0 0 0 0 0 1 0 0]\n",
      "syndrome:   [1 0 1 0 0 0 0 1 1 0 1 0]\n",
      "decoded:    [1 1 0 0 0 1 1 0 0 0 1 0 0 0 0 0 0 0 0 0 0 0 1 0 0]\n",
      "converged?  False\n",
      "error:      [0 0 0 0 0 0 0 0 0 0 0 0 1 0 0 0 0 0 0 0 0 0 0 0 0]\n",
      "syndrome:   [0 0 0 1 1 0 0 0 0 0 0 0]\n",
      "decoded:    [0 0 0 0 0 0 0 0 0 0 0 0 1 0 0 0 0 0 0 0 0 0 0 0 0]\n",
      "converged?  True\n"
     ]
    }
   ],
   "source": [
    "decoder = ldpc_BPDecoder(\n",
    "    pcm=code.Hz,\n",
    "    error_rate=0.1,\n",
    "    max_iter=code.n,\n",
    "    bp_method=\"minimum_sum\",\n",
    ")\n",
    "\n",
    "for i in range(10):\n",
    "    e, s = ex[i], sz[i]\n",
    "    print(\"error:     \", e)\n",
    "    print(\"syndrome:  \", s)\n",
    "    ehat = decoder.decode(s)\n",
    "    print(\"decoded:   \", ehat)\n",
    "    print(\"converged? \", np.all(code.Hz @ ehat % 2 == s))"
   ]
  },
  {
   "cell_type": "markdown",
   "id": "f5e87f06",
   "metadata": {},
   "source": [
    "# BP+OSD decoder (implementation from `ldpc` package)"
   ]
  },
  {
   "cell_type": "code",
   "execution_count": null,
   "id": "999743a0",
   "metadata": {},
   "outputs": [
    {
     "name": "stdout",
     "output_type": "stream",
     "text": [
      "error:      [0 0 0 0 0 0 1 0 0 0 1 0 0 0 0 0 0 0 0 0 0 0 0 0 0]\n",
      "syndrome:   [1 0 0 0 0 0 0 0 0 0 0 0]\n",
      "decoded:    [1 1 0 0 0 0 0 0 0 0 0 0 0 0 0 0 0 0 0 0 0 0 0 0 0]\n",
      "converged?  True\n",
      "error:      [0 0 0 0 0 0 0 0 0 0 0 0 1 0 0 0 0 1 0 0 0 0 0 0 0]\n",
      "syndrome:   [0 0 0 1 0 0 0 1 0 0 0 0]\n",
      "decoded:    [0 0 0 0 0 0 0 0 0 0 0 0 1 0 0 0 0 1 0 0 0 0 0 0 0]\n",
      "converged?  True\n",
      "error:      [0 0 0 0 0 0 0 0 1 0 0 0 0 0 0 0 0 0 0 0 0 0 1 0 0]\n",
      "syndrome:   [0 1 0 1 0 0 0 1 0 0 1 0]\n",
      "decoded:    [0 0 0 0 1 0 0 0 1 1 0 0 0 0 0 0 0 0 0 0 0 0 1 0 0]\n",
      "converged?  True\n",
      "error:      [0 0 0 0 0 0 0 0 1 0 0 0 0 0 0 0 0 0 0 0 0 0 0 1 0]\n",
      "syndrome:   [0 1 0 1 0 0 0 1 0 0 0 1]\n",
      "decoded:    [0 0 0 0 0 0 0 0 1 0 0 0 0 0 0 0 0 0 0 0 0 0 0 1 0]\n",
      "converged?  True\n",
      "error:      [1 0 0 0 0 0 0 0 0 1 0 0 0 0 0 0 0 0 0 0 0 0 0 0 0]\n",
      "syndrome:   [0 1 0 0 0 0 0 0 1 0 0 0]\n",
      "decoded:    [1 0 0 0 1 0 0 0 0 0 0 0 0 0 0 0 0 0 0 0 0 0 0 0 0]\n",
      "converged?  True\n",
      "error:      [0 0 0 1 0 0 0 0 0 0 0 0 0 0 0 0 0 0 0 0 1 0 0 1 0]\n",
      "syndrome:   [0 1 0 0 0 0 1 1 0 1 0 1]\n",
      "decoded:    [0 0 0 1 0 0 0 0 0 0 0 0 0 0 0 1 0 0 0 0 0 0 0 1 0]\n",
      "converged?  True\n",
      "error:      [0 0 0 0 0 0 0 0 0 0 0 0 0 0 0 0 0 0 1 0 0 0 0 0 0]\n",
      "syndrome:   [0 0 0 0 0 1 0 1 0 0 0 0]\n",
      "decoded:    [0 0 0 0 0 0 0 0 0 0 0 0 0 0 1 0 0 0 1 1 0 0 0 0 0]\n",
      "converged?  True\n",
      "error:      [0 0 0 0 0 0 0 0 0 0 0 0 0 0 0 0 0 0 0 0 0 0 0 0 0]\n",
      "syndrome:   [0 0 0 0 0 0 0 0 0 0 0 0]\n",
      "decoded:    [0 0 0 0 0 0 0 0 0 0 0 0 0 0 0 0 0 0 0 0 0 0 0 0 0]\n",
      "converged?  True\n",
      "error:      [0 1 0 0 0 1 0 0 0 0 0 0 0 0 0 0 0 0 0 0 0 0 1 0 0]\n",
      "syndrome:   [1 0 1 0 0 0 0 1 1 0 1 0]\n",
      "decoded:    [1 0 0 0 0 0 1 0 0 0 0 0 0 0 0 0 0 0 0 0 0 0 1 0 0]\n",
      "converged?  True\n",
      "error:      [0 0 0 0 0 0 0 0 0 0 0 0 1 0 0 0 0 0 0 0 0 0 0 0 0]\n",
      "syndrome:   [0 0 0 1 1 0 0 0 0 0 0 0]\n",
      "decoded:    [0 0 0 0 0 0 0 0 0 0 0 0 1 0 0 0 0 0 0 0 0 0 0 0 0]\n",
      "converged?  True\n"
     ]
    }
   ],
   "source": [
    "decoder = BpOsdDecoder(\n",
    "    pcm=code.Hz,\n",
    "    error_rate = 0.1,\n",
    "    bp_method = 'minimum_sum',\n",
    "    max_iter = code.n,\n",
    "    # schedule = 'serial',\n",
    "    osd_method = 'osd_cs',\n",
    "    osd_order = 2\n",
    ")\n",
    "\n",
    "for i in range(10):\n",
    "    e, s = ex[i], sz[i]\n",
    "    print(\"error:     \", e)\n",
    "    print(\"syndrome:  \", s)\n",
    "    ehat = decoder.decode(s)\n",
    "    print(\"decoded:   \", ehat)\n",
    "    print(\"converged? \", np.all(code.Hz @ ehat % 2 == s))"
   ]
  },
  {
   "cell_type": "code",
   "execution_count": null,
   "id": "bf90f413",
   "metadata": {},
   "outputs": [],
   "source": []
  },
  {
   "cell_type": "markdown",
   "id": "0040ed17",
   "metadata": {},
   "source": [
    "# BP decoder"
   ]
  },
  {
   "cell_type": "code",
   "execution_count": null,
   "id": "e1c059e5",
   "metadata": {},
   "outputs": [
    {
     "name": "stdout",
     "output_type": "stream",
     "text": [
      "sample  0\n",
      "syndrome:       [1 0 0 0 0 0 0 0 0 0 0 0]\n",
      "true error:     [0 0 0 0 0 0 1 0 0 0 1 0 0 0 0 0 0 0 0 0 0 0 0 0 0]\n",
      "decoded error:  None\n",
      "\n",
      "sample  1\n",
      "syndrome:       [0 0 0 1 0 0 0 1 0 0 0 0]\n",
      "true error:     [0 0 0 0 0 0 0 0 0 0 0 0 1 0 0 0 0 1 0 0 0 0 0 0 0]\n",
      "decoded error:  None\n",
      "\n",
      "sample  2\n",
      "syndrome:       [0 1 0 1 0 0 0 1 0 0 1 0]\n",
      "true error:     [0 0 0 0 0 0 0 0 1 0 0 0 0 0 0 0 0 0 0 0 0 0 1 0 0]\n",
      "decoded error:  [0 0 0 0 0 0 0 0 1 0 0 0 0 0 0 0 0 0 0 0 0 0 1 0 0]\n",
      "\n",
      "sample  3\n",
      "syndrome:       [0 1 0 1 0 0 0 1 0 0 0 1]\n",
      "true error:     [0 0 0 0 0 0 0 0 1 0 0 0 0 0 0 0 0 0 0 0 0 0 0 1 0]\n",
      "decoded error:  [0 0 0 0 0 0 0 0 1 0 0 0 0 0 0 0 0 0 0 0 0 0 0 1 0]\n",
      "\n",
      "sample  4\n",
      "syndrome:       [0 1 0 0 0 0 0 0 1 0 0 0]\n",
      "true error:     [1 0 0 0 0 0 0 0 0 1 0 0 0 0 0 0 0 0 0 0 0 0 0 0 0]\n",
      "decoded error:  None\n",
      "\n",
      "sample  5\n",
      "syndrome:       [0 1 0 0 0 0 1 1 0 1 0 1]\n",
      "true error:     [0 0 0 1 0 0 0 0 0 0 0 0 0 0 0 0 0 0 0 0 1 0 0 1 0]\n",
      "decoded error:  None\n",
      "\n",
      "sample  6\n",
      "syndrome:       [0 0 0 0 0 1 0 1 0 0 0 0]\n",
      "true error:     [0 0 0 0 0 0 0 0 0 0 0 0 0 0 0 0 0 0 1 0 0 0 0 0 0]\n",
      "decoded error:  [0 0 0 0 0 0 0 0 0 0 0 0 0 0 0 0 0 0 1 0 0 0 0 0 0]\n",
      "\n",
      "sample  7\n",
      "syndrome:       [0 0 0 0 0 0 0 0 0 0 0 0]\n",
      "true error:     [0 0 0 0 0 0 0 0 0 0 0 0 0 0 0 0 0 0 0 0 0 0 0 0 0]\n",
      "decoded error:  [0 0 0 0 0 0 0 0 0 0 0 0 0 0 0 0 0 0 0 0 0 0 0 0 0]\n",
      "\n",
      "sample  8\n",
      "syndrome:       [1 0 1 0 0 0 0 1 1 0 1 0]\n",
      "true error:     [0 1 0 0 0 1 0 0 0 0 0 0 0 0 0 0 0 0 0 0 0 0 1 0 0]\n",
      "decoded error:  None\n",
      "\n",
      "sample  9\n",
      "syndrome:       [0 0 0 1 1 0 0 0 0 0 0 0]\n",
      "true error:     [0 0 0 0 0 0 0 0 0 0 0 0 1 0 0 0 0 0 0 0 0 0 0 0 0]\n",
      "decoded error:  [0 0 0 0 0 0 0 0 0 0 0 0 1 0 0 0 0 0 0 0 0 0 0 0 0]\n",
      "\n"
     ]
    }
   ],
   "source": [
    "prior = np.array([0.1] * code.n)\n",
    "\n",
    "bp = BPDecoder(\n",
    "    H=code.Hz,\n",
    "    prior=prior\n",
    ")\n",
    "\n",
    "for i in range(10):\n",
    "    print(\"sample \", i)\n",
    "    e, s = ex[i], sz[i]\n",
    "    print(\"syndrome:      \", s)\n",
    "    print(\"true error:    \", e)\n",
    "    ehat, marginal = bp.decode(s)\n",
    "    print(\"decoded error: \", ehat)\n",
    "    print(\"\")\n"
   ]
  },
  {
   "cell_type": "markdown",
   "id": "dc54bac9",
   "metadata": {},
   "source": [
    "# RelayBP Decoder"
   ]
  },
  {
   "cell_type": "code",
   "execution_count": null,
   "id": "920dbdde",
   "metadata": {},
   "outputs": [
    {
     "name": "stdout",
     "output_type": "stream",
     "text": [
      "sample  0\n",
      "syndrome:       [1 0 0 0 0 0 0 0 0 0 0 0]\n",
      "true error:     [0 0 0 0 0 0 1 0 0 0 1 0 0 0 0 0 0 0 0 0 0 0 0 0 0]\n",
      "decoded error:  [1 1 0 0 0 0 0 0 0 0 0 0 0 0 0 0 0 0 0 0 0 0 0 0 0]\n",
      "\n",
      "sample  1\n",
      "syndrome:       [0 0 0 1 0 0 0 1 0 0 0 0]\n",
      "true error:     [0 0 0 0 0 0 0 0 0 0 0 0 1 0 0 0 0 1 0 0 0 0 0 0 0]\n",
      "decoded error:  [0 0 0 0 0 0 0 0 0 0 0 0 0 1 0 0 0 0 1 0 0 0 0 0 0]\n",
      "\n",
      "sample  2\n",
      "syndrome:       [0 1 0 1 0 0 0 1 0 0 1 0]\n",
      "true error:     [0 0 0 0 0 0 0 0 1 0 0 0 0 0 0 0 0 0 0 0 0 0 1 0 0]\n",
      "decoded error:  [0 0 0 0 0 0 0 0 1 0 0 0 0 0 0 0 0 0 0 0 0 0 1 0 0]\n",
      "\n",
      "sample  3\n",
      "syndrome:       [0 1 0 1 0 0 0 1 0 0 0 1]\n",
      "true error:     [0 0 0 0 0 0 0 0 1 0 0 0 0 0 0 0 0 0 0 0 0 0 0 1 0]\n",
      "decoded error:  [0 0 0 0 0 0 0 0 1 0 0 0 0 0 0 0 0 0 0 0 0 0 0 1 0]\n",
      "\n",
      "sample  4\n",
      "syndrome:       [0 1 0 0 0 0 0 0 1 0 0 0]\n",
      "true error:     [1 0 0 0 0 0 0 0 0 1 0 0 0 0 0 0 0 0 0 0 0 0 0 0 0]\n",
      "decoded error:  [1 0 0 0 0 0 0 0 0 1 0 0 0 0 0 0 0 0 0 0 0 0 0 0 0]\n",
      "\n",
      "sample  5\n",
      "syndrome:       [0 1 0 0 0 0 1 1 0 1 0 1]\n",
      "true error:     [0 0 0 1 0 0 0 0 0 0 0 0 0 0 0 0 0 0 0 0 1 0 0 1 0]\n",
      "decoded error:  [0 0 0 1 0 0 0 0 0 0 0 0 0 0 0 1 0 0 0 0 0 0 0 1 0]\n",
      "\n",
      "sample  6\n",
      "syndrome:       [0 0 0 0 0 1 0 1 0 0 0 0]\n",
      "true error:     [0 0 0 0 0 0 0 0 0 0 0 0 0 0 0 0 0 0 1 0 0 0 0 0 0]\n",
      "decoded error:  [0 0 0 0 0 0 0 0 0 0 0 0 0 0 0 0 0 0 1 0 0 0 0 0 0]\n",
      "\n",
      "sample  7\n",
      "syndrome:       [0 0 0 0 0 0 0 0 0 0 0 0]\n",
      "true error:     [0 0 0 0 0 0 0 0 0 0 0 0 0 0 0 0 0 0 0 0 0 0 0 0 0]\n",
      "decoded error:  [0 0 0 0 0 0 0 0 0 0 0 0 0 0 0 0 0 0 0 0 0 0 0 0 0]\n",
      "\n",
      "sample  8\n",
      "syndrome:       [1 0 1 0 0 0 0 1 1 0 1 0]\n",
      "true error:     [0 1 0 0 0 1 0 0 0 0 0 0 0 0 0 0 0 0 0 0 0 0 1 0 0]\n",
      "decoded error:  [1 0 0 0 0 0 1 0 0 0 0 0 0 0 0 0 0 0 0 0 0 0 1 0 0]\n",
      "\n",
      "sample  9\n",
      "syndrome:       [0 0 0 1 1 0 0 0 0 0 0 0]\n",
      "true error:     [0 0 0 0 0 0 0 0 0 0 0 0 1 0 0 0 0 0 0 0 0 0 0 0 0]\n",
      "decoded error:  [0 0 0 0 0 0 0 0 0 0 0 0 1 0 0 0 0 0 0 0 0 0 0 0 0]\n",
      "\n"
     ]
    }
   ],
   "source": [
    "prior = np.array([0.1] * code.n)\n",
    "num_sol = 1\n",
    "max_leg = 301\n",
    "\n",
    "mem_strength = -0.25 + 0.85 / 2 * np.random.uniform(-1, 1, size=(max_leg, code.n))\n",
    "mem_strength[0, :] = 0.35\n",
    "\n",
    "max_iter_list = [80] + [60] * (max_leg - 1)\n",
    "\n",
    "relay_bp = RelayBPDecoder(\n",
    "    H=code.Hz,\n",
    "    prior=prior,\n",
    "    num_sol=num_sol,\n",
    "    max_leg=max_leg,\n",
    "    mem_strength=mem_strength,\n",
    "    max_iter_list=max_iter_list\n",
    ")\n",
    "\n",
    "for i in range(10):\n",
    "    print(\"sample \", i)\n",
    "    e, s = ex[i], sz[i]\n",
    "    print(\"syndrome:      \", s)\n",
    "    print(\"true error:    \", e)\n",
    "    ehat = relay_bp.decode(s)\n",
    "    print(\"decoded error: \", ehat)\n",
    "    print(\"\")\n"
   ]
  },
  {
   "cell_type": "code",
   "execution_count": null,
   "id": "03ab7981",
   "metadata": {},
   "outputs": [],
   "source": []
  }
 ],
 "metadata": {
  "kernelspec": {
   "display_name": ".env",
   "language": "python",
   "name": "python3"
  },
  "language_info": {
   "codemirror_mode": {
    "name": "ipython",
    "version": 3
   },
   "file_extension": ".py",
   "mimetype": "text/x-python",
   "name": "python",
   "nbconvert_exporter": "python",
   "pygments_lexer": "ipython3",
   "version": "3.10.6"
  }
 },
 "nbformat": 4,
 "nbformat_minor": 5
}
