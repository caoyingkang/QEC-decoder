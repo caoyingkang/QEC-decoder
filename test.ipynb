{
 "cells": [
  {
   "cell_type": "code",
   "execution_count": 1,
   "id": "d7c141d7",
   "metadata": {},
   "outputs": [],
   "source": [
    "import numpy as np\n",
    "import scipy.sparse as sp\n",
    "import matplotlib.pyplot as plt\n",
    "from tqdm import tqdm\n",
    "import ldpc\n",
    "import pymatching\n",
    "\n",
    "from rotated_surface_code import RotatedSurfaceCode\n",
    "from decoder import BPDecoder, RelayBPDecoder\n",
    "from utils import sample_error_and_syndrome, get_logical_error_rate"
   ]
  },
  {
   "cell_type": "markdown",
   "id": "51ed5ff5",
   "metadata": {},
   "source": [
    "# Test implementation of rotated surface code"
   ]
  },
  {
   "cell_type": "code",
   "execution_count": 2,
   "id": "1c226310",
   "metadata": {},
   "outputs": [],
   "source": [
    "code = RotatedSurfaceCode(5)"
   ]
  },
  {
   "cell_type": "code",
   "execution_count": 3,
   "id": "57adce0d",
   "metadata": {},
   "outputs": [
    {
     "name": "stdout",
     "output_type": "stream",
     "text": [
      "Data qubit 0 has coordinates (1, 1).\n",
      "Data qubit 1 has coordinates (1, 3).\n",
      "Data qubit 2 has coordinates (1, 5).\n",
      "Data qubit 3 has coordinates (1, 7).\n",
      "Data qubit 4 has coordinates (1, 9).\n",
      "Data qubit 5 has coordinates (3, 1).\n",
      "Data qubit 6 has coordinates (3, 3).\n",
      "Data qubit 7 has coordinates (3, 5).\n",
      "Data qubit 8 has coordinates (3, 7).\n",
      "Data qubit 9 has coordinates (3, 9).\n",
      "Data qubit 10 has coordinates (5, 1).\n",
      "Data qubit 11 has coordinates (5, 3).\n",
      "Data qubit 12 has coordinates (5, 5).\n",
      "Data qubit 13 has coordinates (5, 7).\n",
      "Data qubit 14 has coordinates (5, 9).\n",
      "Data qubit 15 has coordinates (7, 1).\n",
      "Data qubit 16 has coordinates (7, 3).\n",
      "Data qubit 17 has coordinates (7, 5).\n",
      "Data qubit 18 has coordinates (7, 7).\n",
      "Data qubit 19 has coordinates (7, 9).\n",
      "Data qubit 20 has coordinates (9, 1).\n",
      "Data qubit 21 has coordinates (9, 3).\n",
      "Data qubit 22 has coordinates (9, 5).\n",
      "Data qubit 23 has coordinates (9, 7).\n",
      "Data qubit 24 has coordinates (9, 9).\n",
      "X-type stabilizer 0 has coordinates (0, 2).\n",
      "X-type stabilizer 1 has coordinates (0, 6).\n",
      "X-type stabilizer 2 has coordinates (2, 4).\n",
      "X-type stabilizer 3 has coordinates (2, 8).\n",
      "X-type stabilizer 4 has coordinates (4, 2).\n",
      "X-type stabilizer 5 has coordinates (4, 6).\n",
      "X-type stabilizer 6 has coordinates (6, 4).\n",
      "X-type stabilizer 7 has coordinates (6, 8).\n",
      "X-type stabilizer 8 has coordinates (8, 2).\n",
      "X-type stabilizer 9 has coordinates (8, 6).\n",
      "X-type stabilizer 10 has coordinates (10, 4).\n",
      "X-type stabilizer 11 has coordinates (10, 8).\n",
      "Z-type stabilizer 0 has coordinates (4, 0).\n",
      "Z-type stabilizer 1 has coordinates (2, 2).\n",
      "Z-type stabilizer 2 has coordinates (4, 4).\n",
      "Z-type stabilizer 3 has coordinates (2, 6).\n",
      "Z-type stabilizer 4 has coordinates (4, 8).\n",
      "Z-type stabilizer 5 has coordinates (2, 10).\n",
      "Z-type stabilizer 6 has coordinates (8, 0).\n",
      "Z-type stabilizer 7 has coordinates (6, 2).\n",
      "Z-type stabilizer 8 has coordinates (8, 4).\n",
      "Z-type stabilizer 9 has coordinates (6, 6).\n",
      "Z-type stabilizer 10 has coordinates (8, 8).\n",
      "Z-type stabilizer 11 has coordinates (6, 10).\n"
     ]
    }
   ],
   "source": [
    "# Check the index-to-coodinate and coordinate-to-index mappings of the data qubits and stabilizers\n",
    "for j in range(code.n):\n",
    "    row, col = code._dq_to_coord(j)\n",
    "    assert code._coord_to_dq(row, col) == j\n",
    "    print(\"Data qubit {} has coordinates ({}, {}).\".format(j, row, col))\n",
    "\n",
    "for i in range(code.mx):\n",
    "    row, col = code._xstab_to_coord(i)\n",
    "    assert code._coord_to_xstab(row, col) == i\n",
    "    print(\"X-type stabilizer {} has coordinates ({}, {}).\".format(i, row, col))\n",
    "\n",
    "for i in range(code.mz):\n",
    "    row, col = code._zstab_to_coord(i)\n",
    "    assert code._coord_to_zstab(row, col) == i\n",
    "    print(\"Z-type stabilizer {} has coordinates ({}, {}).\".format(i, row, col))"
   ]
  },
  {
   "cell_type": "code",
   "execution_count": 4,
   "id": "486afd64",
   "metadata": {},
   "outputs": [
    {
     "name": "stdout",
     "output_type": "stream",
     "text": [
      "X-type stabilizer 0 involves data qubits [0 1]\n",
      "X-type stabilizer 1 involves data qubits [2 3]\n",
      "X-type stabilizer 2 involves data qubits [1 2 6 7]\n",
      "X-type stabilizer 3 involves data qubits [3 4 8 9]\n",
      "X-type stabilizer 4 involves data qubits [ 5  6 10 11]\n",
      "X-type stabilizer 5 involves data qubits [ 7  8 12 13]\n",
      "X-type stabilizer 6 involves data qubits [11 12 16 17]\n",
      "X-type stabilizer 7 involves data qubits [13 14 18 19]\n",
      "X-type stabilizer 8 involves data qubits [15 16 20 21]\n",
      "X-type stabilizer 9 involves data qubits [17 18 22 23]\n",
      "X-type stabilizer 10 involves data qubits [21 22]\n",
      "X-type stabilizer 11 involves data qubits [23 24]\n",
      "Z-type stabilizer 0 involves data qubits [ 5 10]\n",
      "Z-type stabilizer 1 involves data qubits [0 1 5 6]\n",
      "Z-type stabilizer 2 involves data qubits [ 6  7 11 12]\n",
      "Z-type stabilizer 3 involves data qubits [2 3 7 8]\n",
      "Z-type stabilizer 4 involves data qubits [ 8  9 13 14]\n",
      "Z-type stabilizer 5 involves data qubits [4 9]\n",
      "Z-type stabilizer 6 involves data qubits [15 20]\n",
      "Z-type stabilizer 7 involves data qubits [10 11 15 16]\n",
      "Z-type stabilizer 8 involves data qubits [16 17 21 22]\n",
      "Z-type stabilizer 9 involves data qubits [12 13 17 18]\n",
      "Z-type stabilizer 10 involves data qubits [18 19 23 24]\n",
      "Z-type stabilizer 11 involves data qubits [14 19]\n"
     ]
    }
   ],
   "source": [
    "# Check the stabilizer matrices\n",
    "for i in range(code.mx):\n",
    "    support = code.Hx[i].nonzero()[1]\n",
    "    print(\"X-type stabilizer {} involves data qubits {}\".format(i, support))\n",
    "\n",
    "for i in range(code.mz):\n",
    "    support = code.Hz[i].nonzero()[1]\n",
    "    print(\"Z-type stabilizer {} involves data qubits {}\".format(i, support))"
   ]
  },
  {
   "cell_type": "code",
   "execution_count": 5,
   "id": "97da0332",
   "metadata": {},
   "outputs": [
    {
     "name": "stdout",
     "output_type": "stream",
     "text": [
      "Logical X operator involves data qubits [ 0  5 10 15 20]\n",
      "Logical Z operator involves data qubits [0 1 2 3 4]\n"
     ]
    }
   ],
   "source": [
    "# Check the logical operators\n",
    "print(\"Logical X operator involves data qubits {}\".format(code.Lx[0].nonzero()[1]))\n",
    "print(\"Logical Z operator involves data qubits {}\".format(code.Lz[0].nonzero()[1]))"
   ]
  },
  {
   "cell_type": "code",
   "execution_count": null,
   "id": "b251c833",
   "metadata": {},
   "outputs": [
    {
     "name": "stdout",
     "output_type": "stream",
     "text": [
      "The X-type detector at spacetime location (0, 2, 0) detects errors at spacetime locations [(1, 1, 0), (1, 3, 0), (0, 2, 0)]\n",
      "The X-type detector at spacetime location (0, 6, 0) detects errors at spacetime locations [(1, 5, 0), (1, 7, 0), (0, 6, 0)]\n",
      "The X-type detector at spacetime location (2, 4, 0) detects errors at spacetime locations [(1, 3, 0), (1, 5, 0), (3, 3, 0), (3, 5, 0), (2, 4, 0)]\n",
      "The X-type detector at spacetime location (2, 8, 0) detects errors at spacetime locations [(1, 7, 0), (1, 9, 0), (3, 7, 0), (3, 9, 0), (2, 8, 0)]\n",
      "The X-type detector at spacetime location (4, 2, 0) detects errors at spacetime locations [(3, 1, 0), (3, 3, 0), (5, 1, 0), (5, 3, 0), (4, 2, 0)]\n",
      "The X-type detector at spacetime location (4, 6, 0) detects errors at spacetime locations [(3, 5, 0), (3, 7, 0), (5, 5, 0), (5, 7, 0), (4, 6, 0)]\n",
      "The X-type detector at spacetime location (6, 4, 0) detects errors at spacetime locations [(5, 3, 0), (5, 5, 0), (7, 3, 0), (7, 5, 0), (6, 4, 0)]\n",
      "The X-type detector at spacetime location (6, 8, 0) detects errors at spacetime locations [(5, 7, 0), (5, 9, 0), (7, 7, 0), (7, 9, 0), (6, 8, 0)]\n",
      "The X-type detector at spacetime location (8, 2, 0) detects errors at spacetime locations [(7, 1, 0), (7, 3, 0), (9, 1, 0), (9, 3, 0), (8, 2, 0)]\n",
      "The X-type detector at spacetime location (8, 6, 0) detects errors at spacetime locations [(7, 5, 0), (7, 7, 0), (9, 5, 0), (9, 7, 0), (8, 6, 0)]\n",
      "The X-type detector at spacetime location (10, 4, 0) detects errors at spacetime locations [(9, 3, 0), (9, 5, 0), (10, 4, 0)]\n",
      "The X-type detector at spacetime location (10, 8, 0) detects errors at spacetime locations [(9, 7, 0), (9, 9, 0), (10, 8, 0)]\n",
      "The X-type detector at spacetime location (0, 2, 1) detects errors at spacetime locations [(1, 1, 1), (1, 3, 1), (0, 2, 0), (0, 2, 1)]\n",
      "The X-type detector at spacetime location (0, 6, 1) detects errors at spacetime locations [(1, 5, 1), (1, 7, 1), (0, 6, 0), (0, 6, 1)]\n",
      "The X-type detector at spacetime location (2, 4, 1) detects errors at spacetime locations [(1, 3, 1), (1, 5, 1), (3, 3, 1), (3, 5, 1), (2, 4, 0), (2, 4, 1)]\n",
      "The X-type detector at spacetime location (2, 8, 1) detects errors at spacetime locations [(1, 7, 1), (1, 9, 1), (3, 7, 1), (3, 9, 1), (2, 8, 0), (2, 8, 1)]\n",
      "The X-type detector at spacetime location (4, 2, 1) detects errors at spacetime locations [(3, 1, 1), (3, 3, 1), (5, 1, 1), (5, 3, 1), (4, 2, 0), (4, 2, 1)]\n",
      "The X-type detector at spacetime location (4, 6, 1) detects errors at spacetime locations [(3, 5, 1), (3, 7, 1), (5, 5, 1), (5, 7, 1), (4, 6, 0), (4, 6, 1)]\n",
      "The X-type detector at spacetime location (6, 4, 1) detects errors at spacetime locations [(5, 3, 1), (5, 5, 1), (7, 3, 1), (7, 5, 1), (6, 4, 0), (6, 4, 1)]\n",
      "The X-type detector at spacetime location (6, 8, 1) detects errors at spacetime locations [(5, 7, 1), (5, 9, 1), (7, 7, 1), (7, 9, 1), (6, 8, 0), (6, 8, 1)]\n",
      "The X-type detector at spacetime location (8, 2, 1) detects errors at spacetime locations [(7, 1, 1), (7, 3, 1), (9, 1, 1), (9, 3, 1), (8, 2, 0), (8, 2, 1)]\n",
      "The X-type detector at spacetime location (8, 6, 1) detects errors at spacetime locations [(7, 5, 1), (7, 7, 1), (9, 5, 1), (9, 7, 1), (8, 6, 0), (8, 6, 1)]\n",
      "The X-type detector at spacetime location (10, 4, 1) detects errors at spacetime locations [(9, 3, 1), (9, 5, 1), (10, 4, 0), (10, 4, 1)]\n",
      "The X-type detector at spacetime location (10, 8, 1) detects errors at spacetime locations [(9, 7, 1), (9, 9, 1), (10, 8, 0), (10, 8, 1)]\n",
      "The X-type detector at spacetime location (0, 2, 2) detects errors at spacetime locations [(1, 1, 2), (1, 3, 2), (0, 2, 1)]\n",
      "The X-type detector at spacetime location (0, 6, 2) detects errors at spacetime locations [(1, 5, 2), (1, 7, 2), (0, 6, 1)]\n",
      "The X-type detector at spacetime location (2, 4, 2) detects errors at spacetime locations [(1, 3, 2), (1, 5, 2), (3, 3, 2), (3, 5, 2), (2, 4, 1)]\n",
      "The X-type detector at spacetime location (2, 8, 2) detects errors at spacetime locations [(1, 7, 2), (1, 9, 2), (3, 7, 2), (3, 9, 2), (2, 8, 1)]\n",
      "The X-type detector at spacetime location (4, 2, 2) detects errors at spacetime locations [(3, 1, 2), (3, 3, 2), (5, 1, 2), (5, 3, 2), (4, 2, 1)]\n",
      "The X-type detector at spacetime location (4, 6, 2) detects errors at spacetime locations [(3, 5, 2), (3, 7, 2), (5, 5, 2), (5, 7, 2), (4, 6, 1)]\n",
      "The X-type detector at spacetime location (6, 4, 2) detects errors at spacetime locations [(5, 3, 2), (5, 5, 2), (7, 3, 2), (7, 5, 2), (6, 4, 1)]\n",
      "The X-type detector at spacetime location (6, 8, 2) detects errors at spacetime locations [(5, 7, 2), (5, 9, 2), (7, 7, 2), (7, 9, 2), (6, 8, 1)]\n",
      "The X-type detector at spacetime location (8, 2, 2) detects errors at spacetime locations [(7, 1, 2), (7, 3, 2), (9, 1, 2), (9, 3, 2), (8, 2, 1)]\n",
      "The X-type detector at spacetime location (8, 6, 2) detects errors at spacetime locations [(7, 5, 2), (7, 7, 2), (9, 5, 2), (9, 7, 2), (8, 6, 1)]\n",
      "The X-type detector at spacetime location (10, 4, 2) detects errors at spacetime locations [(9, 3, 2), (9, 5, 2), (10, 4, 1)]\n",
      "The X-type detector at spacetime location (10, 8, 2) detects errors at spacetime locations [(9, 7, 2), (9, 9, 2), (10, 8, 1)]\n",
      "The logical X operator can be flipped by errors at spacetime locations [(1, 1, 0), (3, 1, 0), (5, 1, 0), (7, 1, 0), (9, 1, 0), (1, 1, 1), (3, 1, 1), (5, 1, 1), (7, 1, 1), (9, 1, 1), (1, 1, 2), (3, 1, 2), (5, 1, 2), (7, 1, 2), (9, 1, 2)]\n"
     ]
    }
   ],
   "source": [
    "# Check the X-type check matrix and action matrix for the phenomenological error model with 3 rounds of stabilizer measurements\n",
    "num_round = 3\n",
    "cm, am, _ = code.get_check_matrix_action_matrix_probability_vector(\n",
    "    'phenomenological', 'X', num_round=num_round, dq_error_rate=0.1, meas_error_rate=0.1)\n",
    "\n",
    "def from_detector_idx_to_spacetime_coord(detector_idx):\n",
    "    t, space = divmod(detector_idx, code.mx)\n",
    "    x, y = code._xstab_to_coord(space)\n",
    "    return x, y, t\n",
    "\n",
    "def from_error_idx_to_spacetime_coord(error_idx):\n",
    "    if error_idx < num_round * code.n:\n",
    "        t, space = divmod(error_idx, code.n)\n",
    "        x, y = code._dq_to_coord(space)\n",
    "    else:\n",
    "        t, space = divmod(error_idx - num_round * code.n, code.mx)\n",
    "        x, y = code._xstab_to_coord(space)\n",
    "    return x, y, t\n",
    "\n",
    "for i in range(cm.shape[0]):\n",
    "    detector_spacetime = from_detector_idx_to_spacetime_coord(i)\n",
    "    errors_index = cm[i].nonzero()[1].tolist()\n",
    "    errors_spacetime = [from_error_idx_to_spacetime_coord(j) for j in errors_index]\n",
    "    \n",
    "    print(\"The X-type detector at spacetime location {} detects errors at spacetime locations {}\".format(\n",
    "        detector_spacetime, errors_spacetime))\n",
    "\n",
    "errors_index = am[0].nonzero()[1].tolist()\n",
    "errors_spacetime = [from_error_idx_to_spacetime_coord(j) for j in errors_index]\n",
    "print(\"The logical X operator can be flipped by errors at spacetime locations {}\".format(\n",
    "    errors_spacetime))"
   ]
  },
  {
   "cell_type": "code",
   "execution_count": 8,
   "id": "0b8247f4",
   "metadata": {},
   "outputs": [
    {
     "name": "stdout",
     "output_type": "stream",
     "text": [
      "The Z-type detector at spacetime location (4, 0, 0) detects errors at spacetime locations [(3, 1, 0), (5, 1, 0), (4, 0, 0)]\n",
      "The Z-type detector at spacetime location (2, 2, 0) detects errors at spacetime locations [(1, 1, 0), (1, 3, 0), (3, 1, 0), (3, 3, 0), (2, 2, 0)]\n",
      "The Z-type detector at spacetime location (4, 4, 0) detects errors at spacetime locations [(3, 3, 0), (3, 5, 0), (5, 3, 0), (5, 5, 0), (4, 4, 0)]\n",
      "The Z-type detector at spacetime location (2, 6, 0) detects errors at spacetime locations [(1, 5, 0), (1, 7, 0), (3, 5, 0), (3, 7, 0), (2, 6, 0)]\n",
      "The Z-type detector at spacetime location (4, 8, 0) detects errors at spacetime locations [(3, 7, 0), (3, 9, 0), (5, 7, 0), (5, 9, 0), (4, 8, 0)]\n",
      "The Z-type detector at spacetime location (2, 10, 0) detects errors at spacetime locations [(1, 9, 0), (3, 9, 0), (2, 10, 0)]\n",
      "The Z-type detector at spacetime location (8, 0, 0) detects errors at spacetime locations [(7, 1, 0), (9, 1, 0), (8, 0, 0)]\n",
      "The Z-type detector at spacetime location (6, 2, 0) detects errors at spacetime locations [(5, 1, 0), (5, 3, 0), (7, 1, 0), (7, 3, 0), (6, 2, 0)]\n",
      "The Z-type detector at spacetime location (8, 4, 0) detects errors at spacetime locations [(7, 3, 0), (7, 5, 0), (9, 3, 0), (9, 5, 0), (8, 4, 0)]\n",
      "The Z-type detector at spacetime location (6, 6, 0) detects errors at spacetime locations [(5, 5, 0), (5, 7, 0), (7, 5, 0), (7, 7, 0), (6, 6, 0)]\n",
      "The Z-type detector at spacetime location (8, 8, 0) detects errors at spacetime locations [(7, 7, 0), (7, 9, 0), (9, 7, 0), (9, 9, 0), (8, 8, 0)]\n",
      "The Z-type detector at spacetime location (6, 10, 0) detects errors at spacetime locations [(5, 9, 0), (7, 9, 0), (6, 10, 0)]\n",
      "The Z-type detector at spacetime location (4, 0, 1) detects errors at spacetime locations [(3, 1, 1), (5, 1, 1), (4, 0, 0), (4, 0, 1)]\n",
      "The Z-type detector at spacetime location (2, 2, 1) detects errors at spacetime locations [(1, 1, 1), (1, 3, 1), (3, 1, 1), (3, 3, 1), (2, 2, 0), (2, 2, 1)]\n",
      "The Z-type detector at spacetime location (4, 4, 1) detects errors at spacetime locations [(3, 3, 1), (3, 5, 1), (5, 3, 1), (5, 5, 1), (4, 4, 0), (4, 4, 1)]\n",
      "The Z-type detector at spacetime location (2, 6, 1) detects errors at spacetime locations [(1, 5, 1), (1, 7, 1), (3, 5, 1), (3, 7, 1), (2, 6, 0), (2, 6, 1)]\n",
      "The Z-type detector at spacetime location (4, 8, 1) detects errors at spacetime locations [(3, 7, 1), (3, 9, 1), (5, 7, 1), (5, 9, 1), (4, 8, 0), (4, 8, 1)]\n",
      "The Z-type detector at spacetime location (2, 10, 1) detects errors at spacetime locations [(1, 9, 1), (3, 9, 1), (2, 10, 0), (2, 10, 1)]\n",
      "The Z-type detector at spacetime location (8, 0, 1) detects errors at spacetime locations [(7, 1, 1), (9, 1, 1), (8, 0, 0), (8, 0, 1)]\n",
      "The Z-type detector at spacetime location (6, 2, 1) detects errors at spacetime locations [(5, 1, 1), (5, 3, 1), (7, 1, 1), (7, 3, 1), (6, 2, 0), (6, 2, 1)]\n",
      "The Z-type detector at spacetime location (8, 4, 1) detects errors at spacetime locations [(7, 3, 1), (7, 5, 1), (9, 3, 1), (9, 5, 1), (8, 4, 0), (8, 4, 1)]\n",
      "The Z-type detector at spacetime location (6, 6, 1) detects errors at spacetime locations [(5, 5, 1), (5, 7, 1), (7, 5, 1), (7, 7, 1), (6, 6, 0), (6, 6, 1)]\n",
      "The Z-type detector at spacetime location (8, 8, 1) detects errors at spacetime locations [(7, 7, 1), (7, 9, 1), (9, 7, 1), (9, 9, 1), (8, 8, 0), (8, 8, 1)]\n",
      "The Z-type detector at spacetime location (6, 10, 1) detects errors at spacetime locations [(5, 9, 1), (7, 9, 1), (6, 10, 0), (6, 10, 1)]\n",
      "The Z-type detector at spacetime location (4, 0, 2) detects errors at spacetime locations [(3, 1, 2), (5, 1, 2), (4, 0, 1)]\n",
      "The Z-type detector at spacetime location (2, 2, 2) detects errors at spacetime locations [(1, 1, 2), (1, 3, 2), (3, 1, 2), (3, 3, 2), (2, 2, 1)]\n",
      "The Z-type detector at spacetime location (4, 4, 2) detects errors at spacetime locations [(3, 3, 2), (3, 5, 2), (5, 3, 2), (5, 5, 2), (4, 4, 1)]\n",
      "The Z-type detector at spacetime location (2, 6, 2) detects errors at spacetime locations [(1, 5, 2), (1, 7, 2), (3, 5, 2), (3, 7, 2), (2, 6, 1)]\n",
      "The Z-type detector at spacetime location (4, 8, 2) detects errors at spacetime locations [(3, 7, 2), (3, 9, 2), (5, 7, 2), (5, 9, 2), (4, 8, 1)]\n",
      "The Z-type detector at spacetime location (2, 10, 2) detects errors at spacetime locations [(1, 9, 2), (3, 9, 2), (2, 10, 1)]\n",
      "The Z-type detector at spacetime location (8, 0, 2) detects errors at spacetime locations [(7, 1, 2), (9, 1, 2), (8, 0, 1)]\n",
      "The Z-type detector at spacetime location (6, 2, 2) detects errors at spacetime locations [(5, 1, 2), (5, 3, 2), (7, 1, 2), (7, 3, 2), (6, 2, 1)]\n",
      "The Z-type detector at spacetime location (8, 4, 2) detects errors at spacetime locations [(7, 3, 2), (7, 5, 2), (9, 3, 2), (9, 5, 2), (8, 4, 1)]\n",
      "The Z-type detector at spacetime location (6, 6, 2) detects errors at spacetime locations [(5, 5, 2), (5, 7, 2), (7, 5, 2), (7, 7, 2), (6, 6, 1)]\n",
      "The Z-type detector at spacetime location (8, 8, 2) detects errors at spacetime locations [(7, 7, 2), (7, 9, 2), (9, 7, 2), (9, 9, 2), (8, 8, 1)]\n",
      "The Z-type detector at spacetime location (6, 10, 2) detects errors at spacetime locations [(5, 9, 2), (7, 9, 2), (6, 10, 1)]\n",
      "The logical Z operator can be flipped by errors at spacetime locations [(1, 1, 0), (1, 3, 0), (1, 5, 0), (1, 7, 0), (1, 9, 0), (1, 1, 1), (1, 3, 1), (1, 5, 1), (1, 7, 1), (1, 9, 1), (1, 1, 2), (1, 3, 2), (1, 5, 2), (1, 7, 2), (1, 9, 2)]\n"
     ]
    }
   ],
   "source": [
    "# Check the Z-type check matrix and action matrix for the phenomenological error model with 3 rounds of stabilizer measurements\n",
    "num_round = 3\n",
    "cm, am, _ = code.get_check_matrix_action_matrix_probability_vector(\n",
    "    'phenomenological', 'Z', num_round=num_round, dq_error_rate=0.1, meas_error_rate=0.1)\n",
    "\n",
    "def from_detector_idx_to_spacetime_coord(detector_idx):\n",
    "    t, space = divmod(detector_idx, code.mz)\n",
    "    x, y = code._zstab_to_coord(space)\n",
    "    return x, y, t\n",
    "\n",
    "def from_error_idx_to_spacetime_coord(error_idx):\n",
    "    if error_idx < num_round * code.n:\n",
    "        t, space = divmod(error_idx, code.n)\n",
    "        x, y = code._dq_to_coord(space)\n",
    "    else:\n",
    "        t, space = divmod(error_idx - num_round * code.n, code.mz)\n",
    "        x, y = code._zstab_to_coord(space)\n",
    "    return x, y, t\n",
    "\n",
    "for i in range(cm.shape[0]):\n",
    "    detector_spacetime = from_detector_idx_to_spacetime_coord(i)\n",
    "    errors_index = cm[i].nonzero()[1].tolist()\n",
    "    errors_spacetime = [from_error_idx_to_spacetime_coord(j) for j in errors_index]\n",
    "    \n",
    "    print(\"The Z-type detector at spacetime location {} detects errors at spacetime locations {}\".format(\n",
    "        detector_spacetime, errors_spacetime))\n",
    "\n",
    "errors_index = am[0].nonzero()[1].tolist()\n",
    "errors_spacetime = [from_error_idx_to_spacetime_coord(j) for j in errors_index]\n",
    "print(\"The logical Z operator can be flipped by errors at spacetime locations {}\".format(\n",
    "    errors_spacetime))"
   ]
  },
  {
   "cell_type": "markdown",
   "id": "9e197db1",
   "metadata": {},
   "source": [
    "# BP decoder vs RelayBP decoder"
   ]
  },
  {
   "cell_type": "code",
   "execution_count": null,
   "id": "3fa8022c",
   "metadata": {},
   "outputs": [
    {
     "name": "stdout",
     "output_type": "stream",
     "text": [
      "Has the BP decoder decoded the error correctly? False\n",
      "Has the RelayBP decoder decoded the error correctly? True\n"
     ]
    }
   ],
   "source": [
    "code = RotatedSurfaceCode(5)\n",
    "cm, am, p = code.get_check_matrix_action_matrix_probability_vector('code-capacity', 'X', dq_error_rate=0.01)\n",
    "\n",
    "# Define error pattern and calculate syndrome\n",
    "true_error = np.zeros(code.n, dtype=np.uint8)\n",
    "true_error[code._coord_to_dq(9, 1)] = 1  # Z error on the data qubit at the bottom-left corner\n",
    "syndrome = (cm @ true_error) % 2\n",
    "\n",
    "# Construct decoder\n",
    "bp = BPDecoder(\n",
    "    H=cm, \n",
    "    prior=p, \n",
    "    max_iter=code.n\n",
    ")\n",
    "\n",
    "num_sol=1\n",
    "max_leg=5  # choice in the paper: 301\n",
    "max_iter_list = [80] + [60] * (max_leg - 1)\n",
    "np.random.seed(0)\n",
    "mem_strength = -0.25 + 0.85 / 2 * np.random.uniform(-1, 1, size=(max_leg, code.n))\n",
    "mem_strength[0, :] = 0.35\n",
    "relaybp = RelayBPDecoder(\n",
    "    H=cm,\n",
    "    prior=p,\n",
    "    num_sol=num_sol,\n",
    "    max_leg=max_leg,\n",
    "    mem_strength=mem_strength,\n",
    "    max_iter_list=max_iter_list\n",
    ")\n",
    "\n",
    "# Decode\n",
    "decoded_error_bp = bp.decode(syndrome)\n",
    "decoded_error_relaybp = relaybp.decode(syndrome)\n",
    "\n",
    "# Print the result\n",
    "residual_error_bp = (decoded_error_bp + true_error) % 2\n",
    "residual_syndrome_bp = (cm @ residual_error_bp) % 2\n",
    "residual_action_bp = (am @ residual_error_bp) % 2\n",
    "print(\"Has the BP decoder decoded the error correctly? {}\".format(\n",
    "    np.all(residual_syndrome_bp == 0) and np.all(residual_action_bp == 0)))\n",
    "\n",
    "residual_error_relaybp = (decoded_error_relaybp + true_error) % 2\n",
    "residual_syndrome_relaybp = (cm @ residual_error_relaybp) % 2\n",
    "residual_action_relaybp = (am @ residual_error_relaybp) % 2\n",
    "print(\"Has the RelayBP decoder decoded the error correctly? {}\".format(\n",
    "    np.all(residual_syndrome_relaybp == 0) and np.all(residual_action_relaybp == 0)))"
   ]
  },
  {
   "cell_type": "markdown",
   "id": "f02f2e73",
   "metadata": {},
   "source": [
    "# Monte Carlo simulation under code-capacity noise model"
   ]
  },
  {
   "cell_type": "markdown",
   "id": "ea89d843",
   "metadata": {},
   "source": [
    "#### MWPM decoder (from `pymatching` package)"
   ]
  },
  {
   "cell_type": "code",
   "execution_count": 2,
   "id": "e6124f08",
   "metadata": {},
   "outputs": [],
   "source": [
    "N = 3000 # number of samples\n",
    "\n",
    "d_list = list(range(5, 14, 4)) # code distance\n",
    "per_list = np.linspace(0.01, 0.2, 20).tolist() # physical error rate\n",
    "ler_array = np.zeros((len(d_list), len(per_list))) # logical error rate\n",
    "\n",
    "for i, d in enumerate(d_list):\n",
    "    # Construct the code\n",
    "    code = RotatedSurfaceCode(d)\n",
    "\n",
    "    for j, per in enumerate(per_list):\n",
    "        # Get check matrix, action matrix, and probability vector. We focus on X-type stabilizers.\n",
    "        cm, am, p = code.get_check_matrix_action_matrix_probability_vector('code-capacity', 'X', dq_error_rate=per)\n",
    "        # Sample error patterns and calculate syndromes\n",
    "        true_error, syndrome = sample_error_and_syndrome(cm, p, N, seed=42)\n",
    "        # Construct decoder\n",
    "        matching = pymatching.Matching.from_check_matrix(cm, weights=np.log((1 - p) / p))\n",
    "        # Decode\n",
    "        decoded_error = matching.decode_batch(syndrome)\n",
    "        # Calculate logical error rate\n",
    "        ler = get_logical_error_rate(cm, am, true_error, decoded_error)\n",
    "        # Store the result\n",
    "        ler_array[i, j] = ler\n"
   ]
  },
  {
   "cell_type": "code",
   "execution_count": 3,
   "id": "935b8cb7",
   "metadata": {},
   "outputs": [
    {
     "data": {
      "image/png": "[encoded data removed]",
      "text/plain": [
       "<Figure size 640x480 with 1 Axes>"
      ]
     },
     "metadata": {},
     "output_type": "display_data"
    }
   ],
   "source": [
    "plt.figure()\n",
    "for i, d in enumerate(d_list):\n",
    "    ler = ler_array[i]\n",
    "    std_err = (ler * (1 - ler) / N) ** 0.5\n",
    "    plt.errorbar(per_list, ler, yerr=std_err, label=\"d={}\".format(d))\n",
    "plt.xlabel(\"Physical error rate\")\n",
    "plt.ylabel(\"Logical error rate\")\n",
    "plt.grid(True)\n",
    "plt.legend()\n",
    "plt.title(\"MWPM decoder, code-capacity noise model\")\n",
    "plt.show()"
   ]
  },
  {
   "cell_type": "markdown",
   "id": "cd024049",
   "metadata": {},
   "source": [
    "#### BP+OSD decoder (from `ldpc` package)"
   ]
  },
  {
   "cell_type": "code",
   "execution_count": 4,
   "id": "9158ed42",
   "metadata": {},
   "outputs": [],
   "source": [
    "N = 3000 # number of samples\n",
    "\n",
    "d_list = list(range(5, 14, 4)) # code distance\n",
    "per_list = np.linspace(0.01, 0.2, 9).tolist() # physical error rate\n",
    "ler_array = np.zeros((len(d_list), len(per_list))) # logical error rate\n",
    "\n",
    "for i, d in enumerate(d_list):\n",
    "    # Construct the code\n",
    "    code = RotatedSurfaceCode(d)\n",
    "\n",
    "    for j, per in enumerate(per_list):\n",
    "        # Get check matrix, action matrix, and probability vector. We focus on X-type stabilizers.\n",
    "        cm, am, p = code.get_check_matrix_action_matrix_probability_vector('code-capacity', 'X', dq_error_rate=per)\n",
    "        # Sample error patterns and calculate syndromes\n",
    "        true_error, syndrome = sample_error_and_syndrome(cm, p, N, seed=42)\n",
    "        # Construct decoder\n",
    "        decoder = ldpc.BpOsdDecoder(\n",
    "            pcm=cm,\n",
    "            error_channel=p.tolist(),\n",
    "            bp_method='minimum_sum',\n",
    "            max_iter=len(p),\n",
    "            schedule='parallel', # 'serial'\n",
    "            osd_method='osd_cs',\n",
    "            osd_order=2\n",
    "        )\n",
    "        # Decode\n",
    "        decoded_error = []\n",
    "        for ii in range(N):\n",
    "            decoded_error.append(decoder.decode(syndrome[ii]))\n",
    "        decoded_error = np.array(decoded_error, dtype=np.uint8)\n",
    "        # Calculate logical error rate\n",
    "        ler = get_logical_error_rate(cm, am, true_error, decoded_error)\n",
    "        # Store the result\n",
    "        ler_array[i, j] = ler"
   ]
  },
  {
   "cell_type": "code",
   "execution_count": 5,
   "id": "c86d963a",
   "metadata": {},
   "outputs": [
    {
     "data": {
      "image/png": "[encoded data removed]",
      "text/plain": [
       "<Figure size 640x480 with 1 Axes>"
      ]
     },
     "metadata": {},
     "output_type": "display_data"
    }
   ],
   "source": [
    "plt.figure()\n",
    "for i, d in enumerate(d_list):\n",
    "    ler = ler_array[i]\n",
    "    std_err = (ler * (1 - ler) / N) ** 0.5\n",
    "    plt.errorbar(per_list, ler, yerr=std_err, label=\"d={}\".format(d))\n",
    "plt.xlabel(\"Physical error rate\")\n",
    "plt.ylabel(\"Logical error rate\")\n",
    "plt.grid(True)\n",
    "plt.legend()\n",
    "plt.title(\"BP+OSD decoder, code-capacity noise model\")\n",
    "plt.show()"
   ]
  },
  {
   "cell_type": "markdown",
   "id": "073e25f3",
   "metadata": {},
   "source": [
    "#### BP decoder (from `ldpc` package)"
   ]
  },
  {
   "cell_type": "code",
   "execution_count": 16,
   "id": "6fcb410a",
   "metadata": {},
   "outputs": [],
   "source": [
    "N = 1000 # number of samples\n",
    "\n",
    "d_list = list(range(5, 10, 2)) # code distance\n",
    "per_list = np.linspace(0.001, 0.1, 9).tolist() # physical error rate\n",
    "ler_array = np.zeros((len(d_list), len(per_list))) # logical error rate\n",
    "\n",
    "for i, d in enumerate(d_list):\n",
    "    # Construct the code\n",
    "    code = RotatedSurfaceCode(d)\n",
    "\n",
    "    for j, per in enumerate(per_list):\n",
    "        # Get check matrix, action matrix, and probability vector. We focus on X-type stabilizers.\n",
    "        cm, am, p = code.get_check_matrix_action_matrix_probability_vector('code-capacity', 'X', dq_error_rate=per)\n",
    "        # Sample error patterns and calculate syndromes\n",
    "        true_error, syndrome = sample_error_and_syndrome(cm, p, N, seed=42)\n",
    "        # Construct decoder\n",
    "        decoder = ldpc.BpDecoder(\n",
    "            pcm=cm,\n",
    "            error_channel=p.tolist(),\n",
    "            bp_method='minimum_sum',\n",
    "            max_iter=len(p),\n",
    "            schedule='parallel', # 'serial'\n",
    "        )\n",
    "        # Decode\n",
    "        decoded_error = []\n",
    "        for ii in range(N):\n",
    "            decoded_error.append(decoder.decode(syndrome[ii]))\n",
    "        decoded_error = np.array(decoded_error, dtype=np.uint8)\n",
    "        # Calculate logical error rate\n",
    "        ler = get_logical_error_rate(cm, am, true_error, decoded_error)\n",
    "        # Store the result\n",
    "        ler_array[i, j] = ler"
   ]
  },
  {
   "cell_type": "code",
   "execution_count": 17,
   "id": "0b82fbf5",
   "metadata": {},
   "outputs": [
    {
     "data": {
      "image/png": "[encoded data removed]",
      "text/plain": [
       "<Figure size 640x480 with 1 Axes>"
      ]
     },
     "metadata": {},
     "output_type": "display_data"
    }
   ],
   "source": [
    "plt.figure()\n",
    "for i, d in enumerate(d_list):\n",
    "    ler = ler_array[i]\n",
    "    std_err = (ler * (1 - ler) / N) ** 0.5\n",
    "    plt.errorbar(per_list, ler, yerr=std_err, label=\"d={}\".format(d))\n",
    "plt.xlabel(\"Physical error rate\")\n",
    "plt.ylabel(\"Logical error rate\")\n",
    "plt.grid(True)\n",
    "plt.legend()\n",
    "plt.title(\"BP decoder, code-capacity noise model\")\n",
    "plt.show()"
   ]
  },
  {
   "cell_type": "markdown",
   "id": "4769bafc",
   "metadata": {},
   "source": [
    "#### BP decoder (my implementation)"
   ]
  },
  {
   "cell_type": "code",
   "execution_count": 5,
   "id": "f7e6fc74",
   "metadata": {},
   "outputs": [
    {
     "name": "stderr",
     "output_type": "stream",
     "text": [
      "100%|██████████| 1000/1000 [00:00<00:00, 1418.57it/s]\n"
     ]
    },
    {
     "name": "stdout",
     "output_type": "stream",
     "text": [
      "d=5, per=0.001, ler=0.008\n"
     ]
    },
    {
     "name": "stderr",
     "output_type": "stream",
     "text": [
      "100%|██████████| 1000/1000 [00:01<00:00, 893.80it/s]\n"
     ]
    },
    {
     "name": "stdout",
     "output_type": "stream",
     "text": [
      "d=5, per=0.013375000000000001, ler=0.095\n"
     ]
    },
    {
     "name": "stderr",
     "output_type": "stream",
     "text": [
      "100%|██████████| 1000/1000 [00:01<00:00, 564.29it/s]\n"
     ]
    },
    {
     "name": "stdout",
     "output_type": "stream",
     "text": [
      "d=5, per=0.025750000000000002, ler=0.183\n"
     ]
    },
    {
     "name": "stderr",
     "output_type": "stream",
     "text": [
      "100%|██████████| 1000/1000 [00:02<00:00, 400.61it/s]\n"
     ]
    },
    {
     "name": "stdout",
     "output_type": "stream",
     "text": [
      "d=5, per=0.038125000000000006, ler=0.26\n"
     ]
    },
    {
     "name": "stderr",
     "output_type": "stream",
     "text": [
      "100%|██████████| 1000/1000 [00:03<00:00, 269.80it/s]\n"
     ]
    },
    {
     "name": "stdout",
     "output_type": "stream",
     "text": [
      "d=5, per=0.0505, ler=0.34\n"
     ]
    },
    {
     "name": "stderr",
     "output_type": "stream",
     "text": [
      "100%|██████████| 1000/1000 [00:04<00:00, 234.56it/s]\n"
     ]
    },
    {
     "name": "stdout",
     "output_type": "stream",
     "text": [
      "d=5, per=0.062875, ler=0.417\n"
     ]
    },
    {
     "name": "stderr",
     "output_type": "stream",
     "text": [
      "100%|██████████| 1000/1000 [00:04<00:00, 239.88it/s]\n"
     ]
    },
    {
     "name": "stdout",
     "output_type": "stream",
     "text": [
      "d=5, per=0.07525000000000001, ler=0.488\n"
     ]
    },
    {
     "name": "stderr",
     "output_type": "stream",
     "text": [
      "100%|██████████| 1000/1000 [00:04<00:00, 222.99it/s]\n"
     ]
    },
    {
     "name": "stdout",
     "output_type": "stream",
     "text": [
      "d=5, per=0.08762500000000001, ler=0.566\n"
     ]
    },
    {
     "name": "stderr",
     "output_type": "stream",
     "text": [
      "100%|██████████| 1000/1000 [00:05<00:00, 195.68it/s]\n"
     ]
    },
    {
     "name": "stdout",
     "output_type": "stream",
     "text": [
      "d=5, per=0.1, ler=0.618\n"
     ]
    },
    {
     "name": "stderr",
     "output_type": "stream",
     "text": [
      "100%|██████████| 1000/1000 [00:01<00:00, 975.88it/s]\n"
     ]
    },
    {
     "name": "stdout",
     "output_type": "stream",
     "text": [
      "d=7, per=0.001, ler=0.012\n"
     ]
    },
    {
     "name": "stderr",
     "output_type": "stream",
     "text": [
      "100%|██████████| 1000/1000 [00:05<00:00, 188.60it/s]\n"
     ]
    },
    {
     "name": "stdout",
     "output_type": "stream",
     "text": [
      "d=7, per=0.013375000000000001, ler=0.152\n"
     ]
    },
    {
     "name": "stderr",
     "output_type": "stream",
     "text": [
      "100%|██████████| 1000/1000 [00:09<00:00, 105.41it/s]\n"
     ]
    },
    {
     "name": "stdout",
     "output_type": "stream",
     "text": [
      "d=7, per=0.025750000000000002, ler=0.291\n"
     ]
    },
    {
     "name": "stderr",
     "output_type": "stream",
     "text": [
      "100%|██████████| 1000/1000 [00:13<00:00, 74.74it/s]\n"
     ]
    },
    {
     "name": "stdout",
     "output_type": "stream",
     "text": [
      "d=7, per=0.038125000000000006, ler=0.406\n"
     ]
    },
    {
     "name": "stderr",
     "output_type": "stream",
     "text": [
      "100%|██████████| 1000/1000 [00:16<00:00, 59.08it/s]\n"
     ]
    },
    {
     "name": "stdout",
     "output_type": "stream",
     "text": [
      "d=7, per=0.0505, ler=0.528\n"
     ]
    },
    {
     "name": "stderr",
     "output_type": "stream",
     "text": [
      "100%|██████████| 1000/1000 [00:19<00:00, 51.44it/s]\n"
     ]
    },
    {
     "name": "stdout",
     "output_type": "stream",
     "text": [
      "d=7, per=0.062875, ler=0.632\n"
     ]
    },
    {
     "name": "stderr",
     "output_type": "stream",
     "text": [
      "100%|██████████| 1000/1000 [00:21<00:00, 46.18it/s]\n"
     ]
    },
    {
     "name": "stdout",
     "output_type": "stream",
     "text": [
      "d=7, per=0.07525000000000001, ler=0.705\n"
     ]
    },
    {
     "name": "stderr",
     "output_type": "stream",
     "text": [
      "100%|██████████| 1000/1000 [00:23<00:00, 42.93it/s]\n"
     ]
    },
    {
     "name": "stdout",
     "output_type": "stream",
     "text": [
      "d=7, per=0.08762500000000001, ler=0.766\n"
     ]
    },
    {
     "name": "stderr",
     "output_type": "stream",
     "text": [
      "100%|██████████| 1000/1000 [00:25<00:00, 39.80it/s]\n"
     ]
    },
    {
     "name": "stdout",
     "output_type": "stream",
     "text": [
      "d=7, per=0.1, ler=0.818\n"
     ]
    },
    {
     "name": "stderr",
     "output_type": "stream",
     "text": [
      "100%|██████████| 1000/1000 [00:02<00:00, 368.05it/s]\n"
     ]
    },
    {
     "name": "stdout",
     "output_type": "stream",
     "text": [
      "d=9, per=0.001, ler=0.019\n"
     ]
    },
    {
     "name": "stderr",
     "output_type": "stream",
     "text": [
      "100%|██████████| 1000/1000 [00:18<00:00, 54.79it/s]\n"
     ]
    },
    {
     "name": "stdout",
     "output_type": "stream",
     "text": [
      "d=9, per=0.013375000000000001, ler=0.194\n"
     ]
    },
    {
     "name": "stderr",
     "output_type": "stream",
     "text": [
      "100%|██████████| 1000/1000 [00:33<00:00, 29.59it/s]\n"
     ]
    },
    {
     "name": "stdout",
     "output_type": "stream",
     "text": [
      "d=9, per=0.025750000000000002, ler=0.383\n"
     ]
    },
    {
     "name": "stderr",
     "output_type": "stream",
     "text": [
      "100%|██████████| 1000/1000 [00:46<00:00, 21.49it/s]\n"
     ]
    },
    {
     "name": "stdout",
     "output_type": "stream",
     "text": [
      "d=9, per=0.038125000000000006, ler=0.535\n"
     ]
    },
    {
     "name": "stderr",
     "output_type": "stream",
     "text": [
      "100%|██████████| 1000/1000 [00:58<00:00, 17.19it/s]\n"
     ]
    },
    {
     "name": "stdout",
     "output_type": "stream",
     "text": [
      "d=9, per=0.0505, ler=0.668\n"
     ]
    },
    {
     "name": "stderr",
     "output_type": "stream",
     "text": [
      "100%|██████████| 1000/1000 [01:10<00:00, 14.20it/s]\n"
     ]
    },
    {
     "name": "stdout",
     "output_type": "stream",
     "text": [
      "d=9, per=0.062875, ler=0.773\n"
     ]
    },
    {
     "name": "stderr",
     "output_type": "stream",
     "text": [
      "100%|██████████| 1000/1000 [01:18<00:00, 12.82it/s]\n"
     ]
    },
    {
     "name": "stdout",
     "output_type": "stream",
     "text": [
      "d=9, per=0.07525000000000001, ler=0.846\n"
     ]
    },
    {
     "name": "stderr",
     "output_type": "stream",
     "text": [
      "100%|██████████| 1000/1000 [01:20<00:00, 12.37it/s]\n"
     ]
    },
    {
     "name": "stdout",
     "output_type": "stream",
     "text": [
      "d=9, per=0.08762500000000001, ler=0.884\n"
     ]
    },
    {
     "name": "stderr",
     "output_type": "stream",
     "text": [
      "100%|██████████| 1000/1000 [01:21<00:00, 12.35it/s]"
     ]
    },
    {
     "name": "stdout",
     "output_type": "stream",
     "text": [
      "d=9, per=0.1, ler=0.925\n"
     ]
    },
    {
     "name": "stderr",
     "output_type": "stream",
     "text": [
      "\n"
     ]
    }
   ],
   "source": [
    "N = 1000 # number of samples\n",
    "\n",
    "d_list = list(range(5, 10, 2)) # code distance\n",
    "per_list = np.linspace(0.001, 0.1, 9).tolist() # physical error rate\n",
    "ler_array = np.zeros((len(d_list), len(per_list))) # logical error rate\n",
    "\n",
    "for i, d in enumerate(d_list):\n",
    "    # Construct the code\n",
    "    code = RotatedSurfaceCode(d)\n",
    "\n",
    "    for j, per in enumerate(per_list):\n",
    "        # Get check matrix, action matrix, and probability vector. We focus on X-type stabilizers.\n",
    "        cm, am, p = code.get_check_matrix_action_matrix_probability_vector('code-capacity', 'X', dq_error_rate=per)\n",
    "        # Sample error patterns and calculate syndromes\n",
    "        true_error, syndrome = sample_error_and_syndrome(cm, p, N, seed=42)\n",
    "        # Construct decoder\n",
    "        decoder = BPDecoder(cm, p, max_iter=len(p))\n",
    "        # Decode\n",
    "        decoded_error = decoder.decode_batch(syndrome)\n",
    "        # Calculate logical error rate\n",
    "        ler = get_logical_error_rate(cm, am, true_error, decoded_error)\n",
    "        # Store the result\n",
    "        ler_array[i, j] = ler\n",
    "\n",
    "        print(f\"d={d}, per={per}, ler={ler}\")"
   ]
  },
  {
   "cell_type": "code",
   "execution_count": 6,
   "id": "30188397",
   "metadata": {},
   "outputs": [
    {
     "data": {
      "image/png": "[encoded data removed]",
      "text/plain": [
       "<Figure size 640x480 with 1 Axes>"
      ]
     },
     "metadata": {},
     "output_type": "display_data"
    }
   ],
   "source": [
    "plt.figure()\n",
    "for i, d in enumerate(d_list):\n",
    "    ler = ler_array[i]\n",
    "    std_err = (ler * (1 - ler) / N) ** 0.5\n",
    "    plt.errorbar(per_list, ler, yerr=std_err, label=\"d={}\".format(d))\n",
    "plt.xlabel(\"Physical error rate\")\n",
    "plt.ylabel(\"Logical error rate\")\n",
    "plt.grid(True)\n",
    "plt.legend()\n",
    "plt.title(\"BP decoder, code-capacity noise model\")\n",
    "plt.show()"
   ]
  },
  {
   "cell_type": "markdown",
   "id": "390d2f2b",
   "metadata": {},
   "source": [
    "#### Relay-BP decoder"
   ]
  },
  {
   "cell_type": "code",
   "execution_count": 7,
   "id": "2bfbbb07",
   "metadata": {},
   "outputs": [
    {
     "name": "stderr",
     "output_type": "stream",
     "text": [
      "100%|██████████| 1000/1000 [00:00<00:00, 1025.82it/s]\n"
     ]
    },
    {
     "name": "stdout",
     "output_type": "stream",
     "text": [
      "d=5, per=0.001, ler=0.0\n"
     ]
    },
    {
     "name": "stderr",
     "output_type": "stream",
     "text": [
      "100%|██████████| 1000/1000 [00:06<00:00, 149.50it/s]\n"
     ]
    },
    {
     "name": "stdout",
     "output_type": "stream",
     "text": [
      "d=5, per=0.013375000000000001, ler=0.006\n"
     ]
    },
    {
     "name": "stderr",
     "output_type": "stream",
     "text": [
      "100%|██████████| 1000/1000 [00:12<00:00, 77.78it/s]\n"
     ]
    },
    {
     "name": "stdout",
     "output_type": "stream",
     "text": [
      "d=5, per=0.025750000000000002, ler=0.016\n"
     ]
    },
    {
     "name": "stderr",
     "output_type": "stream",
     "text": [
      "100%|██████████| 1000/1000 [00:18<00:00, 53.20it/s]\n"
     ]
    },
    {
     "name": "stdout",
     "output_type": "stream",
     "text": [
      "d=5, per=0.038125000000000006, ler=0.038\n"
     ]
    },
    {
     "name": "stderr",
     "output_type": "stream",
     "text": [
      "100%|██████████| 1000/1000 [00:24<00:00, 40.91it/s]\n"
     ]
    },
    {
     "name": "stdout",
     "output_type": "stream",
     "text": [
      "d=5, per=0.0505, ler=0.063\n"
     ]
    },
    {
     "name": "stderr",
     "output_type": "stream",
     "text": [
      "100%|██████████| 1000/1000 [00:31<00:00, 31.97it/s]\n"
     ]
    },
    {
     "name": "stdout",
     "output_type": "stream",
     "text": [
      "d=5, per=0.062875, ler=0.106\n"
     ]
    },
    {
     "name": "stderr",
     "output_type": "stream",
     "text": [
      "100%|██████████| 1000/1000 [00:34<00:00, 28.75it/s]\n"
     ]
    },
    {
     "name": "stdout",
     "output_type": "stream",
     "text": [
      "d=5, per=0.07525000000000001, ler=0.148\n"
     ]
    },
    {
     "name": "stderr",
     "output_type": "stream",
     "text": [
      "100%|██████████| 1000/1000 [00:43<00:00, 23.20it/s]\n"
     ]
    },
    {
     "name": "stdout",
     "output_type": "stream",
     "text": [
      "d=5, per=0.08762500000000001, ler=0.192\n"
     ]
    },
    {
     "name": "stderr",
     "output_type": "stream",
     "text": [
      "100%|██████████| 1000/1000 [00:44<00:00, 22.60it/s]\n"
     ]
    },
    {
     "name": "stdout",
     "output_type": "stream",
     "text": [
      "d=5, per=0.1, ler=0.228\n"
     ]
    },
    {
     "name": "stderr",
     "output_type": "stream",
     "text": [
      "100%|██████████| 1000/1000 [00:02<00:00, 414.98it/s]\n"
     ]
    },
    {
     "name": "stdout",
     "output_type": "stream",
     "text": [
      "d=7, per=0.001, ler=0.005\n"
     ]
    },
    {
     "name": "stderr",
     "output_type": "stream",
     "text": [
      "100%|██████████| 1000/1000 [00:23<00:00, 42.18it/s]\n"
     ]
    },
    {
     "name": "stdout",
     "output_type": "stream",
     "text": [
      "d=7, per=0.013375000000000001, ler=0.07\n"
     ]
    },
    {
     "name": "stderr",
     "output_type": "stream",
     "text": [
      "100%|██████████| 1000/1000 [00:43<00:00, 23.03it/s]\n"
     ]
    },
    {
     "name": "stdout",
     "output_type": "stream",
     "text": [
      "d=7, per=0.025750000000000002, ler=0.119\n"
     ]
    },
    {
     "name": "stderr",
     "output_type": "stream",
     "text": [
      "100%|██████████| 1000/1000 [01:00<00:00, 16.66it/s]\n"
     ]
    },
    {
     "name": "stdout",
     "output_type": "stream",
     "text": [
      "d=7, per=0.038125000000000006, ler=0.186\n"
     ]
    },
    {
     "name": "stderr",
     "output_type": "stream",
     "text": [
      "100%|██████████| 1000/1000 [01:18<00:00, 12.73it/s]\n"
     ]
    },
    {
     "name": "stdout",
     "output_type": "stream",
     "text": [
      "d=7, per=0.0505, ler=0.284\n"
     ]
    },
    {
     "name": "stderr",
     "output_type": "stream",
     "text": [
      "100%|██████████| 1000/1000 [01:34<00:00, 10.58it/s]\n"
     ]
    },
    {
     "name": "stdout",
     "output_type": "stream",
     "text": [
      "d=7, per=0.062875, ler=0.371\n"
     ]
    },
    {
     "name": "stderr",
     "output_type": "stream",
     "text": [
      "100%|██████████| 1000/1000 [01:48<00:00,  9.21it/s]\n"
     ]
    },
    {
     "name": "stdout",
     "output_type": "stream",
     "text": [
      "d=7, per=0.07525000000000001, ler=0.47\n"
     ]
    },
    {
     "name": "stderr",
     "output_type": "stream",
     "text": [
      "100%|██████████| 1000/1000 [02:01<00:00,  8.23it/s]\n"
     ]
    },
    {
     "name": "stdout",
     "output_type": "stream",
     "text": [
      "d=7, per=0.08762500000000001, ler=0.54\n"
     ]
    },
    {
     "name": "stderr",
     "output_type": "stream",
     "text": [
      "100%|██████████| 1000/1000 [02:12<00:00,  7.53it/s]\n"
     ]
    },
    {
     "name": "stdout",
     "output_type": "stream",
     "text": [
      "d=7, per=0.1, ler=0.607\n"
     ]
    },
    {
     "name": "stderr",
     "output_type": "stream",
     "text": [
      "100%|██████████| 1000/1000 [00:07<00:00, 130.68it/s]\n"
     ]
    },
    {
     "name": "stdout",
     "output_type": "stream",
     "text": [
      "d=9, per=0.001, ler=0.019\n"
     ]
    },
    {
     "name": "stderr",
     "output_type": "stream",
     "text": [
      "100%|██████████| 1000/1000 [01:05<00:00, 15.28it/s]\n"
     ]
    },
    {
     "name": "stdout",
     "output_type": "stream",
     "text": [
      "d=9, per=0.013375000000000001, ler=0.186\n"
     ]
    },
    {
     "name": "stderr",
     "output_type": "stream",
     "text": [
      "100%|██████████| 1000/1000 [02:06<00:00,  7.94it/s]\n"
     ]
    },
    {
     "name": "stdout",
     "output_type": "stream",
     "text": [
      "d=9, per=0.025750000000000002, ler=0.358\n"
     ]
    },
    {
     "name": "stderr",
     "output_type": "stream",
     "text": [
      "100%|██████████| 1000/1000 [03:49<00:00,  4.35it/s]\n"
     ]
    },
    {
     "name": "stdout",
     "output_type": "stream",
     "text": [
      "d=9, per=0.038125000000000006, ler=0.497\n"
     ]
    },
    {
     "name": "stderr",
     "output_type": "stream",
     "text": [
      "100%|██████████| 1000/1000 [03:34<00:00,  4.66it/s]\n"
     ]
    },
    {
     "name": "stdout",
     "output_type": "stream",
     "text": [
      "d=9, per=0.0505, ler=0.612\n"
     ]
    },
    {
     "name": "stderr",
     "output_type": "stream",
     "text": [
      "100%|██████████| 1000/1000 [04:01<00:00,  4.15it/s]\n"
     ]
    },
    {
     "name": "stdout",
     "output_type": "stream",
     "text": [
      "d=9, per=0.062875, ler=0.699\n"
     ]
    },
    {
     "name": "stderr",
     "output_type": "stream",
     "text": [
      "100%|██████████| 1000/1000 [04:21<00:00,  3.82it/s]\n"
     ]
    },
    {
     "name": "stdout",
     "output_type": "stream",
     "text": [
      "d=9, per=0.07525000000000001, ler=0.76\n"
     ]
    },
    {
     "name": "stderr",
     "output_type": "stream",
     "text": [
      "100%|██████████| 1000/1000 [04:40<00:00,  3.57it/s]\n"
     ]
    },
    {
     "name": "stdout",
     "output_type": "stream",
     "text": [
      "d=9, per=0.08762500000000001, ler=0.8\n"
     ]
    },
    {
     "name": "stderr",
     "output_type": "stream",
     "text": [
      "100%|██████████| 1000/1000 [05:03<00:00,  3.30it/s]"
     ]
    },
    {
     "name": "stdout",
     "output_type": "stream",
     "text": [
      "d=9, per=0.1, ler=0.834\n"
     ]
    },
    {
     "name": "stderr",
     "output_type": "stream",
     "text": [
      "\n"
     ]
    }
   ],
   "source": [
    "N = 1000 # number of samples\n",
    "\n",
    "d_list = list(range(5, 10, 2)) # code distance\n",
    "per_list = np.linspace(0.001, 0.1, 9).tolist() # physical error rate\n",
    "ler_array = np.zeros((len(d_list), len(per_list))) # logical error rate\n",
    "\n",
    "for i, d in enumerate(d_list):\n",
    "    # Construct the code\n",
    "    code = RotatedSurfaceCode(d)\n",
    "\n",
    "    for j, per in enumerate(per_list):\n",
    "        # Get check matrix, action matrix, and probability vector. We focus on X-type stabilizers.\n",
    "        cm, am, p = code.get_check_matrix_action_matrix_probability_vector('code-capacity', 'X', dq_error_rate=per)\n",
    "        # Sample error patterns and calculate syndromes\n",
    "        true_error, syndrome = sample_error_and_syndrome(cm, p, N, seed=42)\n",
    "        # Construct decoder\n",
    "        num_sol=1\n",
    "        max_leg=5  # choice in the paper: 301\n",
    "        max_iter_list = [80] + [60] * (max_leg - 1)\n",
    "        np.random.seed(0)\n",
    "        mem_strength = -0.25 + 0.85 / 2 * np.random.uniform(-1, 1, size=(max_leg, len(p)))\n",
    "        mem_strength[0, :] = 0.35\n",
    "        decoder = RelayBPDecoder(\n",
    "            H=cm,\n",
    "            prior=p,\n",
    "            num_sol=num_sol,\n",
    "            max_leg=max_leg,\n",
    "            mem_strength=mem_strength,\n",
    "            max_iter_list=max_iter_list\n",
    "        )\n",
    "        # Decode\n",
    "        decoded_error = decoder.decode_batch(syndrome)\n",
    "        # Calculate logical error rate\n",
    "        ler = get_logical_error_rate(cm, am, true_error, decoded_error)\n",
    "        # Store the result\n",
    "        ler_array[i, j] = ler\n",
    "\n",
    "        print(f\"d={d}, per={per}, ler={ler}\")"
   ]
  },
  {
   "cell_type": "code",
   "execution_count": 8,
   "id": "9b35d96f",
   "metadata": {},
   "outputs": [
    {
     "data": {
      "image/png": "[encoded data removed]",
      "text/plain": [
       "<Figure size 640x480 with 1 Axes>"
      ]
     },
     "metadata": {},
     "output_type": "display_data"
    }
   ],
   "source": [
    "plt.figure()\n",
    "for i, d in enumerate(d_list):\n",
    "    ler = ler_array[i]\n",
    "    std_err = (ler * (1 - ler) / N) ** 0.5\n",
    "    plt.errorbar(per_list, ler, yerr=std_err, label=\"d={}\".format(d))\n",
    "plt.xlabel(\"Physical error rate\")\n",
    "plt.ylabel(\"Logical error rate\")\n",
    "plt.grid(True)\n",
    "plt.legend()\n",
    "plt.title(\"RelayBP decoder, code-capacity noise model\")\n",
    "plt.show()"
   ]
  },
  {
   "cell_type": "markdown",
   "id": "b3574ae7",
   "metadata": {},
   "source": [
    "# Monte Carlo simulation under phenomenological noise model"
   ]
  },
  {
   "cell_type": "markdown",
   "id": "ce78993a",
   "metadata": {},
   "source": [
    "#### MWPM decoder (from `pymatching` package)"
   ]
  },
  {
   "cell_type": "code",
   "execution_count": 10,
   "id": "45cd757f",
   "metadata": {},
   "outputs": [],
   "source": [
    "N = 3000 # number of samples\n",
    "\n",
    "d_list = list(range(5, 10, 2)) # code distance\n",
    "per_list = np.linspace(0.02, 0.04, 7).tolist() # physical error rate\n",
    "ler_array = np.zeros((len(d_list), len(per_list))) # logical error rate\n",
    "\n",
    "for i, d in enumerate(d_list):\n",
    "    # Construct the code\n",
    "    code = RotatedSurfaceCode(d)\n",
    "\n",
    "    for j, per in enumerate(per_list):\n",
    "        # Get check matrix, action matrix, and probability vector. We focus on X-type stabilizers.\n",
    "        cm, am, p = code.get_check_matrix_action_matrix_probability_vector('phenomenological', 'X', num_round=d,\n",
    "                                                                           dq_error_rate=per, meas_error_rate=per)\n",
    "        # Sample error patterns and calculate syndromes\n",
    "        true_error, syndrome = sample_error_and_syndrome(cm, p, N, seed=42)\n",
    "        # Construct decoder\n",
    "        decoder = pymatching.Matching.from_check_matrix(cm, weights=np.log((1 - p) / p))\n",
    "        # Decode\n",
    "        decoded_error = decoder.decode_batch(syndrome)\n",
    "        # Calculate logical error rate\n",
    "        ler = get_logical_error_rate(cm, am, true_error, decoded_error)\n",
    "        # Store the result\n",
    "        ler_array[i, j] = ler"
   ]
  },
  {
   "cell_type": "code",
   "execution_count": 11,
   "id": "f21527c2",
   "metadata": {},
   "outputs": [
    {
     "data": {
      "image/png": "[encoded data removed]",
      "text/plain": [
       "<Figure size 640x480 with 1 Axes>"
      ]
     },
     "metadata": {},
     "output_type": "display_data"
    }
   ],
   "source": [
    "plt.figure()\n",
    "for i, d in enumerate(d_list):\n",
    "    ler = ler_array[i]\n",
    "    std_err = (ler * (1 - ler) / N) ** 0.5\n",
    "    plt.errorbar(per_list, ler, yerr=std_err, label=\"d={}\".format(d))\n",
    "plt.xlabel(\"Physical error rate\")\n",
    "plt.ylabel(\"Logical error rate\")\n",
    "plt.yscale('log')\n",
    "plt.grid(True)\n",
    "plt.legend()\n",
    "plt.title(\"MWPM decoder, phenomenological noise model\")\n",
    "plt.show()"
   ]
  },
  {
   "cell_type": "markdown",
   "id": "e1f2ef6b",
   "metadata": {},
   "source": [
    "#### BP+OSD decoder (from `ldpc` package)"
   ]
  },
  {
   "cell_type": "code",
   "execution_count": 14,
   "id": "657b69e1",
   "metadata": {},
   "outputs": [
    {
     "name": "stderr",
     "output_type": "stream",
     "text": [
      "100%|██████████| 3000/3000 [00:00<00:00, 7801.75it/s]\n"
     ]
    },
    {
     "name": "stdout",
     "output_type": "stream",
     "text": [
      "d=5, per=0.01, ler=0.006666666666666667\n"
     ]
    },
    {
     "name": "stderr",
     "output_type": "stream",
     "text": [
      "100%|██████████| 3000/3000 [00:00<00:00, 4155.81it/s]\n"
     ]
    },
    {
     "name": "stdout",
     "output_type": "stream",
     "text": [
      "d=5, per=0.015, ler=0.018\n"
     ]
    },
    {
     "name": "stderr",
     "output_type": "stream",
     "text": [
      "100%|██████████| 3000/3000 [00:00<00:00, 4846.21it/s]\n"
     ]
    },
    {
     "name": "stdout",
     "output_type": "stream",
     "text": [
      "d=5, per=0.02, ler=0.03266666666666666\n"
     ]
    },
    {
     "name": "stderr",
     "output_type": "stream",
     "text": [
      "100%|██████████| 3000/3000 [00:00<00:00, 4196.08it/s]\n"
     ]
    },
    {
     "name": "stdout",
     "output_type": "stream",
     "text": [
      "d=5, per=0.025, ler=0.06133333333333333\n"
     ]
    },
    {
     "name": "stderr",
     "output_type": "stream",
     "text": [
      "100%|██████████| 3000/3000 [00:00<00:00, 3819.91it/s]\n"
     ]
    },
    {
     "name": "stdout",
     "output_type": "stream",
     "text": [
      "d=5, per=0.03, ler=0.08866666666666667\n"
     ]
    },
    {
     "name": "stderr",
     "output_type": "stream",
     "text": [
      "100%|██████████| 3000/3000 [00:00<00:00, 3525.72it/s]\n"
     ]
    },
    {
     "name": "stdout",
     "output_type": "stream",
     "text": [
      "d=5, per=0.035, ler=0.128\n"
     ]
    },
    {
     "name": "stderr",
     "output_type": "stream",
     "text": [
      "100%|██████████| 3000/3000 [00:00<00:00, 3356.08it/s]\n"
     ]
    },
    {
     "name": "stdout",
     "output_type": "stream",
     "text": [
      "d=5, per=0.04, ler=0.168\n"
     ]
    },
    {
     "name": "stderr",
     "output_type": "stream",
     "text": [
      "100%|██████████| 3000/3000 [00:05<00:00, 569.68it/s]\n"
     ]
    },
    {
     "name": "stdout",
     "output_type": "stream",
     "text": [
      "d=7, per=0.01, ler=0.0016666666666666668\n"
     ]
    },
    {
     "name": "stderr",
     "output_type": "stream",
     "text": [
      "100%|██████████| 3000/3000 [00:06<00:00, 446.06it/s]\n"
     ]
    },
    {
     "name": "stdout",
     "output_type": "stream",
     "text": [
      "d=7, per=0.015, ler=0.012666666666666666\n"
     ]
    },
    {
     "name": "stderr",
     "output_type": "stream",
     "text": [
      "100%|██████████| 3000/3000 [00:07<00:00, 407.24it/s]\n"
     ]
    },
    {
     "name": "stdout",
     "output_type": "stream",
     "text": [
      "d=7, per=0.02, ler=0.029\n"
     ]
    },
    {
     "name": "stderr",
     "output_type": "stream",
     "text": [
      "100%|██████████| 3000/3000 [00:08<00:00, 369.75it/s]\n"
     ]
    },
    {
     "name": "stdout",
     "output_type": "stream",
     "text": [
      "d=7, per=0.025, ler=0.060333333333333336\n"
     ]
    },
    {
     "name": "stderr",
     "output_type": "stream",
     "text": [
      "100%|██████████| 3000/3000 [00:08<00:00, 361.93it/s]\n"
     ]
    },
    {
     "name": "stdout",
     "output_type": "stream",
     "text": [
      "d=7, per=0.03, ler=0.109\n"
     ]
    },
    {
     "name": "stderr",
     "output_type": "stream",
     "text": [
      "100%|██████████| 3000/3000 [00:08<00:00, 353.78it/s]\n"
     ]
    },
    {
     "name": "stdout",
     "output_type": "stream",
     "text": [
      "d=7, per=0.035, ler=0.16033333333333333\n"
     ]
    },
    {
     "name": "stderr",
     "output_type": "stream",
     "text": [
      "100%|██████████| 3000/3000 [00:08<00:00, 349.69it/s]\n"
     ]
    },
    {
     "name": "stdout",
     "output_type": "stream",
     "text": [
      "d=7, per=0.04, ler=0.229\n"
     ]
    },
    {
     "name": "stderr",
     "output_type": "stream",
     "text": [
      "100%|██████████| 3000/3000 [00:46<00:00, 64.22it/s]\n"
     ]
    },
    {
     "name": "stdout",
     "output_type": "stream",
     "text": [
      "d=9, per=0.01, ler=0.0013333333333333333\n"
     ]
    },
    {
     "name": "stderr",
     "output_type": "stream",
     "text": [
      "100%|██████████| 3000/3000 [00:49<00:00, 60.93it/s]\n"
     ]
    },
    {
     "name": "stdout",
     "output_type": "stream",
     "text": [
      "d=9, per=0.015, ler=0.008666666666666666\n"
     ]
    },
    {
     "name": "stderr",
     "output_type": "stream",
     "text": [
      "100%|██████████| 3000/3000 [00:51<00:00, 58.18it/s]\n"
     ]
    },
    {
     "name": "stdout",
     "output_type": "stream",
     "text": [
      "d=9, per=0.02, ler=0.025666666666666667\n"
     ]
    },
    {
     "name": "stderr",
     "output_type": "stream",
     "text": [
      "100%|██████████| 3000/3000 [00:53<00:00, 55.80it/s]\n"
     ]
    },
    {
     "name": "stdout",
     "output_type": "stream",
     "text": [
      "d=9, per=0.025, ler=0.06633333333333333\n"
     ]
    },
    {
     "name": "stderr",
     "output_type": "stream",
     "text": [
      "100%|██████████| 3000/3000 [00:54<00:00, 55.10it/s]\n"
     ]
    },
    {
     "name": "stdout",
     "output_type": "stream",
     "text": [
      "d=9, per=0.03, ler=0.12033333333333333\n"
     ]
    },
    {
     "name": "stderr",
     "output_type": "stream",
     "text": [
      "100%|██████████| 3000/3000 [00:54<00:00, 55.15it/s]\n"
     ]
    },
    {
     "name": "stdout",
     "output_type": "stream",
     "text": [
      "d=9, per=0.035, ler=0.195\n"
     ]
    },
    {
     "name": "stderr",
     "output_type": "stream",
     "text": [
      "100%|██████████| 3000/3000 [00:56<00:00, 53.25it/s]\n"
     ]
    },
    {
     "name": "stdout",
     "output_type": "stream",
     "text": [
      "d=9, per=0.04, ler=0.2966666666666667\n"
     ]
    }
   ],
   "source": [
    "N = 3000 # number of samples\n",
    "\n",
    "d_list = list(range(5, 10, 2)) # code distance\n",
    "per_list = np.linspace(0.01, 0.04, 7).tolist() # physical error rate\n",
    "ler_array = np.zeros((len(d_list), len(per_list))) # logical error rate\n",
    "\n",
    "for i, d in enumerate(d_list):\n",
    "    # Construct the code\n",
    "    code = RotatedSurfaceCode(d)\n",
    "\n",
    "    for j, per in enumerate(per_list):\n",
    "        # Get check matrix, action matrix, and probability vector. We focus on X-type stabilizers.\n",
    "        cm, am, p = code.get_check_matrix_action_matrix_probability_vector('phenomenological', 'X', num_round=d,\n",
    "                                                                           dq_error_rate=per, meas_error_rate=per)\n",
    "        # Sample error patterns and calculate syndromes\n",
    "        true_error, syndrome = sample_error_and_syndrome(cm, p, N, seed=42)\n",
    "        # Construct decoder\n",
    "        decoder = ldpc.BpOsdDecoder(\n",
    "            pcm=cm,\n",
    "            error_channel=p.tolist(),\n",
    "            bp_method='minimum_sum',\n",
    "            max_iter=len(p),\n",
    "            schedule='parallel', # 'serial'\n",
    "            osd_method='osd_cs',\n",
    "            osd_order=2\n",
    "        )\n",
    "        # Decode\n",
    "        decoded_error = []\n",
    "        for ii in tqdm(range(N)):\n",
    "            decoded_error.append(decoder.decode(syndrome[ii]))\n",
    "        decoded_error = np.array(decoded_error, dtype=np.uint8)\n",
    "        # Calculate logical error rate\n",
    "        ler = get_logical_error_rate(cm, am, true_error, decoded_error)\n",
    "        # Store the result\n",
    "        ler_array[i, j] = ler\n",
    "\n",
    "        print(\"d={}, per={}, ler={}\".format(d, per, ler))\n"
   ]
  },
  {
   "cell_type": "code",
   "execution_count": 15,
   "id": "b92f3ad8",
   "metadata": {},
   "outputs": [
    {
     "data": {
      "image/png": "[encoded data removed]",
      "text/plain": [
       "<Figure size 640x480 with 1 Axes>"
      ]
     },
     "metadata": {},
     "output_type": "display_data"
    }
   ],
   "source": [
    "plt.figure()\n",
    "for i, d in enumerate(d_list):\n",
    "    ler = ler_array[i]\n",
    "    std_err = (ler * (1 - ler) / N) ** 0.5\n",
    "    plt.errorbar(per_list, ler, yerr=std_err, label=\"d={}\".format(d))\n",
    "plt.xlabel(\"Physical error rate\")\n",
    "plt.ylabel(\"Logical error rate\")\n",
    "plt.yscale('log')\n",
    "plt.grid(True)\n",
    "plt.legend()\n",
    "plt.title(\"BP+OSD decoder, phenomenological noise model\")\n",
    "plt.show()"
   ]
  },
  {
   "cell_type": "code",
   "execution_count": null,
   "id": "cad23fad",
   "metadata": {},
   "outputs": [],
   "source": []
  }
 ],
 "metadata": {
  "kernelspec": {
   "display_name": ".env",
   "language": "python",
   "name": "python3"
  },
  "language_info": {
   "codemirror_mode": {
    "name": "ipython",
    "version": 3
   },
   "file_extension": ".py",
   "mimetype": "text/x-python",
   "name": "python",
   "nbconvert_exporter": "python",
   "pygments_lexer": "ipython3",
   "version": "3.10.6"
  }
 },
 "nbformat": 4,
 "nbformat_minor": 5
}
