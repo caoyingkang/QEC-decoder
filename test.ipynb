{
 "cells": [
  {
   "cell_type": "code",
   "execution_count": 1,
   "id": "d7c141d7",
   "metadata": {},
   "outputs": [],
   "source": [
    "import numpy as np\n",
    "import matplotlib.pyplot as plt\n",
    "from tqdm import tqdm\n",
    "from ldpc import BpOsdDecoder\n",
    "import pymatching\n",
    "from rotated_surface_code import RotatedSurfaceCode\n",
    "from decoder import BPDecoder, RelayBPDecoder\n",
    "from monte_carlo_utils import sample_error_and_syndrome, get_logical_error_rate, print_statistics"
   ]
  },
  {
   "cell_type": "markdown",
   "id": "51ed5ff5",
   "metadata": {},
   "source": [
    "# Test implementation of rotated surface code"
   ]
  },
  {
   "cell_type": "code",
   "execution_count": 2,
   "id": "1c226310",
   "metadata": {},
   "outputs": [],
   "source": [
    "code = RotatedSurfaceCode(5)"
   ]
  },
  {
   "cell_type": "code",
   "execution_count": 3,
   "id": "57adce0d",
   "metadata": {},
   "outputs": [
    {
     "name": "stdout",
     "output_type": "stream",
     "text": [
      "Data qubit 0 has coordinates (1, 1).\n",
      "Data qubit 1 has coordinates (1, 3).\n",
      "Data qubit 2 has coordinates (1, 5).\n",
      "Data qubit 3 has coordinates (1, 7).\n",
      "Data qubit 4 has coordinates (1, 9).\n",
      "Data qubit 5 has coordinates (3, 1).\n",
      "Data qubit 6 has coordinates (3, 3).\n",
      "Data qubit 7 has coordinates (3, 5).\n",
      "Data qubit 8 has coordinates (3, 7).\n",
      "Data qubit 9 has coordinates (3, 9).\n",
      "Data qubit 10 has coordinates (5, 1).\n",
      "Data qubit 11 has coordinates (5, 3).\n",
      "Data qubit 12 has coordinates (5, 5).\n",
      "Data qubit 13 has coordinates (5, 7).\n",
      "Data qubit 14 has coordinates (5, 9).\n",
      "Data qubit 15 has coordinates (7, 1).\n",
      "Data qubit 16 has coordinates (7, 3).\n",
      "Data qubit 17 has coordinates (7, 5).\n",
      "Data qubit 18 has coordinates (7, 7).\n",
      "Data qubit 19 has coordinates (7, 9).\n",
      "Data qubit 20 has coordinates (9, 1).\n",
      "Data qubit 21 has coordinates (9, 3).\n",
      "Data qubit 22 has coordinates (9, 5).\n",
      "Data qubit 23 has coordinates (9, 7).\n",
      "Data qubit 24 has coordinates (9, 9).\n",
      "X-type stabilizer 0 has coordinates (0, 2).\n",
      "X-type stabilizer 1 has coordinates (0, 6).\n",
      "X-type stabilizer 2 has coordinates (2, 4).\n",
      "X-type stabilizer 3 has coordinates (2, 8).\n",
      "X-type stabilizer 4 has coordinates (4, 2).\n",
      "X-type stabilizer 5 has coordinates (4, 6).\n",
      "X-type stabilizer 6 has coordinates (6, 4).\n",
      "X-type stabilizer 7 has coordinates (6, 8).\n",
      "X-type stabilizer 8 has coordinates (8, 2).\n",
      "X-type stabilizer 9 has coordinates (8, 6).\n",
      "X-type stabilizer 10 has coordinates (10, 4).\n",
      "X-type stabilizer 11 has coordinates (10, 8).\n",
      "Z-type stabilizer 0 has coordinates (4, 0).\n",
      "Z-type stabilizer 1 has coordinates (2, 2).\n",
      "Z-type stabilizer 2 has coordinates (4, 4).\n",
      "Z-type stabilizer 3 has coordinates (2, 6).\n",
      "Z-type stabilizer 4 has coordinates (4, 8).\n",
      "Z-type stabilizer 5 has coordinates (2, 10).\n",
      "Z-type stabilizer 6 has coordinates (8, 0).\n",
      "Z-type stabilizer 7 has coordinates (6, 2).\n",
      "Z-type stabilizer 8 has coordinates (8, 4).\n",
      "Z-type stabilizer 9 has coordinates (6, 6).\n",
      "Z-type stabilizer 10 has coordinates (8, 8).\n",
      "Z-type stabilizer 11 has coordinates (6, 10).\n"
     ]
    }
   ],
   "source": [
    "# Check the index-to-coodinate and coordinate-to-index mappings of the data qubits and stabilizers\n",
    "for j in range(code.n):\n",
    "    row, col = code._dq_to_coord(j)\n",
    "    assert code._coord_to_dq(row, col) == j\n",
    "    print(\"Data qubit {} has coordinates ({}, {}).\".format(j, row, col))\n",
    "\n",
    "for i in range(code.mx):\n",
    "    row, col = code._xstab_to_coord(i)\n",
    "    assert code._coord_to_xstab(row, col) == i\n",
    "    print(\"X-type stabilizer {} has coordinates ({}, {}).\".format(i, row, col))\n",
    "\n",
    "for i in range(code.mz):\n",
    "    row, col = code._zstab_to_coord(i)\n",
    "    assert code._coord_to_zstab(row, col) == i\n",
    "    print(\"Z-type stabilizer {} has coordinates ({}, {}).\".format(i, row, col))"
   ]
  },
  {
   "cell_type": "code",
   "execution_count": 4,
   "id": "486afd64",
   "metadata": {},
   "outputs": [
    {
     "name": "stdout",
     "output_type": "stream",
     "text": [
      "X-type stabilizer 0 involves data qubits [0 1]\n",
      "X-type stabilizer 1 involves data qubits [2 3]\n",
      "X-type stabilizer 2 involves data qubits [1 2 6 7]\n",
      "X-type stabilizer 3 involves data qubits [3 4 8 9]\n",
      "X-type stabilizer 4 involves data qubits [ 5  6 10 11]\n",
      "X-type stabilizer 5 involves data qubits [ 7  8 12 13]\n",
      "X-type stabilizer 6 involves data qubits [11 12 16 17]\n",
      "X-type stabilizer 7 involves data qubits [13 14 18 19]\n",
      "X-type stabilizer 8 involves data qubits [15 16 20 21]\n",
      "X-type stabilizer 9 involves data qubits [17 18 22 23]\n",
      "X-type stabilizer 10 involves data qubits [21 22]\n",
      "X-type stabilizer 11 involves data qubits [23 24]\n",
      "Z-type stabilizer 0 involves data qubits [ 5 10]\n",
      "Z-type stabilizer 1 involves data qubits [0 1 5 6]\n",
      "Z-type stabilizer 2 involves data qubits [ 6  7 11 12]\n",
      "Z-type stabilizer 3 involves data qubits [2 3 7 8]\n",
      "Z-type stabilizer 4 involves data qubits [ 8  9 13 14]\n",
      "Z-type stabilizer 5 involves data qubits [4 9]\n",
      "Z-type stabilizer 6 involves data qubits [15 20]\n",
      "Z-type stabilizer 7 involves data qubits [10 11 15 16]\n",
      "Z-type stabilizer 8 involves data qubits [16 17 21 22]\n",
      "Z-type stabilizer 9 involves data qubits [12 13 17 18]\n",
      "Z-type stabilizer 10 involves data qubits [18 19 23 24]\n",
      "Z-type stabilizer 11 involves data qubits [14 19]\n"
     ]
    }
   ],
   "source": [
    "# Check the stabilizer matrices\n",
    "for i in range(code.mx):\n",
    "    support = np.nonzero(code.Hx[i] == 1)[0]\n",
    "    print(\"X-type stabilizer {} involves data qubits {}\".format(i, support))\n",
    "\n",
    "for i in range(code.mz):\n",
    "    support = np.nonzero(code.Hz[i] == 1)[0]\n",
    "    print(\"Z-type stabilizer {} involves data qubits {}\".format(i, support))"
   ]
  },
  {
   "cell_type": "code",
   "execution_count": 5,
   "id": "97da0332",
   "metadata": {},
   "outputs": [
    {
     "name": "stdout",
     "output_type": "stream",
     "text": [
      "Logical X operator involves data qubits [ 0  5 10 15 20]\n",
      "Logical Z operator involves data qubits [0 1 2 3 4]\n"
     ]
    }
   ],
   "source": [
    "# Check the logical operators\n",
    "print(\"Logical X operator involves data qubits {}\".format(np.nonzero(code.Lx[0] == 1)[0]))\n",
    "print(\"Logical Z operator involves data qubits {}\".format(np.nonzero(code.Lz[0] == 1)[0]))"
   ]
  },
  {
   "cell_type": "code",
   "execution_count": 6,
   "id": "b251c833",
   "metadata": {},
   "outputs": [
    {
     "name": "stdout",
     "output_type": "stream",
     "text": [
      "The X-type detector at spacetime location (0, 2, 0) detects errors at spacetime locations [(1, 1, 0), (1, 3, 0), (0, 2, 0)]\n",
      "The X-type detector at spacetime location (0, 6, 0) detects errors at spacetime locations [(1, 5, 0), (1, 7, 0), (0, 6, 0)]\n",
      "The X-type detector at spacetime location (2, 4, 0) detects errors at spacetime locations [(1, 3, 0), (1, 5, 0), (3, 3, 0), (3, 5, 0), (2, 4, 0)]\n",
      "The X-type detector at spacetime location (2, 8, 0) detects errors at spacetime locations [(1, 7, 0), (1, 9, 0), (3, 7, 0), (3, 9, 0), (2, 8, 0)]\n",
      "The X-type detector at spacetime location (4, 2, 0) detects errors at spacetime locations [(3, 1, 0), (3, 3, 0), (5, 1, 0), (5, 3, 0), (4, 2, 0)]\n",
      "The X-type detector at spacetime location (4, 6, 0) detects errors at spacetime locations [(3, 5, 0), (3, 7, 0), (5, 5, 0), (5, 7, 0), (4, 6, 0)]\n",
      "The X-type detector at spacetime location (6, 4, 0) detects errors at spacetime locations [(5, 3, 0), (5, 5, 0), (7, 3, 0), (7, 5, 0), (6, 4, 0)]\n",
      "The X-type detector at spacetime location (6, 8, 0) detects errors at spacetime locations [(5, 7, 0), (5, 9, 0), (7, 7, 0), (7, 9, 0), (6, 8, 0)]\n",
      "The X-type detector at spacetime location (8, 2, 0) detects errors at spacetime locations [(7, 1, 0), (7, 3, 0), (9, 1, 0), (9, 3, 0), (8, 2, 0)]\n",
      "The X-type detector at spacetime location (8, 6, 0) detects errors at spacetime locations [(7, 5, 0), (7, 7, 0), (9, 5, 0), (9, 7, 0), (8, 6, 0)]\n",
      "The X-type detector at spacetime location (10, 4, 0) detects errors at spacetime locations [(9, 3, 0), (9, 5, 0), (10, 4, 0)]\n",
      "The X-type detector at spacetime location (10, 8, 0) detects errors at spacetime locations [(9, 7, 0), (9, 9, 0), (10, 8, 0)]\n",
      "The X-type detector at spacetime location (0, 2, 1) detects errors at spacetime locations [(1, 1, 1), (1, 3, 1), (0, 2, 0), (0, 2, 1)]\n",
      "The X-type detector at spacetime location (0, 6, 1) detects errors at spacetime locations [(1, 5, 1), (1, 7, 1), (0, 6, 0), (0, 6, 1)]\n",
      "The X-type detector at spacetime location (2, 4, 1) detects errors at spacetime locations [(1, 3, 1), (1, 5, 1), (3, 3, 1), (3, 5, 1), (2, 4, 0), (2, 4, 1)]\n",
      "The X-type detector at spacetime location (2, 8, 1) detects errors at spacetime locations [(1, 7, 1), (1, 9, 1), (3, 7, 1), (3, 9, 1), (2, 8, 0), (2, 8, 1)]\n",
      "The X-type detector at spacetime location (4, 2, 1) detects errors at spacetime locations [(3, 1, 1), (3, 3, 1), (5, 1, 1), (5, 3, 1), (4, 2, 0), (4, 2, 1)]\n",
      "The X-type detector at spacetime location (4, 6, 1) detects errors at spacetime locations [(3, 5, 1), (3, 7, 1), (5, 5, 1), (5, 7, 1), (4, 6, 0), (4, 6, 1)]\n",
      "The X-type detector at spacetime location (6, 4, 1) detects errors at spacetime locations [(5, 3, 1), (5, 5, 1), (7, 3, 1), (7, 5, 1), (6, 4, 0), (6, 4, 1)]\n",
      "The X-type detector at spacetime location (6, 8, 1) detects errors at spacetime locations [(5, 7, 1), (5, 9, 1), (7, 7, 1), (7, 9, 1), (6, 8, 0), (6, 8, 1)]\n",
      "The X-type detector at spacetime location (8, 2, 1) detects errors at spacetime locations [(7, 1, 1), (7, 3, 1), (9, 1, 1), (9, 3, 1), (8, 2, 0), (8, 2, 1)]\n",
      "The X-type detector at spacetime location (8, 6, 1) detects errors at spacetime locations [(7, 5, 1), (7, 7, 1), (9, 5, 1), (9, 7, 1), (8, 6, 0), (8, 6, 1)]\n",
      "The X-type detector at spacetime location (10, 4, 1) detects errors at spacetime locations [(9, 3, 1), (9, 5, 1), (10, 4, 0), (10, 4, 1)]\n",
      "The X-type detector at spacetime location (10, 8, 1) detects errors at spacetime locations [(9, 7, 1), (9, 9, 1), (10, 8, 0), (10, 8, 1)]\n",
      "The X-type detector at spacetime location (0, 2, 2) detects errors at spacetime locations [(1, 1, 2), (1, 3, 2), (0, 2, 1)]\n",
      "The X-type detector at spacetime location (0, 6, 2) detects errors at spacetime locations [(1, 5, 2), (1, 7, 2), (0, 6, 1)]\n",
      "The X-type detector at spacetime location (2, 4, 2) detects errors at spacetime locations [(1, 3, 2), (1, 5, 2), (3, 3, 2), (3, 5, 2), (2, 4, 1)]\n",
      "The X-type detector at spacetime location (2, 8, 2) detects errors at spacetime locations [(1, 7, 2), (1, 9, 2), (3, 7, 2), (3, 9, 2), (2, 8, 1)]\n",
      "The X-type detector at spacetime location (4, 2, 2) detects errors at spacetime locations [(3, 1, 2), (3, 3, 2), (5, 1, 2), (5, 3, 2), (4, 2, 1)]\n",
      "The X-type detector at spacetime location (4, 6, 2) detects errors at spacetime locations [(3, 5, 2), (3, 7, 2), (5, 5, 2), (5, 7, 2), (4, 6, 1)]\n",
      "The X-type detector at spacetime location (6, 4, 2) detects errors at spacetime locations [(5, 3, 2), (5, 5, 2), (7, 3, 2), (7, 5, 2), (6, 4, 1)]\n",
      "The X-type detector at spacetime location (6, 8, 2) detects errors at spacetime locations [(5, 7, 2), (5, 9, 2), (7, 7, 2), (7, 9, 2), (6, 8, 1)]\n",
      "The X-type detector at spacetime location (8, 2, 2) detects errors at spacetime locations [(7, 1, 2), (7, 3, 2), (9, 1, 2), (9, 3, 2), (8, 2, 1)]\n",
      "The X-type detector at spacetime location (8, 6, 2) detects errors at spacetime locations [(7, 5, 2), (7, 7, 2), (9, 5, 2), (9, 7, 2), (8, 6, 1)]\n",
      "The X-type detector at spacetime location (10, 4, 2) detects errors at spacetime locations [(9, 3, 2), (9, 5, 2), (10, 4, 1)]\n",
      "The X-type detector at spacetime location (10, 8, 2) detects errors at spacetime locations [(9, 7, 2), (9, 9, 2), (10, 8, 1)]\n",
      "The logical X operator can be flipped by errors at spacetime locations [(1, 1, 0), (3, 1, 0), (5, 1, 0), (7, 1, 0), (9, 1, 0), (1, 1, 1), (3, 1, 1), (5, 1, 1), (7, 1, 1), (9, 1, 1), (1, 1, 2), (3, 1, 2), (5, 1, 2), (7, 1, 2), (9, 1, 2)]\n"
     ]
    }
   ],
   "source": [
    "# Check the X-type check matrices and action matrices for the phenomenological error model with 3 rounds of stabilizer measurements\n",
    "num_round = 3\n",
    "cm, am, _, _ = code.get_check_matrices_and_action_matrices('phenomenological', num_round)\n",
    "\n",
    "def from_detector_idx_to_spacetime_coord(detector_idx):\n",
    "    t, space = divmod(detector_idx, code.mx)\n",
    "    x, y = code._xstab_to_coord(space)\n",
    "    return x, y, t\n",
    "\n",
    "def from_error_idx_to_spacetime_coord(error_idx):\n",
    "    if error_idx < num_round * code.n:\n",
    "        t, space = divmod(error_idx, code.n)\n",
    "        x, y = code._dq_to_coord(space)\n",
    "    else:\n",
    "        t, space = divmod(error_idx - num_round * code.n, code.mx)\n",
    "        x, y = code._xstab_to_coord(space)\n",
    "    return x, y, t\n",
    "\n",
    "for i in range(cm.shape[0]):\n",
    "    detector_spacetime = from_detector_idx_to_spacetime_coord(i)\n",
    "    errors_index = np.nonzero(cm[i, :])[0].tolist()\n",
    "    errors_spacetime = [from_error_idx_to_spacetime_coord(j) for j in errors_index]\n",
    "    \n",
    "    print(\"The X-type detector at spacetime location {} detects errors at spacetime locations {}\".format(\n",
    "        detector_spacetime, errors_spacetime))\n",
    "\n",
    "errors_index = np.nonzero(am[0, :])[0].tolist()\n",
    "errors_spacetime = [from_error_idx_to_spacetime_coord(j) for j in errors_index]\n",
    "print(\"The logical X operator can be flipped by errors at spacetime locations {}\".format(\n",
    "    errors_spacetime))"
   ]
  },
  {
   "cell_type": "code",
   "execution_count": 7,
   "id": "0b8247f4",
   "metadata": {},
   "outputs": [
    {
     "name": "stdout",
     "output_type": "stream",
     "text": [
      "The Z-type detector at spacetime location (4, 0, 0) detects errors at spacetime locations [(3, 1, 0), (5, 1, 0), (4, 0, 0)]\n",
      "The Z-type detector at spacetime location (2, 2, 0) detects errors at spacetime locations [(1, 1, 0), (1, 3, 0), (3, 1, 0), (3, 3, 0), (2, 2, 0)]\n",
      "The Z-type detector at spacetime location (4, 4, 0) detects errors at spacetime locations [(3, 3, 0), (3, 5, 0), (5, 3, 0), (5, 5, 0), (4, 4, 0)]\n",
      "The Z-type detector at spacetime location (2, 6, 0) detects errors at spacetime locations [(1, 5, 0), (1, 7, 0), (3, 5, 0), (3, 7, 0), (2, 6, 0)]\n",
      "The Z-type detector at spacetime location (4, 8, 0) detects errors at spacetime locations [(3, 7, 0), (3, 9, 0), (5, 7, 0), (5, 9, 0), (4, 8, 0)]\n",
      "The Z-type detector at spacetime location (2, 10, 0) detects errors at spacetime locations [(1, 9, 0), (3, 9, 0), (2, 10, 0)]\n",
      "The Z-type detector at spacetime location (8, 0, 0) detects errors at spacetime locations [(7, 1, 0), (9, 1, 0), (8, 0, 0)]\n",
      "The Z-type detector at spacetime location (6, 2, 0) detects errors at spacetime locations [(5, 1, 0), (5, 3, 0), (7, 1, 0), (7, 3, 0), (6, 2, 0)]\n",
      "The Z-type detector at spacetime location (8, 4, 0) detects errors at spacetime locations [(7, 3, 0), (7, 5, 0), (9, 3, 0), (9, 5, 0), (8, 4, 0)]\n",
      "The Z-type detector at spacetime location (6, 6, 0) detects errors at spacetime locations [(5, 5, 0), (5, 7, 0), (7, 5, 0), (7, 7, 0), (6, 6, 0)]\n",
      "The Z-type detector at spacetime location (8, 8, 0) detects errors at spacetime locations [(7, 7, 0), (7, 9, 0), (9, 7, 0), (9, 9, 0), (8, 8, 0)]\n",
      "The Z-type detector at spacetime location (6, 10, 0) detects errors at spacetime locations [(5, 9, 0), (7, 9, 0), (6, 10, 0)]\n",
      "The Z-type detector at spacetime location (4, 0, 1) detects errors at spacetime locations [(3, 1, 1), (5, 1, 1), (4, 0, 0), (4, 0, 1)]\n",
      "The Z-type detector at spacetime location (2, 2, 1) detects errors at spacetime locations [(1, 1, 1), (1, 3, 1), (3, 1, 1), (3, 3, 1), (2, 2, 0), (2, 2, 1)]\n",
      "The Z-type detector at spacetime location (4, 4, 1) detects errors at spacetime locations [(3, 3, 1), (3, 5, 1), (5, 3, 1), (5, 5, 1), (4, 4, 0), (4, 4, 1)]\n",
      "The Z-type detector at spacetime location (2, 6, 1) detects errors at spacetime locations [(1, 5, 1), (1, 7, 1), (3, 5, 1), (3, 7, 1), (2, 6, 0), (2, 6, 1)]\n",
      "The Z-type detector at spacetime location (4, 8, 1) detects errors at spacetime locations [(3, 7, 1), (3, 9, 1), (5, 7, 1), (5, 9, 1), (4, 8, 0), (4, 8, 1)]\n",
      "The Z-type detector at spacetime location (2, 10, 1) detects errors at spacetime locations [(1, 9, 1), (3, 9, 1), (2, 10, 0), (2, 10, 1)]\n",
      "The Z-type detector at spacetime location (8, 0, 1) detects errors at spacetime locations [(7, 1, 1), (9, 1, 1), (8, 0, 0), (8, 0, 1)]\n",
      "The Z-type detector at spacetime location (6, 2, 1) detects errors at spacetime locations [(5, 1, 1), (5, 3, 1), (7, 1, 1), (7, 3, 1), (6, 2, 0), (6, 2, 1)]\n",
      "The Z-type detector at spacetime location (8, 4, 1) detects errors at spacetime locations [(7, 3, 1), (7, 5, 1), (9, 3, 1), (9, 5, 1), (8, 4, 0), (8, 4, 1)]\n",
      "The Z-type detector at spacetime location (6, 6, 1) detects errors at spacetime locations [(5, 5, 1), (5, 7, 1), (7, 5, 1), (7, 7, 1), (6, 6, 0), (6, 6, 1)]\n",
      "The Z-type detector at spacetime location (8, 8, 1) detects errors at spacetime locations [(7, 7, 1), (7, 9, 1), (9, 7, 1), (9, 9, 1), (8, 8, 0), (8, 8, 1)]\n",
      "The Z-type detector at spacetime location (6, 10, 1) detects errors at spacetime locations [(5, 9, 1), (7, 9, 1), (6, 10, 0), (6, 10, 1)]\n",
      "The Z-type detector at spacetime location (4, 0, 2) detects errors at spacetime locations [(3, 1, 2), (5, 1, 2), (4, 0, 1)]\n",
      "The Z-type detector at spacetime location (2, 2, 2) detects errors at spacetime locations [(1, 1, 2), (1, 3, 2), (3, 1, 2), (3, 3, 2), (2, 2, 1)]\n",
      "The Z-type detector at spacetime location (4, 4, 2) detects errors at spacetime locations [(3, 3, 2), (3, 5, 2), (5, 3, 2), (5, 5, 2), (4, 4, 1)]\n",
      "The Z-type detector at spacetime location (2, 6, 2) detects errors at spacetime locations [(1, 5, 2), (1, 7, 2), (3, 5, 2), (3, 7, 2), (2, 6, 1)]\n",
      "The Z-type detector at spacetime location (4, 8, 2) detects errors at spacetime locations [(3, 7, 2), (3, 9, 2), (5, 7, 2), (5, 9, 2), (4, 8, 1)]\n",
      "The Z-type detector at spacetime location (2, 10, 2) detects errors at spacetime locations [(1, 9, 2), (3, 9, 2), (2, 10, 1)]\n",
      "The Z-type detector at spacetime location (8, 0, 2) detects errors at spacetime locations [(7, 1, 2), (9, 1, 2), (8, 0, 1)]\n",
      "The Z-type detector at spacetime location (6, 2, 2) detects errors at spacetime locations [(5, 1, 2), (5, 3, 2), (7, 1, 2), (7, 3, 2), (6, 2, 1)]\n",
      "The Z-type detector at spacetime location (8, 4, 2) detects errors at spacetime locations [(7, 3, 2), (7, 5, 2), (9, 3, 2), (9, 5, 2), (8, 4, 1)]\n",
      "The Z-type detector at spacetime location (6, 6, 2) detects errors at spacetime locations [(5, 5, 2), (5, 7, 2), (7, 5, 2), (7, 7, 2), (6, 6, 1)]\n",
      "The Z-type detector at spacetime location (8, 8, 2) detects errors at spacetime locations [(7, 7, 2), (7, 9, 2), (9, 7, 2), (9, 9, 2), (8, 8, 1)]\n",
      "The Z-type detector at spacetime location (6, 10, 2) detects errors at spacetime locations [(5, 9, 2), (7, 9, 2), (6, 10, 1)]\n",
      "The logical Z operator can be flipped by errors at spacetime locations [(1, 1, 0), (1, 3, 0), (1, 5, 0), (1, 7, 0), (1, 9, 0), (1, 1, 1), (1, 3, 1), (1, 5, 1), (1, 7, 1), (1, 9, 1), (1, 1, 2), (1, 3, 2), (1, 5, 2), (1, 7, 2), (1, 9, 2)]\n"
     ]
    }
   ],
   "source": [
    "# Check the Z-type check matrices and action matrices for the phenomenological error model with 3 rounds of stabilizer measurements\n",
    "num_round = 3\n",
    "_, _, cm, am = code.get_check_matrices_and_action_matrices('phenomenological', num_round)\n",
    "\n",
    "def from_detector_idx_to_spacetime_coord(detector_idx):\n",
    "    t, space = divmod(detector_idx, code.mz)\n",
    "    x, y = code._zstab_to_coord(space)\n",
    "    return x, y, t\n",
    "\n",
    "def from_error_idx_to_spacetime_coord(error_idx):\n",
    "    if error_idx < num_round * code.n:\n",
    "        t, space = divmod(error_idx, code.n)\n",
    "        x, y = code._dq_to_coord(space)\n",
    "    else:\n",
    "        t, space = divmod(error_idx - num_round * code.n, code.mz)\n",
    "        x, y = code._zstab_to_coord(space)\n",
    "    return x, y, t\n",
    "\n",
    "for i in range(cm.shape[0]):\n",
    "    detector_spacetime = from_detector_idx_to_spacetime_coord(i)\n",
    "    errors_index = np.nonzero(cm[i, :])[0].tolist()\n",
    "    errors_spacetime = [from_error_idx_to_spacetime_coord(j) for j in errors_index]\n",
    "    \n",
    "    print(\"The Z-type detector at spacetime location {} detects errors at spacetime locations {}\".format(\n",
    "        detector_spacetime, errors_spacetime))\n",
    "\n",
    "errors_index = np.nonzero(am[0, :])[0].tolist()\n",
    "errors_spacetime = [from_error_idx_to_spacetime_coord(j) for j in errors_index]\n",
    "print(\"The logical Z operator can be flipped by errors at spacetime locations {}\".format(\n",
    "    errors_spacetime))"
   ]
  },
  {
   "cell_type": "markdown",
   "id": "f02f2e73",
   "metadata": {},
   "source": [
    "# Monte Carlo simulation under code-capacity noise model"
   ]
  },
  {
   "cell_type": "markdown",
   "id": "ea89d843",
   "metadata": {},
   "source": [
    "#### MWPM decoder (from `ldpc` python package)"
   ]
  },
  {
   "cell_type": "code",
   "execution_count": 10,
   "id": "e6124f08",
   "metadata": {},
   "outputs": [
    {
     "data": {
      "image/png": "[encoded data removed]",
      "text/plain": [
       "<Figure size 640x480 with 1 Axes>"
      ]
     },
     "metadata": {},
     "output_type": "display_data"
    }
   ],
   "source": [
    "N = 5000\n",
    "\n",
    "d_list = list(range(5, 18, 4))\n",
    "p_list = np.linspace(0.02, 0.2, 20).tolist()\n",
    "ler_array = np.zeros((len(d_list), len(p_list)))\n",
    "\n",
    "for i, d in enumerate(d_list):\n",
    "    # Construct the code\n",
    "    code = RotatedSurfaceCode(d)\n",
    "    # Get check matrix and action matrix. We focus on X-type stabilizers.\n",
    "    cm, am, _, _ = code.get_check_matrices_and_action_matrices(noise_model='code-capacity')\n",
    "    # Number of detectors and error mechanisms\n",
    "    m = cm.shape[0]\n",
    "    n = cm.shape[1]\n",
    "\n",
    "    for j, p in enumerate(p_list):\n",
    "        # Set error rate vector\n",
    "        error_rate = np.ones(n, dtype=float) * p\n",
    "        # Sample error patterns and calculate syndromes\n",
    "        true_error, syndrome = sample_error_and_syndrome(cm, error_rate, N, seed=42)\n",
    "        # Construct decoder\n",
    "        matching = pymatching.Matching.from_check_matrix(cm, weights=np.log((1 - error_rate) / error_rate))\n",
    "        # Decode\n",
    "        decoded_error = matching.decode_batch(syndrome)\n",
    "        # Calculate logical error rate\n",
    "        ler = get_logical_error_rate(cm, am, true_error, decoded_error)\n",
    "        # Store the result\n",
    "        ler_array[i, j] = ler\n",
    "\n",
    "plt.figure()\n",
    "for i, d in enumerate(d_list):\n",
    "    ler = ler_array[i]\n",
    "    std_err = (ler * (1 - ler) / N) ** 0.5\n",
    "    plt.errorbar(p_list, ler, yerr=std_err, label=\"d={}\".format(d))\n",
    "plt.xlabel(\"Physical error rate\")\n",
    "plt.ylabel(\"Logical error rate\")\n",
    "plt.grid(True)\n",
    "plt.legend()\n",
    "plt.title(\"MWPM decoder, code-capacity noise model\")\n",
    "plt.show()"
   ]
  },
  {
   "cell_type": "markdown",
   "id": "256ac4e7",
   "metadata": {},
   "source": [
    "BP decoder"
   ]
  },
  {
   "cell_type": "code",
   "execution_count": 9,
   "id": "16800238",
   "metadata": {},
   "outputs": [
    {
     "name": "stderr",
     "output_type": "stream",
     "text": [
      "  0%|          | 0/100 [00:00<?, ?it/s]"
     ]
    },
    {
     "name": "stderr",
     "output_type": "stream",
     "text": [
      "100%|██████████| 100/100 [00:00<00:00, 190.24it/s]\n"
     ]
    },
    {
     "name": "stdout",
     "output_type": "stream",
     "text": [
      "Total number of samples:  100\n",
      "Number of samples with incorrect syndrome: 57\n",
      "Number of samples with correct syndrome but with logical error: 2\n",
      "Decoding failure rate: 59.0%\n"
     ]
    }
   ],
   "source": [
    "# Construct decoder\n",
    "decoder = BPDecoder(H=cm, prior=error_rate)\n",
    "# Decode\n",
    "decoded_error = decoder.decode_batch(syndrome)\n",
    "# Show statistics\n",
    "print_statistics(cm, am, true_error, decoded_error)"
   ]
  },
  {
   "cell_type": "markdown",
   "id": "390d2f2b",
   "metadata": {},
   "source": [
    "Relay-BP decoder"
   ]
  },
  {
   "cell_type": "code",
   "execution_count": 10,
   "id": "b082c3c7",
   "metadata": {},
   "outputs": [
    {
     "name": "stderr",
     "output_type": "stream",
     "text": [
      "100%|██████████| 100/100 [00:11<00:00,  8.78it/s]"
     ]
    },
    {
     "name": "stdout",
     "output_type": "stream",
     "text": [
      "Total number of samples:  100\n",
      "Number of samples with incorrect syndrome: 0\n",
      "Number of samples with correct syndrome but with logical error: 7\n",
      "Decoding failure rate: 7.000000000000001%\n"
     ]
    },
    {
     "name": "stderr",
     "output_type": "stream",
     "text": [
      "\n"
     ]
    }
   ],
   "source": [
    "# Set decoder parameters\n",
    "num_sol=1\n",
    "max_leg=301\n",
    "max_iter_list = [80] + [60] * (max_leg - 1)\n",
    "# Sample memory strength parameters\n",
    "np.random.seed(0)\n",
    "mem_strength = -0.25 + 0.85 / 2 * np.random.uniform(-1, 1, size=(max_leg, code.n))\n",
    "mem_strength[0, :] = 0.35\n",
    "\n",
    "# Construct decoder\n",
    "decoder = RelayBPDecoder(\n",
    "    H=cm,\n",
    "    prior=error_rate,\n",
    "    num_sol=num_sol,\n",
    "    max_leg=max_leg,\n",
    "    mem_strength=mem_strength,\n",
    "    max_iter_list=max_iter_list\n",
    ")\n",
    "# Decode\n",
    "decoded_error = decoder.decode_batch(syndrome)\n",
    "# Show statistics\n",
    "print_statistics(cm, am, true_error, decoded_error)"
   ]
  },
  {
   "cell_type": "markdown",
   "id": "d0629dd1",
   "metadata": {},
   "source": [
    "BP+OSD decoder (from `ldpc` python package)"
   ]
  },
  {
   "cell_type": "code",
   "execution_count": 11,
   "id": "32bb7e1b",
   "metadata": {},
   "outputs": [
    {
     "name": "stdout",
     "output_type": "stream",
     "text": [
      "Total number of samples:  100\n",
      "Number of samples with incorrect syndrome: 0\n",
      "Number of samples with correct syndrome but with logical error: 6\n",
      "Decoding failure rate: 6.0%\n"
     ]
    }
   ],
   "source": [
    "# Construct decoder\n",
    "decoder = BpOsdDecoder(\n",
    "    pcm=cm,\n",
    "    error_channel=error_rate.tolist(),\n",
    "    bp_method='minimum_sum',\n",
    "    max_iter=code.n,\n",
    "    schedule='parallel', # 'serial'\n",
    "    osd_method='osd_cs',\n",
    "    osd_order=2\n",
    ")\n",
    "# Decode\n",
    "decoded_error = np.zeros((N, cm.shape[1]), dtype=int)\n",
    "for i in range(N):\n",
    "    decoded_error[i] = decoder.decode(syndrome[i])\n",
    "# Show statistics\n",
    "print_statistics(cm, am, true_error, decoded_error)"
   ]
  },
  {
   "cell_type": "markdown",
   "id": "b3574ae7",
   "metadata": {},
   "source": [
    "# Monte Carlo simulation under phenomenological noise model"
   ]
  },
  {
   "cell_type": "markdown",
   "id": "ce78993a",
   "metadata": {},
   "source": [
    "#### MWPM decoder (from `ldpc` python package)"
   ]
  },
  {
   "cell_type": "code",
   "execution_count": 8,
   "id": "45cd757f",
   "metadata": {},
   "outputs": [
    {
     "name": "stdout",
     "output_type": "stream",
     "text": [
      "d=5, p=0.02, ler=0.036\n",
      "d=5, p=0.023333333333333334, ler=0.05366666666666667\n",
      "d=5, p=0.02666666666666667, ler=0.07666666666666666\n",
      "d=5, p=0.03, ler=0.09466666666666666\n",
      "d=5, p=0.03333333333333333, ler=0.117\n",
      "d=5, p=0.03666666666666667, ler=0.13633333333333333\n",
      "d=5, p=0.04, ler=0.159\n",
      "d=9, p=0.02, ler=0.019333333333333334\n",
      "d=9, p=0.023333333333333334, ler=0.041666666666666664\n",
      "d=9, p=0.02666666666666667, ler=0.06866666666666667\n",
      "d=9, p=0.03, ler=0.102\n",
      "d=9, p=0.03333333333333333, ler=0.14866666666666667\n",
      "d=9, p=0.03666666666666667, ler=0.22333333333333333\n",
      "d=9, p=0.04, ler=0.2776666666666667\n",
      "d=13, p=0.02, ler=0.008333333333333333\n",
      "d=13, p=0.023333333333333334, ler=0.02266666666666667\n",
      "d=13, p=0.02666666666666667, ler=0.054\n",
      "d=13, p=0.03, ler=0.11266666666666666\n",
      "d=13, p=0.03333333333333333, ler=0.19266666666666668\n",
      "d=13, p=0.03666666666666667, ler=0.271\n",
      "d=13, p=0.04, ler=0.3443333333333333\n"
     ]
    },
    {
     "data": {
      "image/png": "[encoded data removed]",
      "text/plain": [
       "<Figure size 640x480 with 1 Axes>"
      ]
     },
     "metadata": {},
     "output_type": "display_data"
    }
   ],
   "source": [
    "N = 3000\n",
    "\n",
    "d_list = list(range(5, 14, 4))\n",
    "p_list = np.linspace(0.02, 0.04, 7).tolist()\n",
    "ler_array = np.zeros((len(d_list), len(p_list)))\n",
    "\n",
    "for i, d in enumerate(d_list):\n",
    "    # Construct the code\n",
    "    code = RotatedSurfaceCode(d)\n",
    "    # Get check matrix and action matrix. We focus on X-type stabilizers.\n",
    "    cm, am, _, _ = code.get_check_matrices_and_action_matrices(noise_model='phenomenological', num_round=d)\n",
    "    # Number of detectors and error mechanisms\n",
    "    m = cm.shape[0]\n",
    "    n = cm.shape[1]\n",
    "\n",
    "    for j, p in enumerate(p_list):\n",
    "        # Set error rate vector\n",
    "        error_rate = np.ones(n, dtype=float) * p\n",
    "        # Sample error patterns and calculate syndromes\n",
    "        true_error, syndrome = sample_error_and_syndrome(cm, error_rate, N, seed=42)\n",
    "        # Construct decoder\n",
    "        matching = pymatching.Matching.from_check_matrix(cm, weights=np.log((1 - error_rate) / error_rate))\n",
    "        # Decode\n",
    "        decoded_error = matching.decode_batch(syndrome)\n",
    "        # Calculate logical error rate\n",
    "        ler = get_logical_error_rate(cm, am, true_error, decoded_error)\n",
    "        # Store the result\n",
    "        ler_array[i, j] = ler\n",
    "\n",
    "        print(f\"d={d}, p={p}, ler={ler}\")\n",
    "\n",
    "plt.figure()\n",
    "for i, d in enumerate(d_list):\n",
    "    ler = ler_array[i]\n",
    "    std_err = (ler * (1 - ler) / N) ** 0.5\n",
    "    plt.errorbar(p_list, ler, yerr=std_err, label=\"d={}\".format(d))\n",
    "plt.xlabel(\"Physical error rate\")\n",
    "plt.ylabel(\"Logical error rate\")\n",
    "plt.grid(True)\n",
    "plt.legend()\n",
    "plt.title(\"MWPM decoder, code-capacity noise model\")\n",
    "plt.show()"
   ]
  },
  {
   "cell_type": "markdown",
   "id": "e5a23b9a",
   "metadata": {},
   "source": [
    "BP+OSD decoder (from `ldpc` python package)"
   ]
  },
  {
   "cell_type": "code",
   "execution_count": 11,
   "id": "0a32de44",
   "metadata": {},
   "outputs": [
    {
     "name": "stderr",
     "output_type": "stream",
     "text": [
      "100%|██████████| 1000/1000 [00:31<00:00, 32.11it/s]\n"
     ]
    },
    {
     "name": "stdout",
     "output_type": "stream",
     "text": [
      "Total number of samples:  1000\n",
      "Number of samples with incorrect syndrome: 0\n",
      "Number of samples with correct syndrome but with logical error: 28\n",
      "Decoding failure rate: 2.8000000000000003%\n",
      "Logical error rate per cycle: 0.2578440508133828%\n"
     ]
    }
   ],
   "source": [
    "# Construct decoder\n",
    "decoder = BpOsdDecoder(\n",
    "    pcm=cm,\n",
    "    error_channel=error_rate.tolist(),\n",
    "    bp_method='minimum_sum',\n",
    "    max_iter=cm.shape[1],\n",
    "    schedule='parallel', # 'serial'\n",
    "    osd_method='osd_cs',\n",
    "    osd_order=2\n",
    ")\n",
    "# Decode\n",
    "decoded_error = np.zeros((N, cm.shape[1]), dtype=int)\n",
    "for i in tqdm(range(N)):\n",
    "    decoded_error[i] = decoder.decode(syndrome[i])\n",
    "# Show statistics\n",
    "print_statistics(cm, am, true_error, decoded_error, num_round=num_round)"
   ]
  },
  {
   "cell_type": "markdown",
   "id": "76b5f2b9",
   "metadata": {},
   "source": [
    "BP decoder"
   ]
  },
  {
   "cell_type": "code",
   "execution_count": 18,
   "id": "51dc5850",
   "metadata": {},
   "outputs": [
    {
     "name": "stderr",
     "output_type": "stream",
     "text": [
      "100%|██████████| 100/100 [00:37<00:00,  2.64it/s]"
     ]
    },
    {
     "name": "stdout",
     "output_type": "stream",
     "text": [
      "Total number of samples:  100\n",
      "Number of samples with incorrect syndrome: 86\n",
      "Number of samples with correct syndrome but with logical error: 0\n",
      "Decoding failure rate: 86.0%\n"
     ]
    },
    {
     "name": "stderr",
     "output_type": "stream",
     "text": [
      "\n"
     ]
    }
   ],
   "source": [
    "# Construct decoder\n",
    "decoder = BPDecoder(H=cm, prior=error_rate)\n",
    "# Decode\n",
    "decoded_error = decoder.decode_batch(syndrome)\n",
    "# Show statistics\n",
    "print_statistics(cm, am, true_error, decoded_error)"
   ]
  },
  {
   "cell_type": "markdown",
   "id": "805119d9",
   "metadata": {},
   "source": [
    "Relay-BP decoder"
   ]
  },
  {
   "cell_type": "code",
   "execution_count": 22,
   "id": "a7eb857f",
   "metadata": {},
   "outputs": [
    {
     "name": "stderr",
     "output_type": "stream",
     "text": [
      "100%|██████████| 100/100 [00:33<00:00,  2.95it/s]"
     ]
    },
    {
     "name": "stdout",
     "output_type": "stream",
     "text": [
      "Total number of samples:  100\n",
      "Number of samples with incorrect syndrome: 71\n",
      "Number of samples with correct syndrome but with logical error: 6\n",
      "Decoding failure rate: 77.0%\n"
     ]
    },
    {
     "name": "stderr",
     "output_type": "stream",
     "text": [
      "\n"
     ]
    }
   ],
   "source": [
    "# Set decoder parameters\n",
    "num_sol=1\n",
    "max_leg=3\n",
    "max_iter_list = [80] + [60] * (max_leg - 1)\n",
    "# Sample memory strength parameters\n",
    "np.random.seed(0)\n",
    "mem_strength = -0.25 + 0.85 / 2 * np.random.uniform(-1, 1, size=(max_leg, cm.shape[1]))\n",
    "mem_strength[0, :] = 0.35\n",
    "\n",
    "# Construct decoder\n",
    "decoder = RelayBPDecoder(\n",
    "    H=cm,\n",
    "    prior=error_rate,\n",
    "    num_sol=num_sol,\n",
    "    max_leg=max_leg,\n",
    "    mem_strength=mem_strength,\n",
    "    max_iter_list=max_iter_list\n",
    ")\n",
    "# Decode\n",
    "decoded_error = decoder.decode_batch(syndrome)\n",
    "# Show statistics\n",
    "print_statistics(cm, am, true_error, decoded_error)"
   ]
  },
  {
   "cell_type": "markdown",
   "id": "287c371e",
   "metadata": {},
   "source": [
    "MWPM decoder (from `ldpc` python package)"
   ]
  },
  {
   "cell_type": "code",
   "execution_count": null,
   "id": "bf90f413",
   "metadata": {},
   "outputs": [],
   "source": [
    "weights = np.log((1 - error_rate) / error_rate)\n",
    "matching = pymatching.Matching.from_check_matrix(cm, weights=weights)\n",
    "decoded_error = matching.decode_batch(syndrome)\n",
    "print_statistics(cm, am, true_error, decoded_error, num_round=num_round)"
   ]
  },
  {
   "cell_type": "markdown",
   "id": "88bdf9dc",
   "metadata": {},
   "source": []
  }
 ],
 "metadata": {
  "kernelspec": {
   "display_name": ".env",
   "language": "python",
   "name": "python3"
  },
  "language_info": {
   "codemirror_mode": {
    "name": "ipython",
    "version": 3
   },
   "file_extension": ".py",
   "mimetype": "text/x-python",
   "name": "python",
   "nbconvert_exporter": "python",
   "pygments_lexer": "ipython3",
   "version": "3.10.6"
  }
 },
 "nbformat": 4,
 "nbformat_minor": 5
}
