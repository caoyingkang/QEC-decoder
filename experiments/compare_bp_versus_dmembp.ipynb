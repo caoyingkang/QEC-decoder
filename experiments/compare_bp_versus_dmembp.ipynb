{
 "cells": [
  {
   "cell_type": "code",
   "execution_count": 1,
   "id": "79082967",
   "metadata": {},
   "outputs": [],
   "source": [
    "import numpy as np\n",
    "from qecdec import BPDecoder, DMemBPDecoder, RotatedSurfaceCode\n",
    "from beliefmatching import detector_error_model_to_check_matrices\n",
    "from time import time"
   ]
  },
  {
   "cell_type": "code",
   "execution_count": 2,
   "id": "e1e6d8f7",
   "metadata": {},
   "outputs": [],
   "source": [
    "d = 7\n",
    "p = 0.005\n",
    "num_shots = 10_000\n",
    "\n",
    "code = RotatedSurfaceCode(d=d)\n",
    "circuit = code.make_circuit_memory_z_experiment(\n",
    "    rounds=d,\n",
    "    data_qubit_error_rate=p,\n",
    "    meas_error_rate=p,\n",
    "    prep_error_rate=p,\n",
    "    gate1_error_rate=p,\n",
    "    gate2_error_rate=p,\n",
    "    keep_z_detectors_only=True\n",
    ")\n",
    "detectors_sample, observables_sample = circuit.compile_detector_sampler(seed=0).sample(num_shots, separate_observables=True)\n",
    "detectors_sample = detectors_sample.astype(np.uint8)\n",
    "observables_sample = observables_sample.astype(np.uint8)\n",
    "\n",
    "dem = circuit.detector_error_model()\n",
    "matrices = detector_error_model_to_check_matrices(dem)\n",
    "check_matrix, observables_matrix, priors = matrices.check_matrix, matrices.observables_matrix, matrices.priors\n",
    "check_matrix = check_matrix.toarray().astype(np.uint8)\n",
    "observables_matrix = observables_matrix.toarray().astype(np.uint8)\n",
    "priors = priors.astype(np.float64)"
   ]
  },
  {
   "cell_type": "code",
   "execution_count": 3,
   "id": "00893df3",
   "metadata": {},
   "outputs": [
    {
     "name": "stdout",
     "output_type": "stream",
     "text": [
      "BP decoder time: 4.979511022567749 seconds\n",
      "Number of nonconverged: 2069\n",
      "Number of logical errors: 695\n"
     ]
    }
   ],
   "source": [
    "bp = BPDecoder(\n",
    "    pcm=check_matrix,\n",
    "    prior=priors,\n",
    "    max_iter=50\n",
    ")\n",
    "\n",
    "t1 = time()\n",
    "ehat = bp.decode_batch(detectors_sample)\n",
    "t2 = time()\n",
    "print(f\"BP decoder time: {t2 - t1} seconds\")\n",
    "\n",
    "detectors_predict = (ehat @ check_matrix.T) % 2\n",
    "num_nonconverged = np.sum(np.any(detectors_predict != detectors_sample, axis=1))\n",
    "print(f\"Number of nonconverged: {num_nonconverged}\")\n",
    "\n",
    "observables_predict = (ehat @ observables_matrix.T) % 2\n",
    "num_logical_errors = np.sum(np.any(observables_predict != observables_sample, axis=1))\n",
    "print(f\"Number of logical errors: {num_logical_errors}\")"
   ]
  },
  {
   "cell_type": "code",
   "execution_count": 4,
   "id": "ebd69e69",
   "metadata": {},
   "outputs": [
    {
     "name": "stdout",
     "output_type": "stream",
     "text": [
      "Seed: 0\n",
      "Number of nonconverged: 1014\n",
      "Number of logical errors: 623\n",
      "Seed: 1\n",
      "Number of nonconverged: 919\n",
      "Number of logical errors: 599\n",
      "Seed: 2\n",
      "Number of nonconverged: 1000\n",
      "Number of logical errors: 623\n",
      "Seed: 3\n",
      "Number of nonconverged: 951\n",
      "Number of logical errors: 566\n",
      "Seed: 4\n",
      "Number of nonconverged: 886\n",
      "Number of logical errors: 549\n",
      "Seed: 5\n",
      "Number of nonconverged: 832\n",
      "Number of logical errors: 531\n",
      "Seed: 6\n",
      "Number of nonconverged: 870\n",
      "Number of logical errors: 599\n",
      "Seed: 7\n",
      "Number of nonconverged: 910\n",
      "Number of logical errors: 606\n",
      "Seed: 8\n",
      "Number of nonconverged: 963\n",
      "Number of logical errors: 625\n",
      "Seed: 9\n",
      "Number of nonconverged: 1004\n",
      "Number of logical errors: 599\n"
     ]
    }
   ],
   "source": [
    "for seed in range(10):\n",
    "    print(f\"Seed: {seed}\")\n",
    "    np.random.seed(seed)\n",
    "    gamma = np.random.uniform(-0.2, 0.9, check_matrix.shape[1])\n",
    "    # gamma = np.random.uniform(-0.1, 0.9, check_matrix.shape[1])\n",
    "\n",
    "    dmembp = DMemBPDecoder(\n",
    "        pcm=check_matrix,\n",
    "        prior=priors,\n",
    "        gamma=gamma,\n",
    "        max_iter=50\n",
    "    )\n",
    "\n",
    "    ehat = dmembp.decode_batch(detectors_sample)\n",
    "\n",
    "    detectors_predict = (ehat @ check_matrix.T) % 2\n",
    "    num_nonconverged = np.sum(np.any(detectors_predict != detectors_sample, axis=1))\n",
    "    print(f\"Number of nonconverged: {num_nonconverged}\")\n",
    "\n",
    "    observables_predict = (ehat @ observables_matrix.T) % 2\n",
    "    num_logical_errors = np.sum(np.any(observables_predict != observables_sample, axis=1))\n",
    "    print(f\"Number of logical errors: {num_logical_errors}\")"
   ]
  },
  {
   "cell_type": "code",
   "execution_count": null,
   "id": "9ab07664",
   "metadata": {},
   "outputs": [],
   "source": []
  }
 ],
 "metadata": {
  "kernelspec": {
   "display_name": ".env",
   "language": "python",
   "name": "python3"
  },
  "language_info": {
   "codemirror_mode": {
    "name": "ipython",
    "version": 3
   },
   "file_extension": ".py",
   "mimetype": "text/x-python",
   "name": "python",
   "nbconvert_exporter": "python",
   "pygments_lexer": "ipython3",
   "version": "3.10.6"
  }
 },
 "nbformat": 4,
 "nbformat_minor": 5
}
