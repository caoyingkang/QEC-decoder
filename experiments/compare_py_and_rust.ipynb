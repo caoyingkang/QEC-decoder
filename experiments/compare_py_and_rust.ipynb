{
 "cells": [
  {
   "cell_type": "code",
   "execution_count": 1,
   "id": "6b2ea97d",
   "metadata": {},
   "outputs": [],
   "source": [
    "import numpy as np\n",
    "import scipy.sparse as sp\n",
    "from qecdec import BPDecoder as BPDecoder_Rust\n",
    "from qecdec import BPDecoder_Py, RotatedSurfaceCode\n",
    "from qecdec import detector_error_model_to_check_matrices\n",
    "from time import time\n"
   ]
  },
  {
   "cell_type": "code",
   "execution_count": 2,
   "id": "d082a71a",
   "metadata": {},
   "outputs": [],
   "source": [
    "d = 5\n",
    "p = 0.01\n",
    "num_shots = 1_000\n",
    "\n",
    "code = RotatedSurfaceCode(d=d)\n",
    "circuit = code.make_circuit_memory_z_experiment(\n",
    "    rounds=d,\n",
    "    data_qubit_error_rate=p,\n",
    "    meas_error_rate=p,\n",
    "    prep_error_rate=p,\n",
    "    gate1_error_rate=p,\n",
    "    gate2_error_rate=p,\n",
    "    keep_z_detectors_only=True\n",
    ")\n",
    "detectors_sample, observables_sample = circuit.compile_detector_sampler(seed=0).sample(num_shots, separate_observables=True)\n",
    "detectors_sample = detectors_sample.astype(np.uint8)\n",
    "observables_sample = observables_sample.astype(np.uint8)\n",
    "\n",
    "dem = circuit.detector_error_model()\n",
    "matrices = detector_error_model_to_check_matrices(dem)\n",
    "check_matrix, observables_matrix, priors = matrices.check_matrix, matrices.observables_matrix, matrices.priors\n",
    "check_matrix = check_matrix.toarray().astype(np.uint8)\n",
    "observables_matrix = observables_matrix.toarray().astype(np.uint8)\n",
    "priors = priors.astype(np.float64)"
   ]
  },
  {
   "cell_type": "code",
   "execution_count": 3,
   "id": "820fa5e8",
   "metadata": {},
   "outputs": [],
   "source": [
    "decoder_py = BPDecoder_Py(\n",
    "    H=sp.csr_matrix(check_matrix),\n",
    "    prior=priors,\n",
    "    max_iter=50\n",
    ")\n",
    "\n",
    "decoder_rust = BPDecoder_Rust(\n",
    "    pcm=check_matrix,\n",
    "    prior=priors,\n",
    "    max_iter=50\n",
    ")"
   ]
  },
  {
   "cell_type": "code",
   "execution_count": 4,
   "id": "88a775fe",
   "metadata": {},
   "outputs": [
    {
     "name": "stdout",
     "output_type": "stream",
     "text": [
      "37.6 μs ± 183 ns per loop (mean ± std. dev. of 7 runs, 10,000 loops each)\n"
     ]
    }
   ],
   "source": [
    "%timeit decoder_rust.decode(detectors_sample[0])"
   ]
  },
  {
   "cell_type": "code",
   "execution_count": 5,
   "id": "2fb2e279",
   "metadata": {},
   "outputs": [
    {
     "name": "stdout",
     "output_type": "stream",
     "text": [
      "48.6 ms ± 235 μs per loop (mean ± std. dev. of 7 runs, 10 loops each)\n"
     ]
    }
   ],
   "source": [
    "%timeit decoder_py.decode(detectors_sample[0])"
   ]
  },
  {
   "cell_type": "code",
   "execution_count": 6,
   "id": "0347fdd0",
   "metadata": {},
   "outputs": [
    {
     "name": "stdout",
     "output_type": "stream",
     "text": [
      "Rust decoder time: 0.05470085144042969 seconds\n",
      "Number of nonconverged: 224\n",
      "Number of logical errors: 150\n"
     ]
    }
   ],
   "source": [
    "t1 = time()\n",
    "ehat = decoder_rust.decode_batch(detectors_sample)\n",
    "t2 = time()\n",
    "print(f\"Rust decoder time: {t2 - t1} seconds\")\n",
    "\n",
    "detectors_predict = (ehat @ check_matrix.T) % 2\n",
    "num_nonconverged = np.sum(np.any(detectors_predict != detectors_sample, axis=1))\n",
    "print(f\"Number of nonconverged: {num_nonconverged}\")\n",
    "\n",
    "observables_predict = (ehat @ observables_matrix.T) % 2\n",
    "num_logical_errors = np.sum(np.any(observables_predict != observables_sample, axis=1))\n",
    "print(f\"Number of logical errors: {num_logical_errors}\")"
   ]
  },
  {
   "cell_type": "code",
   "execution_count": 7,
   "id": "13e93a00",
   "metadata": {},
   "outputs": [
    {
     "name": "stdout",
     "output_type": "stream",
     "text": [
      "Python decoder time: 70.25258111953735 seconds\n",
      "Number of nonconverged: 225\n",
      "Number of logical errors: 136\n"
     ]
    }
   ],
   "source": [
    "t1 = time()\n",
    "ehat = decoder_py.decode_batch(detectors_sample, progress_bar=False)\n",
    "t2 = time()\n",
    "print(f\"Python decoder time: {t2 - t1} seconds\")\n",
    "\n",
    "detectors_predict = (ehat @ check_matrix.T) % 2\n",
    "num_nonconverged = np.sum(np.any(detectors_predict != detectors_sample, axis=1))\n",
    "print(f\"Number of nonconverged: {num_nonconverged}\")\n",
    "\n",
    "observables_predict = (ehat @ observables_matrix.T) % 2\n",
    "num_logical_errors = np.sum(np.any(observables_predict != observables_sample, axis=1))\n",
    "print(f\"Number of logical errors: {num_logical_errors}\")"
   ]
  },
  {
   "cell_type": "code",
   "execution_count": null,
   "id": "7b37db9e",
   "metadata": {},
   "outputs": [],
   "source": []
  }
 ],
 "metadata": {
  "kernelspec": {
   "display_name": ".env",
   "language": "python",
   "name": "python3"
  },
  "language_info": {
   "codemirror_mode": {
    "name": "ipython",
    "version": 3
   },
   "file_extension": ".py",
   "mimetype": "text/x-python",
   "name": "python",
   "nbconvert_exporter": "python",
   "pygments_lexer": "ipython3",
   "version": "3.10.6"
  }
 },
 "nbformat": 4,
 "nbformat_minor": 5
}
