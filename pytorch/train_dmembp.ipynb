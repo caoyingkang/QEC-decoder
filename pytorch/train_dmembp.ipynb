{
 "cells": [
  {
   "cell_type": "code",
   "execution_count": 4,
   "id": "33711a1c",
   "metadata": {},
   "outputs": [],
   "source": [
    "import numpy as np\n",
    "import torch\n",
    "\n",
    "from qecdec import RotatedSurfaceCode, detector_error_model_to_check_matrices\n",
    "from learned_decoders import *\n",
    "from train_utils import *\n",
    "\n",
    "d = 5\n",
    "p = 0.01\n",
    "# num_bp_iters = 5\n",
    "# learning_rate = 0.002\n",
    "num_bp_iters = 8\n",
    "loss_iters = [4, 5, 6, 7]\n",
    "learning_rate = 0.001\n",
    "\n",
    "beta = 1.0"
   ]
  },
  {
   "cell_type": "code",
   "execution_count": 5,
   "id": "9094f6b2",
   "metadata": {},
   "outputs": [
    {
     "name": "stdout",
     "output_type": "stream",
     "text": [
      "Number of error mechanisms: 186\n",
      "Number of detectors: 72\n",
      "Number of observables: 1\n"
     ]
    }
   ],
   "source": [
    "code = RotatedSurfaceCode(d=d)\n",
    "circuit = code.make_circuit_memory_z_experiment(\n",
    "    rounds=d,\n",
    "    data_qubit_error_rate=p,\n",
    "    meas_error_rate=p,\n",
    "    # prep_error_rate=p,\n",
    "    # gate1_error_rate=p,\n",
    "    # gate2_error_rate=p,\n",
    "    keep_z_detectors_only=True\n",
    ")\n",
    "dem = circuit.detector_error_model()\n",
    "matrices = detector_error_model_to_check_matrices(dem)\n",
    "chkmat = matrices.check_matrix.toarray().astype(np.uint8)\n",
    "obsmat = matrices.observables_matrix.toarray().astype(np.uint8)\n",
    "prior = matrices.priors.astype(np.float64)\n",
    "\n",
    "print(\"Number of error mechanisms:\", chkmat.shape[1])\n",
    "print(\"Number of detectors:\", chkmat.shape[0])\n",
    "print(\"Number of observables:\", obsmat.shape[0])"
   ]
  },
  {
   "cell_type": "code",
   "execution_count": 6,
   "id": "e29c27ca",
   "metadata": {},
   "outputs": [
    {
     "name": "stdout",
     "output_type": "stream",
     "text": [
      "Size of train_dataset: 25556\n",
      "Size of val_dataset: 815\n"
     ]
    }
   ],
   "source": [
    "train_dataset, val_dataset = build_datasets(\n",
    "    dem,\n",
    "    train_shots=10_000,\n",
    "    val_shots=1_000,\n",
    "    seed=42,\n",
    ")\n",
    "print(\"Size of train_dataset:\", len(train_dataset))\n",
    "print(\"Size of val_dataset:\", len(val_dataset))\n",
    "\n",
    "model = LearnedDMemBP(chkmat, prior, num_iters=num_bp_iters, min_impl_method=\"smooth\", sign_impl_method=\"smooth\")\n",
    "# model = LearnedDMemBP(chkmat, prior, num_iters=num_bp_iters, min_impl_method=\"hard\", sign_impl_method=\"hard\")\n",
    "# model = LearnedDOffBP(chkmat, prior, num_iters=num_bp_iters, min_impl_method=\"hard\", sign_impl_method=\"hard\")\n",
    "loss_fn = DecodingLoss(chkmat, obsmat, beta=beta, loss_iters=loss_iters)\n",
    "metric = DecodingMetric(chkmat, obsmat)\n",
    "optimizer = torch.optim.Adam(model.parameters(), lr=learning_rate)"
   ]
  },
  {
   "cell_type": "code",
   "execution_count": 7,
   "id": "aadb66b1",
   "metadata": {},
   "outputs": [
    {
     "name": "stdout",
     "output_type": "stream",
     "text": [
      "Using cpu device\n"
     ]
    },
    {
     "name": "stderr",
     "output_type": "stream",
     "text": [
      "Epoch 1/50: 100%|██████████| 100/100 [09:49<00:00,  5.90s/it, avg_loss=0.336768, grad_norm=0.493046]\n"
     ]
    },
    {
     "name": "stdout",
     "output_type": "stream",
     "text": [
      "Epoch 1 Summary:\n",
      "  Avg Train Loss: 0.336768\n",
      "  Avg Val Loss: 0.355080\n",
      "  wrong_syndrome_rate: 0.041718\n",
      "  wrong_observable_rate: 0.003681\n",
      "  failure_rate: 0.042945\n",
      "  Learning Rate: 0.001000\n",
      "\n"
     ]
    },
    {
     "name": "stderr",
     "output_type": "stream",
     "text": [
      "Epoch 2/50: 100%|██████████| 100/100 [43:26<00:00, 26.06s/it, avg_loss=0.263088, grad_norm=0.364045]  \n"
     ]
    },
    {
     "name": "stdout",
     "output_type": "stream",
     "text": [
      "Epoch 2 Summary:\n",
      "  Avg Train Loss: 0.263088\n",
      "  Avg Val Loss: 0.283740\n",
      "  wrong_syndrome_rate: 0.039264\n",
      "  wrong_observable_rate: 0.004908\n",
      "  failure_rate: 0.040491\n",
      "  Learning Rate: 0.001000\n",
      "\n"
     ]
    },
    {
     "name": "stderr",
     "output_type": "stream",
     "text": [
      "Epoch 3/50: 100%|██████████| 100/100 [08:58<00:00,  5.39s/it, avg_loss=0.218783, grad_norm=0.300012]\n"
     ]
    },
    {
     "name": "stdout",
     "output_type": "stream",
     "text": [
      "Epoch 3 Summary:\n",
      "  Avg Train Loss: 0.218783\n",
      "  Avg Val Loss: 0.240784\n",
      "  wrong_syndrome_rate: 0.030675\n",
      "  wrong_observable_rate: 0.004908\n",
      "  failure_rate: 0.031902\n",
      "  Learning Rate: 0.001000\n",
      "\n"
     ]
    },
    {
     "name": "stderr",
     "output_type": "stream",
     "text": [
      "Epoch 4/50: 100%|██████████| 100/100 [08:56<00:00,  5.37s/it, avg_loss=0.189910, grad_norm=0.284244]\n"
     ]
    },
    {
     "name": "stdout",
     "output_type": "stream",
     "text": [
      "Epoch 4 Summary:\n",
      "  Avg Train Loss: 0.189910\n",
      "  Avg Val Loss: 0.213106\n",
      "  wrong_syndrome_rate: 0.020859\n",
      "  wrong_observable_rate: 0.003681\n",
      "  failure_rate: 0.022086\n",
      "  Learning Rate: 0.001000\n",
      "\n"
     ]
    },
    {
     "name": "stderr",
     "output_type": "stream",
     "text": [
      "Epoch 5/50: 100%|██████████| 100/100 [09:04<00:00,  5.44s/it, avg_loss=0.169803, grad_norm=0.225923]\n"
     ]
    },
    {
     "name": "stdout",
     "output_type": "stream",
     "text": [
      "Epoch 5 Summary:\n",
      "  Avg Train Loss: 0.169803\n",
      "  Avg Val Loss: 0.195613\n",
      "  wrong_syndrome_rate: 0.020859\n",
      "  wrong_observable_rate: 0.004908\n",
      "  failure_rate: 0.022086\n",
      "  Learning Rate: 0.001000\n",
      "\n"
     ]
    },
    {
     "name": "stderr",
     "output_type": "stream",
     "text": [
      "Epoch 6/50: 100%|██████████| 100/100 [09:11<00:00,  5.52s/it, avg_loss=0.155173, grad_norm=0.258300]\n"
     ]
    },
    {
     "name": "stdout",
     "output_type": "stream",
     "text": [
      "Epoch 6 Summary:\n",
      "  Avg Train Loss: 0.155173\n",
      "  Avg Val Loss: 0.184986\n",
      "  wrong_syndrome_rate: 0.018405\n",
      "  wrong_observable_rate: 0.004908\n",
      "  failure_rate: 0.019632\n",
      "  Learning Rate: 0.001000\n",
      "\n"
     ]
    },
    {
     "name": "stderr",
     "output_type": "stream",
     "text": [
      "Epoch 7/50: 100%|██████████| 100/100 [09:13<00:00,  5.54s/it, avg_loss=0.143740, grad_norm=0.285132]\n"
     ]
    },
    {
     "name": "stdout",
     "output_type": "stream",
     "text": [
      "Epoch 7 Summary:\n",
      "  Avg Train Loss: 0.143740\n",
      "  Avg Val Loss: 0.177916\n",
      "  wrong_syndrome_rate: 0.017178\n",
      "  wrong_observable_rate: 0.003681\n",
      "  failure_rate: 0.018405\n",
      "  Learning Rate: 0.001000\n",
      "\n"
     ]
    },
    {
     "name": "stderr",
     "output_type": "stream",
     "text": [
      "Epoch 8/50: 100%|██████████| 100/100 [09:11<00:00,  5.52s/it, avg_loss=0.134260, grad_norm=0.187984]\n"
     ]
    },
    {
     "name": "stdout",
     "output_type": "stream",
     "text": [
      "Epoch 8 Summary:\n",
      "  Avg Train Loss: 0.134260\n",
      "  Avg Val Loss: 0.171878\n",
      "  wrong_syndrome_rate: 0.015951\n",
      "  wrong_observable_rate: 0.003681\n",
      "  failure_rate: 0.017178\n",
      "  Learning Rate: 0.001000\n",
      "\n"
     ]
    },
    {
     "name": "stderr",
     "output_type": "stream",
     "text": [
      "Epoch 9/50: 100%|██████████| 100/100 [09:04<00:00,  5.45s/it, avg_loss=0.125684, grad_norm=0.248058]\n"
     ]
    },
    {
     "name": "stdout",
     "output_type": "stream",
     "text": [
      "Epoch 9 Summary:\n",
      "  Avg Train Loss: 0.125684\n",
      "  Avg Val Loss: 0.167345\n",
      "  wrong_syndrome_rate: 0.017178\n",
      "  wrong_observable_rate: 0.004908\n",
      "  failure_rate: 0.018405\n",
      "  Learning Rate: 0.001000\n",
      "\n"
     ]
    },
    {
     "name": "stderr",
     "output_type": "stream",
     "text": [
      "Epoch 10/50: 100%|██████████| 100/100 [09:07<00:00,  5.47s/it, avg_loss=0.118091, grad_norm=0.273541]\n"
     ]
    },
    {
     "name": "stdout",
     "output_type": "stream",
     "text": [
      "Epoch 10 Summary:\n",
      "  Avg Train Loss: 0.118091\n",
      "  Avg Val Loss: 0.163466\n",
      "  wrong_syndrome_rate: 0.015951\n",
      "  wrong_observable_rate: 0.003681\n",
      "  failure_rate: 0.017178\n",
      "  Learning Rate: 0.001000\n",
      "\n"
     ]
    },
    {
     "name": "stderr",
     "output_type": "stream",
     "text": [
      "Epoch 11/50: 100%|██████████| 100/100 [09:11<00:00,  5.52s/it, avg_loss=0.111498, grad_norm=0.279528]\n"
     ]
    },
    {
     "name": "stdout",
     "output_type": "stream",
     "text": [
      "Epoch 11 Summary:\n",
      "  Avg Train Loss: 0.111498\n",
      "  Avg Val Loss: 0.159761\n",
      "  wrong_syndrome_rate: 0.014724\n",
      "  wrong_observable_rate: 0.002454\n",
      "  failure_rate: 0.015951\n",
      "  Learning Rate: 0.001000\n",
      "\n"
     ]
    },
    {
     "name": "stderr",
     "output_type": "stream",
     "text": [
      "Epoch 12/50: 100%|██████████| 100/100 [09:09<00:00,  5.49s/it, avg_loss=0.105540, grad_norm=0.179675]\n"
     ]
    },
    {
     "name": "stdout",
     "output_type": "stream",
     "text": [
      "Epoch 12 Summary:\n",
      "  Avg Train Loss: 0.105540\n",
      "  Avg Val Loss: 0.157093\n",
      "  wrong_syndrome_rate: 0.017178\n",
      "  wrong_observable_rate: 0.004908\n",
      "  failure_rate: 0.018405\n",
      "  Learning Rate: 0.001000\n",
      "\n"
     ]
    },
    {
     "name": "stderr",
     "output_type": "stream",
     "text": [
      "Epoch 13/50: 100%|██████████| 100/100 [40:11<00:00, 24.12s/it, avg_loss=0.100612, grad_norm=0.244458]  \n"
     ]
    },
    {
     "name": "stdout",
     "output_type": "stream",
     "text": [
      "Epoch 13 Summary:\n",
      "  Avg Train Loss: 0.100612\n",
      "  Avg Val Loss: 0.154658\n",
      "  wrong_syndrome_rate: 0.018405\n",
      "  wrong_observable_rate: 0.004908\n",
      "  failure_rate: 0.019632\n",
      "  Learning Rate: 0.001000\n",
      "\n"
     ]
    },
    {
     "name": "stderr",
     "output_type": "stream",
     "text": [
      "Epoch 14/50: 100%|██████████| 100/100 [08:57<00:00,  5.37s/it, avg_loss=0.096351, grad_norm=0.330273]\n"
     ]
    },
    {
     "name": "stdout",
     "output_type": "stream",
     "text": [
      "Epoch 14 Summary:\n",
      "  Avg Train Loss: 0.096351\n",
      "  Avg Val Loss: 0.152087\n",
      "  wrong_syndrome_rate: 0.017178\n",
      "  wrong_observable_rate: 0.003681\n",
      "  failure_rate: 0.018405\n",
      "  Learning Rate: 0.001000\n",
      "\n"
     ]
    },
    {
     "name": "stderr",
     "output_type": "stream",
     "text": [
      "Epoch 15/50: 100%|██████████| 100/100 [08:57<00:00,  5.37s/it, avg_loss=0.092379, grad_norm=0.195796]\n"
     ]
    },
    {
     "name": "stdout",
     "output_type": "stream",
     "text": [
      "Epoch 15 Summary:\n",
      "  Avg Train Loss: 0.092379\n",
      "  Avg Val Loss: 0.150285\n",
      "  wrong_syndrome_rate: 0.017178\n",
      "  wrong_observable_rate: 0.003681\n",
      "  failure_rate: 0.018405\n",
      "  Learning Rate: 0.001000\n",
      "\n"
     ]
    },
    {
     "name": "stderr",
     "output_type": "stream",
     "text": [
      "Epoch 16/50: 100%|██████████| 100/100 [55:30<00:00, 33.31s/it, avg_loss=0.088822, grad_norm=0.180528]  \n"
     ]
    },
    {
     "name": "stdout",
     "output_type": "stream",
     "text": [
      "Epoch 16 Summary:\n",
      "  Avg Train Loss: 0.088822\n",
      "  Avg Val Loss: 0.148220\n",
      "  wrong_syndrome_rate: 0.014724\n",
      "  wrong_observable_rate: 0.003681\n",
      "  failure_rate: 0.015951\n",
      "  Learning Rate: 0.001000\n",
      "\n"
     ]
    },
    {
     "name": "stderr",
     "output_type": "stream",
     "text": [
      "Epoch 17/50: 100%|██████████| 100/100 [08:55<00:00,  5.36s/it, avg_loss=0.085541, grad_norm=0.150949]\n"
     ]
    },
    {
     "name": "stdout",
     "output_type": "stream",
     "text": [
      "Epoch 17 Summary:\n",
      "  Avg Train Loss: 0.085541\n",
      "  Avg Val Loss: 0.145771\n",
      "  wrong_syndrome_rate: 0.014724\n",
      "  wrong_observable_rate: 0.003681\n",
      "  failure_rate: 0.015951\n",
      "  Learning Rate: 0.001000\n",
      "\n"
     ]
    },
    {
     "name": "stderr",
     "output_type": "stream",
     "text": [
      "Epoch 18/50: 100%|██████████| 100/100 [08:55<00:00,  5.36s/it, avg_loss=0.082444, grad_norm=0.162805]\n"
     ]
    },
    {
     "name": "stdout",
     "output_type": "stream",
     "text": [
      "Epoch 18 Summary:\n",
      "  Avg Train Loss: 0.082444\n",
      "  Avg Val Loss: 0.143775\n",
      "  wrong_syndrome_rate: 0.013497\n",
      "  wrong_observable_rate: 0.002454\n",
      "  failure_rate: 0.014724\n",
      "  Learning Rate: 0.001000\n",
      "\n"
     ]
    },
    {
     "name": "stderr",
     "output_type": "stream",
     "text": [
      "Epoch 19/50: 100%|██████████| 100/100 [08:53<00:00,  5.33s/it, avg_loss=0.079693, grad_norm=0.095106]\n"
     ]
    },
    {
     "name": "stdout",
     "output_type": "stream",
     "text": [
      "Epoch 19 Summary:\n",
      "  Avg Train Loss: 0.079693\n",
      "  Avg Val Loss: 0.141240\n",
      "  wrong_syndrome_rate: 0.013497\n",
      "  wrong_observable_rate: 0.002454\n",
      "  failure_rate: 0.014724\n",
      "  Learning Rate: 0.001000\n",
      "\n"
     ]
    },
    {
     "name": "stderr",
     "output_type": "stream",
     "text": [
      "Epoch 20/50: 100%|██████████| 100/100 [09:01<00:00,  5.42s/it, avg_loss=0.077150, grad_norm=0.101948]\n"
     ]
    },
    {
     "name": "stdout",
     "output_type": "stream",
     "text": [
      "Epoch 20 Summary:\n",
      "  Avg Train Loss: 0.077150\n",
      "  Avg Val Loss: 0.139536\n",
      "  wrong_syndrome_rate: 0.013497\n",
      "  wrong_observable_rate: 0.002454\n",
      "  failure_rate: 0.014724\n",
      "  Learning Rate: 0.001000\n",
      "\n"
     ]
    },
    {
     "name": "stderr",
     "output_type": "stream",
     "text": [
      "Epoch 21/50: 100%|██████████| 100/100 [09:09<00:00,  5.50s/it, avg_loss=0.074723, grad_norm=0.231242]\n"
     ]
    },
    {
     "name": "stdout",
     "output_type": "stream",
     "text": [
      "Epoch 21 Summary:\n",
      "  Avg Train Loss: 0.074723\n",
      "  Avg Val Loss: 0.137297\n",
      "  wrong_syndrome_rate: 0.014724\n",
      "  wrong_observable_rate: 0.002454\n",
      "  failure_rate: 0.015951\n",
      "  Learning Rate: 0.001000\n",
      "\n"
     ]
    },
    {
     "name": "stderr",
     "output_type": "stream",
     "text": [
      "Epoch 22/50: 100%|██████████| 100/100 [09:07<00:00,  5.47s/it, avg_loss=0.072418, grad_norm=0.240945]\n"
     ]
    },
    {
     "name": "stdout",
     "output_type": "stream",
     "text": [
      "Epoch 22 Summary:\n",
      "  Avg Train Loss: 0.072418\n",
      "  Avg Val Loss: 0.135299\n",
      "  wrong_syndrome_rate: 0.014724\n",
      "  wrong_observable_rate: 0.003681\n",
      "  failure_rate: 0.015951\n",
      "  Learning Rate: 0.001000\n",
      "\n"
     ]
    },
    {
     "name": "stderr",
     "output_type": "stream",
     "text": [
      "Epoch 23/50: 100%|██████████| 100/100 [09:13<00:00,  5.53s/it, avg_loss=0.070343, grad_norm=0.213686]\n"
     ]
    },
    {
     "name": "stdout",
     "output_type": "stream",
     "text": [
      "Epoch 23 Summary:\n",
      "  Avg Train Loss: 0.070343\n",
      "  Avg Val Loss: 0.133190\n",
      "  wrong_syndrome_rate: 0.012270\n",
      "  wrong_observable_rate: 0.003681\n",
      "  failure_rate: 0.013497\n",
      "  Learning Rate: 0.001000\n",
      "\n"
     ]
    },
    {
     "name": "stderr",
     "output_type": "stream",
     "text": [
      "Epoch 24/50: 100%|██████████| 100/100 [24:37<00:00, 14.77s/it, avg_loss=0.068317, grad_norm=0.288638]\n"
     ]
    },
    {
     "name": "stdout",
     "output_type": "stream",
     "text": [
      "Epoch 24 Summary:\n",
      "  Avg Train Loss: 0.068317\n",
      "  Avg Val Loss: 0.132220\n",
      "  wrong_syndrome_rate: 0.013497\n",
      "  wrong_observable_rate: 0.003681\n",
      "  failure_rate: 0.014724\n",
      "  Learning Rate: 0.001000\n",
      "\n"
     ]
    },
    {
     "name": "stderr",
     "output_type": "stream",
     "text": [
      "Epoch 25/50: 100%|██████████| 100/100 [39:40<00:00, 23.80s/it, avg_loss=0.066640, grad_norm=0.276106]  \n"
     ]
    },
    {
     "name": "stdout",
     "output_type": "stream",
     "text": [
      "Epoch 25 Summary:\n",
      "  Avg Train Loss: 0.066640\n",
      "  Avg Val Loss: 0.131484\n",
      "  wrong_syndrome_rate: 0.014724\n",
      "  wrong_observable_rate: 0.003681\n",
      "  failure_rate: 0.015951\n",
      "  Learning Rate: 0.001000\n",
      "\n"
     ]
    },
    {
     "name": "stderr",
     "output_type": "stream",
     "text": [
      "Epoch 26/50: 100%|██████████| 100/100 [08:59<00:00,  5.39s/it, avg_loss=0.064911, grad_norm=0.215251]\n"
     ]
    },
    {
     "name": "stdout",
     "output_type": "stream",
     "text": [
      "Epoch 26 Summary:\n",
      "  Avg Train Loss: 0.064911\n",
      "  Avg Val Loss: 0.130305\n",
      "  wrong_syndrome_rate: 0.014724\n",
      "  wrong_observable_rate: 0.004908\n",
      "  failure_rate: 0.015951\n",
      "  Learning Rate: 0.001000\n",
      "\n"
     ]
    },
    {
     "name": "stderr",
     "output_type": "stream",
     "text": [
      "Epoch 27/50: 100%|██████████| 100/100 [08:59<00:00,  5.40s/it, avg_loss=0.063427, grad_norm=0.253684]\n"
     ]
    },
    {
     "name": "stdout",
     "output_type": "stream",
     "text": [
      "Epoch 27 Summary:\n",
      "  Avg Train Loss: 0.063427\n",
      "  Avg Val Loss: 0.130023\n",
      "  wrong_syndrome_rate: 0.015951\n",
      "  wrong_observable_rate: 0.004908\n",
      "  failure_rate: 0.017178\n",
      "  Learning Rate: 0.001000\n",
      "\n"
     ]
    },
    {
     "name": "stderr",
     "output_type": "stream",
     "text": [
      "Epoch 28/50: 100%|██████████| 100/100 [09:05<00:00,  5.46s/it, avg_loss=0.061829, grad_norm=0.206858]\n"
     ]
    },
    {
     "name": "stdout",
     "output_type": "stream",
     "text": [
      "Epoch 28 Summary:\n",
      "  Avg Train Loss: 0.061829\n",
      "  Avg Val Loss: 0.128771\n",
      "  wrong_syndrome_rate: 0.018405\n",
      "  wrong_observable_rate: 0.006135\n",
      "  failure_rate: 0.019632\n",
      "  Learning Rate: 0.001000\n",
      "\n"
     ]
    },
    {
     "name": "stderr",
     "output_type": "stream",
     "text": [
      "Epoch 29/50: 100%|██████████| 100/100 [09:08<00:00,  5.48s/it, avg_loss=0.060388, grad_norm=0.147692]\n"
     ]
    },
    {
     "name": "stdout",
     "output_type": "stream",
     "text": [
      "Epoch 29 Summary:\n",
      "  Avg Train Loss: 0.060388\n",
      "  Avg Val Loss: 0.127986\n",
      "  wrong_syndrome_rate: 0.019632\n",
      "  wrong_observable_rate: 0.007362\n",
      "  failure_rate: 0.020859\n",
      "  Learning Rate: 0.001000\n",
      "\n"
     ]
    },
    {
     "name": "stderr",
     "output_type": "stream",
     "text": [
      "Epoch 30/50: 100%|██████████| 100/100 [09:14<00:00,  5.54s/it, avg_loss=0.059210, grad_norm=0.465642]\n"
     ]
    },
    {
     "name": "stdout",
     "output_type": "stream",
     "text": [
      "Epoch 30 Summary:\n",
      "  Avg Train Loss: 0.059210\n",
      "  Avg Val Loss: 0.126912\n",
      "  wrong_syndrome_rate: 0.019632\n",
      "  wrong_observable_rate: 0.007362\n",
      "  failure_rate: 0.022086\n",
      "  Learning Rate: 0.001000\n",
      "\n"
     ]
    },
    {
     "name": "stderr",
     "output_type": "stream",
     "text": [
      "Epoch 31/50: 100%|██████████| 100/100 [40:45<00:00, 24.46s/it, avg_loss=0.058054, grad_norm=0.353473] \n"
     ]
    },
    {
     "name": "stdout",
     "output_type": "stream",
     "text": [
      "Epoch 31 Summary:\n",
      "  Avg Train Loss: 0.058054\n",
      "  Avg Val Loss: 0.125204\n",
      "  wrong_syndrome_rate: 0.018405\n",
      "  wrong_observable_rate: 0.008589\n",
      "  failure_rate: 0.020859\n",
      "  Learning Rate: 0.001000\n",
      "\n"
     ]
    },
    {
     "name": "stderr",
     "output_type": "stream",
     "text": [
      "Epoch 32/50: 100%|██████████| 100/100 [1:04:55<00:00, 38.95s/it, avg_loss=0.057003, grad_norm=0.273373]\n"
     ]
    },
    {
     "name": "stdout",
     "output_type": "stream",
     "text": [
      "Epoch 32 Summary:\n",
      "  Avg Train Loss: 0.057003\n",
      "  Avg Val Loss: 0.124417\n",
      "  wrong_syndrome_rate: 0.018405\n",
      "  wrong_observable_rate: 0.009816\n",
      "  failure_rate: 0.022086\n",
      "  Learning Rate: 0.001000\n",
      "\n"
     ]
    },
    {
     "name": "stderr",
     "output_type": "stream",
     "text": [
      "Epoch 33/50: 100%|██████████| 100/100 [09:19<00:00,  5.59s/it, avg_loss=0.055959, grad_norm=0.253183]\n"
     ]
    },
    {
     "name": "stdout",
     "output_type": "stream",
     "text": [
      "Epoch 33 Summary:\n",
      "  Avg Train Loss: 0.055959\n",
      "  Avg Val Loss: 0.123634\n",
      "  wrong_syndrome_rate: 0.019632\n",
      "  wrong_observable_rate: 0.008589\n",
      "  failure_rate: 0.022086\n",
      "  Learning Rate: 0.001000\n",
      "\n"
     ]
    },
    {
     "name": "stderr",
     "output_type": "stream",
     "text": [
      "Epoch 34/50: 100%|██████████| 100/100 [09:18<00:00,  5.58s/it, avg_loss=0.055040, grad_norm=0.151737]\n"
     ]
    },
    {
     "name": "stdout",
     "output_type": "stream",
     "text": [
      "Epoch 34 Summary:\n",
      "  Avg Train Loss: 0.055040\n",
      "  Avg Val Loss: 0.122649\n",
      "  wrong_syndrome_rate: 0.019632\n",
      "  wrong_observable_rate: 0.007362\n",
      "  failure_rate: 0.022086\n",
      "  Learning Rate: 0.001000\n",
      "\n"
     ]
    },
    {
     "name": "stderr",
     "output_type": "stream",
     "text": [
      "Epoch 35/50: 100%|██████████| 100/100 [09:16<00:00,  5.57s/it, avg_loss=0.054124, grad_norm=0.309054]\n"
     ]
    },
    {
     "name": "stdout",
     "output_type": "stream",
     "text": [
      "Epoch 35 Summary:\n",
      "  Avg Train Loss: 0.054124\n",
      "  Avg Val Loss: 0.121465\n",
      "  wrong_syndrome_rate: 0.019632\n",
      "  wrong_observable_rate: 0.008589\n",
      "  failure_rate: 0.022086\n",
      "  Learning Rate: 0.001000\n",
      "\n"
     ]
    },
    {
     "name": "stderr",
     "output_type": "stream",
     "text": [
      "Epoch 36/50: 100%|██████████| 100/100 [09:23<00:00,  5.64s/it, avg_loss=0.053271, grad_norm=0.319256]\n"
     ]
    },
    {
     "name": "stdout",
     "output_type": "stream",
     "text": [
      "Epoch 36 Summary:\n",
      "  Avg Train Loss: 0.053271\n",
      "  Avg Val Loss: 0.120833\n",
      "  wrong_syndrome_rate: 0.019632\n",
      "  wrong_observable_rate: 0.008589\n",
      "  failure_rate: 0.022086\n",
      "  Learning Rate: 0.001000\n",
      "\n"
     ]
    },
    {
     "name": "stderr",
     "output_type": "stream",
     "text": [
      "Epoch 37/50:   0%|          | 0/100 [00:06<?, ?it/s]\n"
     ]
    },
    {
     "ename": "KeyboardInterrupt",
     "evalue": "",
     "output_type": "error",
     "traceback": [
      "\u001b[0;31m---------------------------------------------------------------------------\u001b[0m",
      "\u001b[0;31mKeyboardInterrupt\u001b[0m                         Traceback (most recent call last)",
      "Cell \u001b[0;32mIn[7], line 1\u001b[0m\n\u001b[0;32m----> 1\u001b[0m \u001b[43mtrain_gamma\u001b[49m\u001b[43m(\u001b[49m\n\u001b[1;32m      2\u001b[0m \u001b[43m    \u001b[49m\u001b[43mmodel\u001b[49m\u001b[43m,\u001b[49m\n\u001b[1;32m      3\u001b[0m \u001b[43m    \u001b[49m\u001b[43mtrain_dataset\u001b[49m\u001b[43m,\u001b[49m\n\u001b[1;32m      4\u001b[0m \u001b[43m    \u001b[49m\u001b[43mval_dataset\u001b[49m\u001b[43m,\u001b[49m\n\u001b[1;32m      5\u001b[0m \u001b[43m    \u001b[49m\u001b[43mloss_fn\u001b[49m\u001b[43m,\u001b[49m\n\u001b[1;32m      6\u001b[0m \u001b[43m    \u001b[49m\u001b[43mmetric\u001b[49m\u001b[43m,\u001b[49m\n\u001b[1;32m      7\u001b[0m \u001b[43m    \u001b[49m\u001b[43moptimizer\u001b[49m\u001b[43m,\u001b[49m\n\u001b[1;32m      8\u001b[0m \u001b[43m    \u001b[49m\u001b[43mnum_epochs\u001b[49m\u001b[38;5;241;43m=\u001b[39;49m\u001b[38;5;241;43m50\u001b[39;49m\u001b[43m,\u001b[49m\n\u001b[1;32m      9\u001b[0m \u001b[43m    \u001b[49m\u001b[43mbatch_size\u001b[49m\u001b[38;5;241;43m=\u001b[39;49m\u001b[38;5;241;43m256\u001b[39;49m\u001b[43m,\u001b[49m\n\u001b[1;32m     10\u001b[0m \u001b[43m    \u001b[49m\u001b[43mdevice\u001b[49m\u001b[38;5;241;43m=\u001b[39;49m\u001b[38;5;124;43m\"\u001b[39;49m\u001b[38;5;124;43mcpu\u001b[39;49m\u001b[38;5;124;43m\"\u001b[39;49m\u001b[43m,\u001b[49m\n\u001b[1;32m     11\u001b[0m \u001b[43m    \u001b[49m\u001b[43mscheduler_kwargs\u001b[49m\u001b[38;5;241;43m=\u001b[39;49m\u001b[38;5;28;43mdict\u001b[39;49m\u001b[43m(\u001b[49m\u001b[43mfactor\u001b[49m\u001b[38;5;241;43m=\u001b[39;49m\u001b[38;5;241;43m0.2\u001b[39;49m\u001b[43m,\u001b[49m\u001b[43m \u001b[49m\u001b[43mpatience\u001b[49m\u001b[38;5;241;43m=\u001b[39;49m\u001b[38;5;241;43m3\u001b[39;49m\u001b[43m,\u001b[49m\u001b[43m \u001b[49m\u001b[43mthreshold\u001b[49m\u001b[38;5;241;43m=\u001b[39;49m\u001b[38;5;241;43m1e-3\u001b[39;49m\u001b[43m,\u001b[49m\u001b[43m \u001b[49m\u001b[43mthreshold_mode\u001b[49m\u001b[38;5;241;43m=\u001b[39;49m\u001b[38;5;124;43m\"\u001b[39;49m\u001b[38;5;124;43mabs\u001b[39;49m\u001b[38;5;124;43m\"\u001b[39;49m\u001b[43m)\u001b[49m\u001b[43m,\u001b[49m\n\u001b[1;32m     12\u001b[0m \u001b[43m    \u001b[49m\u001b[43mearly_stopper\u001b[49m\u001b[38;5;241;43m=\u001b[39;49m\u001b[43mEarlyStopper\u001b[49m\u001b[43m(\u001b[49m\u001b[43mpatience\u001b[49m\u001b[38;5;241;43m=\u001b[39;49m\u001b[38;5;241;43m5\u001b[39;49m\u001b[43m,\u001b[49m\u001b[43m \u001b[49m\u001b[43mmin_delta\u001b[49m\u001b[38;5;241;43m=\u001b[39;49m\u001b[38;5;241;43m1e-3\u001b[39;49m\u001b[43m)\u001b[49m\u001b[43m,\u001b[49m\n\u001b[1;32m     13\u001b[0m \u001b[43m)\u001b[49m\n",
      "File \u001b[0;32m~/codes/QEC-decoder/pytorch/train_utils.py:282\u001b[0m, in \u001b[0;36mtrain_gamma\u001b[0;34m(model, train_dataset, val_dataset, loss_fn, metric, optimizer, num_epochs, batch_size, device, scheduler_kwargs, early_stopper)\u001b[0m\n\u001b[1;32m    279\u001b[0m running_loss \u001b[38;5;241m+\u001b[39m\u001b[38;5;241m=\u001b[39m loss\u001b[38;5;241m.\u001b[39mitem()\n\u001b[1;32m    281\u001b[0m \u001b[38;5;66;03m# Backpropagation\u001b[39;00m\n\u001b[0;32m--> 282\u001b[0m \u001b[43mloss\u001b[49m\u001b[38;5;241;43m.\u001b[39;49m\u001b[43mbackward\u001b[49m\u001b[43m(\u001b[49m\u001b[43m)\u001b[49m\n\u001b[1;32m    283\u001b[0m grad_norm \u001b[38;5;241m=\u001b[39m nn\u001b[38;5;241m.\u001b[39mutils\u001b[38;5;241m.\u001b[39mclip_grad_norm_(\n\u001b[1;32m    284\u001b[0m     model\u001b[38;5;241m.\u001b[39mparameters(), max_norm\u001b[38;5;241m=\u001b[39m\u001b[38;5;28mfloat\u001b[39m(\u001b[38;5;124m'\u001b[39m\u001b[38;5;124minf\u001b[39m\u001b[38;5;124m'\u001b[39m))\n\u001b[1;32m    285\u001b[0m pbar\u001b[38;5;241m.\u001b[39mset_postfix({\n\u001b[1;32m    286\u001b[0m     \u001b[38;5;124m\"\u001b[39m\u001b[38;5;124mavg_loss\u001b[39m\u001b[38;5;124m\"\u001b[39m: \u001b[38;5;124mf\u001b[39m\u001b[38;5;124m\"\u001b[39m\u001b[38;5;132;01m{\u001b[39;00mrunning_loss\u001b[38;5;250m \u001b[39m\u001b[38;5;241m/\u001b[39m\u001b[38;5;250m \u001b[39m(pbar\u001b[38;5;241m.\u001b[39mn\u001b[38;5;250m \u001b[39m\u001b[38;5;241m+\u001b[39m\u001b[38;5;250m \u001b[39m\u001b[38;5;241m1\u001b[39m)\u001b[38;5;132;01m:\u001b[39;00m\u001b[38;5;124m.6f\u001b[39m\u001b[38;5;132;01m}\u001b[39;00m\u001b[38;5;124m\"\u001b[39m,\n\u001b[1;32m    287\u001b[0m     \u001b[38;5;124m\"\u001b[39m\u001b[38;5;124mgrad_norm\u001b[39m\u001b[38;5;124m\"\u001b[39m: \u001b[38;5;124mf\u001b[39m\u001b[38;5;124m\"\u001b[39m\u001b[38;5;132;01m{\u001b[39;00mgrad_norm\u001b[38;5;132;01m:\u001b[39;00m\u001b[38;5;124m.6f\u001b[39m\u001b[38;5;132;01m}\u001b[39;00m\u001b[38;5;124m\"\u001b[39m\n\u001b[1;32m    288\u001b[0m })\n",
      "File \u001b[0;32m~/codes/QEC-decoder/.env/lib/python3.10/site-packages/torch/_tensor.py:647\u001b[0m, in \u001b[0;36mTensor.backward\u001b[0;34m(self, gradient, retain_graph, create_graph, inputs)\u001b[0m\n\u001b[1;32m    637\u001b[0m \u001b[38;5;28;01mif\u001b[39;00m has_torch_function_unary(\u001b[38;5;28mself\u001b[39m):\n\u001b[1;32m    638\u001b[0m     \u001b[38;5;28;01mreturn\u001b[39;00m handle_torch_function(\n\u001b[1;32m    639\u001b[0m         Tensor\u001b[38;5;241m.\u001b[39mbackward,\n\u001b[1;32m    640\u001b[0m         (\u001b[38;5;28mself\u001b[39m,),\n\u001b[0;32m   (...)\u001b[0m\n\u001b[1;32m    645\u001b[0m         inputs\u001b[38;5;241m=\u001b[39minputs,\n\u001b[1;32m    646\u001b[0m     )\n\u001b[0;32m--> 647\u001b[0m \u001b[43mtorch\u001b[49m\u001b[38;5;241;43m.\u001b[39;49m\u001b[43mautograd\u001b[49m\u001b[38;5;241;43m.\u001b[39;49m\u001b[43mbackward\u001b[49m\u001b[43m(\u001b[49m\n\u001b[1;32m    648\u001b[0m \u001b[43m    \u001b[49m\u001b[38;5;28;43mself\u001b[39;49m\u001b[43m,\u001b[49m\u001b[43m \u001b[49m\u001b[43mgradient\u001b[49m\u001b[43m,\u001b[49m\u001b[43m \u001b[49m\u001b[43mretain_graph\u001b[49m\u001b[43m,\u001b[49m\u001b[43m \u001b[49m\u001b[43mcreate_graph\u001b[49m\u001b[43m,\u001b[49m\u001b[43m \u001b[49m\u001b[43minputs\u001b[49m\u001b[38;5;241;43m=\u001b[39;49m\u001b[43minputs\u001b[49m\n\u001b[1;32m    649\u001b[0m \u001b[43m\u001b[49m\u001b[43m)\u001b[49m\n",
      "File \u001b[0;32m~/codes/QEC-decoder/.env/lib/python3.10/site-packages/torch/autograd/__init__.py:354\u001b[0m, in \u001b[0;36mbackward\u001b[0;34m(tensors, grad_tensors, retain_graph, create_graph, grad_variables, inputs)\u001b[0m\n\u001b[1;32m    349\u001b[0m     retain_graph \u001b[38;5;241m=\u001b[39m create_graph\n\u001b[1;32m    351\u001b[0m \u001b[38;5;66;03m# The reason we repeat the same comment below is that\u001b[39;00m\n\u001b[1;32m    352\u001b[0m \u001b[38;5;66;03m# some Python versions print out the first line of a multi-line function\u001b[39;00m\n\u001b[1;32m    353\u001b[0m \u001b[38;5;66;03m# calls in the traceback and some print out the last line\u001b[39;00m\n\u001b[0;32m--> 354\u001b[0m \u001b[43m_engine_run_backward\u001b[49m\u001b[43m(\u001b[49m\n\u001b[1;32m    355\u001b[0m \u001b[43m    \u001b[49m\u001b[43mtensors\u001b[49m\u001b[43m,\u001b[49m\n\u001b[1;32m    356\u001b[0m \u001b[43m    \u001b[49m\u001b[43mgrad_tensors_\u001b[49m\u001b[43m,\u001b[49m\n\u001b[1;32m    357\u001b[0m \u001b[43m    \u001b[49m\u001b[43mretain_graph\u001b[49m\u001b[43m,\u001b[49m\n\u001b[1;32m    358\u001b[0m \u001b[43m    \u001b[49m\u001b[43mcreate_graph\u001b[49m\u001b[43m,\u001b[49m\n\u001b[1;32m    359\u001b[0m \u001b[43m    \u001b[49m\u001b[43minputs_tuple\u001b[49m\u001b[43m,\u001b[49m\n\u001b[1;32m    360\u001b[0m \u001b[43m    \u001b[49m\u001b[43mallow_unreachable\u001b[49m\u001b[38;5;241;43m=\u001b[39;49m\u001b[38;5;28;43;01mTrue\u001b[39;49;00m\u001b[43m,\u001b[49m\n\u001b[1;32m    361\u001b[0m \u001b[43m    \u001b[49m\u001b[43maccumulate_grad\u001b[49m\u001b[38;5;241;43m=\u001b[39;49m\u001b[38;5;28;43;01mTrue\u001b[39;49;00m\u001b[43m,\u001b[49m\n\u001b[1;32m    362\u001b[0m \u001b[43m\u001b[49m\u001b[43m)\u001b[49m\n",
      "File \u001b[0;32m~/codes/QEC-decoder/.env/lib/python3.10/site-packages/torch/autograd/graph.py:829\u001b[0m, in \u001b[0;36m_engine_run_backward\u001b[0;34m(t_outputs, *args, **kwargs)\u001b[0m\n\u001b[1;32m    827\u001b[0m     unregister_hooks \u001b[38;5;241m=\u001b[39m _register_logging_hooks_on_whole_graph(t_outputs)\n\u001b[1;32m    828\u001b[0m \u001b[38;5;28;01mtry\u001b[39;00m:\n\u001b[0;32m--> 829\u001b[0m     \u001b[38;5;28;01mreturn\u001b[39;00m \u001b[43mVariable\u001b[49m\u001b[38;5;241;43m.\u001b[39;49m\u001b[43m_execution_engine\u001b[49m\u001b[38;5;241;43m.\u001b[39;49m\u001b[43mrun_backward\u001b[49m\u001b[43m(\u001b[49m\u001b[43m  \u001b[49m\u001b[38;5;66;43;03m# Calls into the C++ engine to run the backward pass\u001b[39;49;00m\n\u001b[1;32m    830\u001b[0m \u001b[43m        \u001b[49m\u001b[43mt_outputs\u001b[49m\u001b[43m,\u001b[49m\u001b[43m \u001b[49m\u001b[38;5;241;43m*\u001b[39;49m\u001b[43margs\u001b[49m\u001b[43m,\u001b[49m\u001b[43m \u001b[49m\u001b[38;5;241;43m*\u001b[39;49m\u001b[38;5;241;43m*\u001b[39;49m\u001b[43mkwargs\u001b[49m\n\u001b[1;32m    831\u001b[0m \u001b[43m    \u001b[49m\u001b[43m)\u001b[49m  \u001b[38;5;66;03m# Calls into the C++ engine to run the backward pass\u001b[39;00m\n\u001b[1;32m    832\u001b[0m \u001b[38;5;28;01mfinally\u001b[39;00m:\n\u001b[1;32m    833\u001b[0m     \u001b[38;5;28;01mif\u001b[39;00m attach_logging_hooks:\n",
      "\u001b[0;31mKeyboardInterrupt\u001b[0m: "
     ]
    }
   ],
   "source": [
    "train_gamma(\n",
    "    model,\n",
    "    train_dataset,\n",
    "    val_dataset,\n",
    "    loss_fn,\n",
    "    metric,\n",
    "    optimizer,\n",
    "    num_epochs=50,\n",
    "    batch_size=256,\n",
    "    device=\"cpu\",\n",
    "    scheduler_kwargs=dict(factor=0.2, patience=3, threshold=1e-3, threshold_mode=\"abs\"),\n",
    "    early_stopper=EarlyStopper(patience=5, min_delta=1e-3),\n",
    ")"
   ]
  },
  {
   "cell_type": "code",
   "execution_count": null,
   "id": "9a049343",
   "metadata": {},
   "outputs": [
    {
     "ename": "AssertionError",
     "evalue": "",
     "output_type": "error",
     "traceback": [
      "\u001b[0;31m---------------------------------------------------------------------------\u001b[0m",
      "\u001b[0;31mAssertionError\u001b[0m                            Traceback (most recent call last)",
      "Cell \u001b[0;32mIn[5], line 1\u001b[0m\n\u001b[0;32m----> 1\u001b[0m \u001b[38;5;28;01massert\u001b[39;00m \u001b[38;5;28;01mFalse\u001b[39;00m\n",
      "\u001b[0;31mAssertionError\u001b[0m: "
     ]
    }
   ],
   "source": [
    "assert False"
   ]
  },
  {
   "cell_type": "code",
   "execution_count": 8,
   "id": "40f215c6",
   "metadata": {},
   "outputs": [
    {
     "data": {
      "text/plain": [
       "Parameter containing:\n",
       "tensor([ 2.3389e-01,  6.0988e-01,  5.3147e-01,  4.0886e-01,  1.7326e-01,\n",
       "         2.9721e-01,  5.1201e-01,  2.4528e-01, -1.5571e-01,  4.7312e-01,\n",
       "         1.7292e-01, -1.2732e-02,  1.5867e-01,  6.2542e-02,  6.7729e-01,\n",
       "         3.8587e-01,  2.3899e-01, -9.8837e-03,  1.9397e-01,  4.5303e-01,\n",
       "        -6.8816e-02,  3.5240e-01,  2.8527e-01,  3.4719e-01,  5.6118e-01,\n",
       "         3.6510e-01,  2.0252e-01,  2.0583e-01,  4.4449e-01,  2.4710e-01,\n",
       "         2.5681e-01,  4.1548e-01,  3.3212e-01,  3.7916e-01,  6.4006e-04,\n",
       "         2.2096e-01,  3.9696e-01,  5.9982e-01,  3.6792e-01,  5.1805e-01,\n",
       "         3.3097e-01,  5.0401e-01,  2.4492e-01,  5.2716e-01,  5.4389e-01,\n",
       "         3.5344e-01,  3.5947e-01,  1.8582e-01,  1.3493e-01,  1.6639e-01,\n",
       "         3.8173e-01,  2.7179e-01, -4.7425e-02,  5.8266e-01,  4.8474e-01,\n",
       "         2.7962e-01,  6.1083e-01,  4.1103e-01, -1.3230e-01,  2.6031e-01,\n",
       "         2.6757e-01,  4.8148e-01,  3.9050e-01,  4.9402e-01,  2.6233e-01,\n",
       "         5.0734e-01,  5.2549e-02, -1.7633e-02,  3.2739e-01,  3.5240e-01,\n",
       "         4.9844e-01,  4.0685e-01,  4.4746e-01,  4.7721e-01, -1.1646e-01,\n",
       "         3.2544e-01,  2.7381e-01, -1.4484e-01,  2.2282e-01,  3.8319e-01,\n",
       "        -9.4934e-02,  3.2435e-01,  4.8607e-01, -2.7351e-01,  2.5687e-01,\n",
       "         2.9897e-01,  3.5512e-01,  2.9015e-01,  5.1937e-01,  2.1360e-01,\n",
       "         3.7751e-01,  3.8473e-01,  2.2660e-01,  3.5333e-01,  4.0593e-01,\n",
       "         4.2581e-01,  2.6851e-01,  4.0213e-01,  4.3737e-01, -1.8686e-01,\n",
       "         3.2127e-01,  4.0739e-01,  2.6411e-01,  7.6528e-02,  3.8055e-01,\n",
       "         5.1343e-01,  4.1850e-01,  3.7879e-01,  1.6300e-01,  3.3002e-01,\n",
       "         5.7160e-01,  2.5002e-01,  4.1838e-02,  5.8616e-01,  3.5333e-01,\n",
       "        -9.6211e-02,  4.6598e-01,  2.5003e-01,  4.7214e-01,  5.8699e-02,\n",
       "         3.3181e-01,  1.0675e-01,  5.1827e-01,  3.2226e-01,  3.8071e-01,\n",
       "         1.6808e-01,  5.4273e-01,  1.6964e-01,  2.6408e-01,  4.0254e-01,\n",
       "         4.5540e-01,  4.7760e-01,  1.5916e-01, -6.8167e-02,  3.5597e-01,\n",
       "         2.9456e-01,  5.3209e-01,  3.3842e-01,  4.4194e-01,  2.8527e-01,\n",
       "        -5.8101e-02,  3.3952e-01,  3.8089e-01, -6.5013e-03,  4.1803e-01,\n",
       "         4.9901e-01, -1.1584e-01,  3.5051e-01,  2.3394e-01, -3.2309e-01,\n",
       "         4.1156e-01, -2.7479e-02,  3.9183e-01,  4.3166e-01,  4.7875e-01,\n",
       "         1.6867e-01,  3.7052e-01,  2.9312e-01,  4.2739e-01,  3.7906e-01,\n",
       "         3.2135e-01,  2.6883e-01,  4.9096e-01,  3.0695e-01,  4.1548e-01,\n",
       "         5.1496e-01,  4.7235e-01,  3.8769e-01,  3.9158e-02,  4.9310e-01,\n",
       "         3.6073e-01,  4.7869e-01,  3.0553e-01,  4.9643e-01, -8.2856e-02,\n",
       "         4.1304e-01,  4.3044e-01,  3.3332e-01,  4.4755e-01,  5.1972e-01,\n",
       "         3.6256e-01,  5.9629e-01,  4.4101e-01,  2.5609e-01,  4.4629e-01,\n",
       "         4.3143e-01], requires_grad=True)"
      ]
     },
     "execution_count": 8,
     "metadata": {},
     "output_type": "execute_result"
    }
   ],
   "source": [
    "model.gamma"
   ]
  },
  {
   "cell_type": "code",
   "execution_count": 9,
   "id": "a912c2a6",
   "metadata": {},
   "outputs": [],
   "source": [
    "torch.save(model.gamma, \"gamma_8.pt\")\n",
    "# torch.save(model.gamma, \"gamma_7.pt\")\n",
    "# torch.save(model.gamma, \"gamma_6.pt\")\n",
    "# torch.save(model.gamma, \"gamma_5.pt\")\n",
    "# torch.save(model.gamma, \"gamma_4.pt\")"
   ]
  },
  {
   "cell_type": "code",
   "execution_count": 13,
   "id": "0198e51f",
   "metadata": {},
   "outputs": [],
   "source": [
    "gamma = torch.load(\"gamma_7.pt\")\n",
    "gamma_numpy = gamma.detach().numpy().astype(np.float64)"
   ]
  },
  {
   "cell_type": "code",
   "execution_count": 16,
   "id": "2dce1ced",
   "metadata": {},
   "outputs": [
    {
     "data": {
      "text/plain": [
       "array([ 0.17940265,  0.48300493,  0.85247123,  0.26732031,  0.20674998,\n",
       "       -0.01003941,  0.50485045,  0.25999549,  0.4106445 ,  0.79973233,\n",
       "        0.34500223,  0.20006447,  0.25340775,  0.1303045 ,  0.18989389,\n",
       "        0.32013348,  0.72331953,  0.35166532,  0.38981742,  0.57407928,\n",
       "        0.29968804,  0.22824405,  0.36516732,  0.27664945,  0.29998431,\n",
       "        0.29793298,  0.21808723,  0.41325337,  1.08549511,  0.41669971,\n",
       "        0.91795236,  0.17623734,  0.8522507 ,  0.32781416,  0.26960015,\n",
       "        0.8831802 ,  0.24288821,  0.40859625,  0.33294347,  0.78844237,\n",
       "        0.24120259,  0.30685094,  0.17404546,  0.31802529,  0.70670623,\n",
       "        0.26517421,  0.38158712,  0.58180898,  0.25938049,  0.23652719,\n",
       "       -0.01287569,  0.56843776,  0.08528651,  0.38602617,  0.23912811,\n",
       "        0.24885096,  0.32903957,  0.19265206,  0.53862518,  0.07806344,\n",
       "        0.39297283,  0.34808561,  0.21651474,  0.59101999,  0.21624109,\n",
       "        0.51777309,  0.32875368,  0.3851167 ,  0.85435981,  0.25541553,\n",
       "        0.26651648,  0.50914764,  0.86077416,  0.27166229,  0.25860244,\n",
       "        0.94712055,  0.32165959,  0.23451948,  0.2678411 , -0.00579831,\n",
       "        0.19577642,  0.29166034,  0.28743356,  0.08284009,  0.33482811,\n",
       "        0.43732867,  0.31385767,  0.28096828,  0.30194569,  0.27287593,\n",
       "        0.27864212,  0.5339132 ,  0.47806317,  0.36591989,  0.7663464 ,\n",
       "        0.3288033 ,  0.78992075,  0.24996495,  0.5466733 ,  0.28694504,\n",
       "        0.43070459,  0.89165914,  0.22628474,  0.18918382,  0.22570218,\n",
       "        0.80559486,  0.21114878,  0.38639948,  0.84961939,  0.31403413,\n",
       "        0.76691473,  0.23579152,  0.38132754,  0.68028319,  0.24173868,\n",
       "        0.33453456,  0.61292714,  0.30980206,  0.43067715,  0.19233453,\n",
       "        0.2509833 ,  0.31336844,  0.17183504,  0.27283281,  0.21239497,\n",
       "        0.32748178,  0.32204172,  0.75156367,  0.3016465 ,  0.87416893,\n",
       "        0.20279177,  0.91529107,  0.50837213,  0.18634307,  0.39596516,\n",
       "        0.28413892,  0.44358182,  0.24241416,  0.80682784,  0.29967207,\n",
       "        0.37505755,  0.89138532,  0.32350895,  0.20689173,  0.82101768,\n",
       "       -0.05804529,  0.29804507,  0.25965139, -0.08802867, -0.06991176,\n",
       "        0.36569223,  0.21532783,  0.4179506 ,  0.283719  ,  0.34523386,\n",
       "        0.1476897 ,  0.32827833,  0.34911978,  0.47528288,  0.39805108,\n",
       "        0.83683896,  0.30858007,  0.84225112,  0.29791507,  0.47814628,\n",
       "        0.34937412,  0.58939373,  0.06971851,  0.29198456,  0.24883293,\n",
       "        0.12839185,  0.29280177,  0.36208636,  0.14396627,  0.24583647,\n",
       "        0.75608492,  0.30289692,  0.49057135,  0.43959573,  0.17930025,\n",
       "        0.21278971,  0.54826742,  0.51011413,  0.31340948,  0.15767187,\n",
       "        0.27256984])"
      ]
     },
     "execution_count": 16,
     "metadata": {},
     "output_type": "execute_result"
    }
   ],
   "source": [
    "gamma"
   ]
  },
  {
   "cell_type": "code",
   "execution_count": 14,
   "id": "d86fe852",
   "metadata": {},
   "outputs": [
    {
     "name": "stderr",
     "output_type": "stream",
     "text": [
      "\u001b[31mStarting 7 workers...\u001b[0m\n",
      "\u001b[31m20 tasks left:\n",
      "  workers    decoder eta shots_left errors_left json_metadata                 \n",
      "        1         bp   ?   10000000         100 d=5,p=0.004,decoder=bp        \n",
      "        1 pymatching   ?   10000000         100 d=5,p=0.004,decoder=pymatching\n",
      "        1   dmembp_0   ?   10000000         100 d=5,p=0.004,decoder=dmembp_0  \n",
      "        1   dmembp_1 <1m    9997679          98 d=5,p=0.004,decoder=dmembp_1  \n",
      "        1         bp   ?   10000000         100 d=5,p=0.006,decoder=bp        \n",
      "        1 pymatching   ?   10000000         100 d=5,p=0.006,decoder=pymatching\n",
      "        1   dmembp_0   ?   10000000         100 d=5,p=0.006,decoder=dmembp_0  \n",
      "        0   dmembp_1 ?·∞   10000000         100 d=5,p=0.006,decoder=dmembp_1  \n",
      "        0         bp ?·∞   10000000         100 d=5,p=0.008,decoder=bp        \n",
      "        0 pymatching ?·∞   10000000         100 d=5,p=0.008,decoder=pymatching\n",
      "        0   dmembp_0 ?·∞   10000000         100 d=5,p=0.008,decoder=dmembp_0  \n",
      "        0   dmembp_1 ?·∞   10000000         100 d=5,p=0.008,decoder=dmembp_1  \n",
      "        0         bp ?·∞   10000000         100 d=5,p=0.01,decoder=bp         \n",
      "        0 pymatching ?·∞   10000000         100 d=5,p=0.01,decoder=pymatching \n",
      "        0   dmembp_0 ?·∞   10000000         100 d=5,p=0.01,decoder=dmembp_0   \n",
      "        0   dmembp_1 ?·∞   10000000         100 d=5,p=0.01,decoder=dmembp_1   \n",
      "        0         bp ?·∞   10000000         100 d=5,p=0.012,decoder=bp        \n",
      "        0 pymatching ?·∞   10000000         100 d=5,p=0.012,decoder=pymatching\n",
      "        0   dmembp_0 ?·∞   10000000         100 d=5,p=0.012,decoder=dmembp_0  \n",
      "        0   dmembp_1 ?·∞   10000000         100 d=5,p=0.012,decoder=dmembp_1  \u001b[0m\n",
      "\u001b[31m20 tasks left:\n",
      "  workers    decoder eta shots_left errors_left json_metadata                 \n",
      "        1         bp <1m    9989487          97 d=5,p=0.004,decoder=bp        \n",
      "        1 pymatching   ?   10000000         100 d=5,p=0.004,decoder=pymatching\n",
      "        1   dmembp_0 <1m    9987439          94 d=5,p=0.004,decoder=dmembp_0  \n",
      "        1   dmembp_1 <1m    9979247          96 d=5,p=0.004,decoder=dmembp_1  \n",
      "        1         bp <1m    9989487          81 d=5,p=0.006,decoder=bp        \n",
      "        1 pymatching   ?   10000000         100 d=5,p=0.006,decoder=pymatching\n",
      "        1   dmembp_0 <1m    9989487          73 d=5,p=0.006,decoder=dmembp_0  \n",
      "        0   dmembp_1 ?·∞   10000000         100 d=5,p=0.006,decoder=dmembp_1  \n",
      "        0         bp ?·∞   10000000         100 d=5,p=0.008,decoder=bp        \n",
      "        0 pymatching ?·∞   10000000         100 d=5,p=0.008,decoder=pymatching\n",
      "        0   dmembp_0 ?·∞   10000000         100 d=5,p=0.008,decoder=dmembp_0  \n",
      "        0   dmembp_1 ?·∞   10000000         100 d=5,p=0.008,decoder=dmembp_1  \n",
      "        0         bp ?·∞   10000000         100 d=5,p=0.01,decoder=bp         \n",
      "        0 pymatching ?·∞   10000000         100 d=5,p=0.01,decoder=pymatching \n",
      "        0   dmembp_0 ?·∞   10000000         100 d=5,p=0.01,decoder=dmembp_0   \n",
      "        0   dmembp_1 ?·∞   10000000         100 d=5,p=0.01,decoder=dmembp_1   \n",
      "        0         bp ?·∞   10000000         100 d=5,p=0.012,decoder=bp        \n",
      "        0 pymatching ?·∞   10000000         100 d=5,p=0.012,decoder=pymatching\n",
      "        0   dmembp_0 ?·∞   10000000         100 d=5,p=0.012,decoder=dmembp_0  \n",
      "        0   dmembp_1 ?·∞   10000000         100 d=5,p=0.012,decoder=dmembp_1  \u001b[0m\n",
      "\u001b[31m20 tasks left:\n",
      "  workers    decoder eta shots_left errors_left json_metadata                 \n",
      "        1         bp <1m    9977199          89 d=5,p=0.004,decoder=bp        \n",
      "        1 pymatching   ?   10000000         100 d=5,p=0.004,decoder=pymatching\n",
      "        1   dmembp_0 <1m    9975151          83 d=5,p=0.004,decoder=dmembp_0  \n",
      "        1   dmembp_1 <1m    9972079          95 d=5,p=0.004,decoder=dmembp_1  \n",
      "        1         bp <1m    9980271          61 d=5,p=0.006,decoder=bp        \n",
      "        1 pymatching   ?   10000000         100 d=5,p=0.006,decoder=pymatching\n",
      "        1   dmembp_0 <1m    9979247          53 d=5,p=0.006,decoder=dmembp_0  \n",
      "        0   dmembp_1 ?·∞   10000000         100 d=5,p=0.006,decoder=dmembp_1  \n",
      "        0         bp ?·∞   10000000         100 d=5,p=0.008,decoder=bp        \n",
      "        0 pymatching ?·∞   10000000         100 d=5,p=0.008,decoder=pymatching\n",
      "        0   dmembp_0 ?·∞   10000000         100 d=5,p=0.008,decoder=dmembp_0  \n",
      "        0   dmembp_1 ?·∞   10000000         100 d=5,p=0.008,decoder=dmembp_1  \n",
      "        0         bp ?·∞   10000000         100 d=5,p=0.01,decoder=bp         \n",
      "        0 pymatching ?·∞   10000000         100 d=5,p=0.01,decoder=pymatching \n",
      "        0   dmembp_0 ?·∞   10000000         100 d=5,p=0.01,decoder=dmembp_0   \n",
      "        0   dmembp_1 ?·∞   10000000         100 d=5,p=0.01,decoder=dmembp_1   \n",
      "        0         bp ?·∞   10000000         100 d=5,p=0.012,decoder=bp        \n",
      "        0 pymatching ?·∞   10000000         100 d=5,p=0.012,decoder=pymatching\n",
      "        0   dmembp_0 ?·∞   10000000         100 d=5,p=0.012,decoder=dmembp_0  \n",
      "        0   dmembp_1 ?·∞   10000000         100 d=5,p=0.012,decoder=dmembp_1  \u001b[0m\n",
      "\u001b[31m20 tasks left:\n",
      "  workers    decoder eta shots_left errors_left json_metadata                 \n",
      "        1         bp <1m    9965935          82 d=5,p=0.004,decoder=bp        \n",
      "        1 pymatching   ?   10000000         100 d=5,p=0.004,decoder=pymatching\n",
      "        1   dmembp_0 <1m    9961839          67 d=5,p=0.004,decoder=dmembp_0  \n",
      "        1   dmembp_1 <1m    9958767          90 d=5,p=0.004,decoder=dmembp_1  \n",
      "        1         bp <1m    9971055          40 d=5,p=0.006,decoder=bp        \n",
      "        1 pymatching   ?   10000000         100 d=5,p=0.006,decoder=pymatching\n",
      "        1   dmembp_0 <1m    9969007          29 d=5,p=0.006,decoder=dmembp_0  \n",
      "        0   dmembp_1 ?·∞   10000000         100 d=5,p=0.006,decoder=dmembp_1  \n",
      "        0         bp ?·∞   10000000         100 d=5,p=0.008,decoder=bp        \n",
      "        0 pymatching ?·∞   10000000         100 d=5,p=0.008,decoder=pymatching\n",
      "        0   dmembp_0 ?·∞   10000000         100 d=5,p=0.008,decoder=dmembp_0  \n",
      "        0   dmembp_1 ?·∞   10000000         100 d=5,p=0.008,decoder=dmembp_1  \n",
      "        0         bp ?·∞   10000000         100 d=5,p=0.01,decoder=bp         \n",
      "        0 pymatching ?·∞   10000000         100 d=5,p=0.01,decoder=pymatching \n",
      "        0   dmembp_0 ?·∞   10000000         100 d=5,p=0.01,decoder=dmembp_0   \n",
      "        0   dmembp_1 ?·∞   10000000         100 d=5,p=0.01,decoder=dmembp_1   \n",
      "        0         bp ?·∞   10000000         100 d=5,p=0.012,decoder=bp        \n",
      "        0 pymatching ?·∞   10000000         100 d=5,p=0.012,decoder=pymatching\n",
      "        0   dmembp_0 ?·∞   10000000         100 d=5,p=0.012,decoder=dmembp_0  \n",
      "        0   dmembp_1 ?·∞   10000000         100 d=5,p=0.012,decoder=dmembp_1  \u001b[0m\n",
      "\u001b[31m19 tasks left:\n",
      "  workers    decoder eta shots_left errors_left json_metadata                 \n",
      "        1         bp <1m    9948527          67 d=5,p=0.004,decoder=bp        \n",
      "        1 pymatching <1m    9938287          93 d=5,p=0.004,decoder=pymatching\n",
      "        1   dmembp_0 <1m    9943407          54 d=5,p=0.004,decoder=dmembp_0  \n",
      "        1   dmembp_1 <1m    9940335          85 d=5,p=0.004,decoder=dmembp_1  \n",
      "        1         bp <1m    9957743          15 d=5,p=0.006,decoder=bp        \n",
      "        1 pymatching <1m    9949551          80 d=5,p=0.006,decoder=pymatching\n",
      "        1   dmembp_1 <1m    9989487          95 d=5,p=0.006,decoder=dmembp_1  \n",
      "        0         bp ?·∞   10000000         100 d=5,p=0.008,decoder=bp        \n",
      "        0 pymatching ?·∞   10000000         100 d=5,p=0.008,decoder=pymatching\n",
      "        0   dmembp_0 ?·∞   10000000         100 d=5,p=0.008,decoder=dmembp_0  \n",
      "        0   dmembp_1 ?·∞   10000000         100 d=5,p=0.008,decoder=dmembp_1  \n",
      "        0         bp ?·∞   10000000         100 d=5,p=0.01,decoder=bp         \n",
      "        0 pymatching ?·∞   10000000         100 d=5,p=0.01,decoder=pymatching \n",
      "        0   dmembp_0 ?·∞   10000000         100 d=5,p=0.01,decoder=dmembp_0   \n",
      "        0   dmembp_1 ?·∞   10000000         100 d=5,p=0.01,decoder=dmembp_1   \n",
      "        0         bp ?·∞   10000000         100 d=5,p=0.012,decoder=bp        \n",
      "        0 pymatching ?·∞   10000000         100 d=5,p=0.012,decoder=pymatching\n",
      "        0   dmembp_0 ?·∞   10000000         100 d=5,p=0.012,decoder=dmembp_0  \n",
      "        0   dmembp_1 ?·∞   10000000         100 d=5,p=0.012,decoder=dmembp_1  \u001b[0m\n",
      "\u001b[31m18 tasks left:\n",
      "  workers    decoder eta shots_left errors_left json_metadata                 \n",
      "        1         bp <1m    9948527          67 d=5,p=0.004,decoder=bp        \n",
      "        1 pymatching <1m    9861487          78 d=5,p=0.004,decoder=pymatching\n",
      "        1   dmembp_0 <1m    9918831          41 d=5,p=0.004,decoder=dmembp_0  \n",
      "        1   dmembp_1 <1m    9909615          77 d=5,p=0.004,decoder=dmembp_1  \n",
      "        1 pymatching <1m    9885039          37 d=5,p=0.006,decoder=pymatching\n",
      "        1   dmembp_1 <1m    9976175          86 d=5,p=0.006,decoder=dmembp_1  \n",
      "        1         bp <1m    9996655          83 d=5,p=0.008,decoder=bp        \n",
      "        0 pymatching ?·∞   10000000         100 d=5,p=0.008,decoder=pymatching\n",
      "        0   dmembp_0 ?·∞   10000000         100 d=5,p=0.008,decoder=dmembp_0  \n",
      "        0   dmembp_1 ?·∞   10000000         100 d=5,p=0.008,decoder=dmembp_1  \n",
      "        0         bp ?·∞   10000000         100 d=5,p=0.01,decoder=bp         \n",
      "        0 pymatching ?·∞   10000000         100 d=5,p=0.01,decoder=pymatching \n",
      "        0   dmembp_0 ?·∞   10000000         100 d=5,p=0.01,decoder=dmembp_0   \n",
      "        0   dmembp_1 ?·∞   10000000         100 d=5,p=0.01,decoder=dmembp_1   \n",
      "        0         bp ?·∞   10000000         100 d=5,p=0.012,decoder=bp        \n",
      "        0 pymatching ?·∞   10000000         100 d=5,p=0.012,decoder=pymatching\n",
      "        0   dmembp_0 ?·∞   10000000         100 d=5,p=0.012,decoder=dmembp_0  \n",
      "        0   dmembp_1 ?·∞   10000000         100 d=5,p=0.012,decoder=dmembp_1  \u001b[0m\n",
      "\u001b[31m18 tasks left:\n",
      "  workers    decoder eta shots_left errors_left json_metadata                 \n",
      "        1         bp <1m    9923951          42 d=5,p=0.004,decoder=bp        \n",
      "        1 pymatching <1m    9805167          67 d=5,p=0.004,decoder=pymatching\n",
      "        1   dmembp_0 <1m    9918831          41 d=5,p=0.004,decoder=dmembp_0  \n",
      "        1   dmembp_1 <1m    9909615          77 d=5,p=0.004,decoder=dmembp_1  \n",
      "        1 pymatching <1m    9833839          17 d=5,p=0.006,decoder=pymatching\n",
      "        1   dmembp_1 <1m    9952623          67 d=5,p=0.006,decoder=dmembp_1  \n",
      "        1         bp <1m    9986415          42 d=5,p=0.008,decoder=bp        \n",
      "        0 pymatching ?·∞   10000000         100 d=5,p=0.008,decoder=pymatching\n",
      "        0   dmembp_0 ?·∞   10000000         100 d=5,p=0.008,decoder=dmembp_0  \n",
      "        0   dmembp_1 ?·∞   10000000         100 d=5,p=0.008,decoder=dmembp_1  \n",
      "        0         bp ?·∞   10000000         100 d=5,p=0.01,decoder=bp         \n",
      "        0 pymatching ?·∞   10000000         100 d=5,p=0.01,decoder=pymatching \n",
      "        0   dmembp_0 ?·∞   10000000         100 d=5,p=0.01,decoder=dmembp_0   \n",
      "        0   dmembp_1 ?·∞   10000000         100 d=5,p=0.01,decoder=dmembp_1   \n",
      "        0         bp ?·∞   10000000         100 d=5,p=0.012,decoder=bp        \n",
      "        0 pymatching ?·∞   10000000         100 d=5,p=0.012,decoder=pymatching\n",
      "        0   dmembp_0 ?·∞   10000000         100 d=5,p=0.012,decoder=dmembp_0  \n",
      "        0   dmembp_1 ?·∞   10000000         100 d=5,p=0.012,decoder=dmembp_1  \u001b[0m\n",
      "\u001b[31m16 tasks left:\n",
      "  workers    decoder eta shots_left errors_left json_metadata                 \n",
      "        1         bp <1m    9923951          42 d=5,p=0.004,decoder=bp        \n",
      "        1 pymatching <1m    9731439          57 d=5,p=0.004,decoder=pymatching\n",
      "        1   dmembp_0 <1m    9882991          10 d=5,p=0.004,decoder=dmembp_0  \n",
      "        1   dmembp_1 <1m    9869679          63 d=5,p=0.004,decoder=dmembp_1  \n",
      "        1   dmembp_1 <1m    9933167          55 d=5,p=0.006,decoder=dmembp_1  \n",
      "        1 pymatching <1m    9974127          69 d=5,p=0.008,decoder=pymatching\n",
      "        1   dmembp_0   ?   10000000         100 d=5,p=0.008,decoder=dmembp_0  \n",
      "        0   dmembp_1 ?·∞   10000000         100 d=5,p=0.008,decoder=dmembp_1  \n",
      "        0         bp ?·∞   10000000         100 d=5,p=0.01,decoder=bp         \n",
      "        0 pymatching ?·∞   10000000         100 d=5,p=0.01,decoder=pymatching \n",
      "        0   dmembp_0 ?·∞   10000000         100 d=5,p=0.01,decoder=dmembp_0   \n",
      "        0   dmembp_1 ?·∞   10000000         100 d=5,p=0.01,decoder=dmembp_1   \n",
      "        0         bp ?·∞   10000000         100 d=5,p=0.012,decoder=bp        \n",
      "        0 pymatching ?·∞   10000000         100 d=5,p=0.012,decoder=pymatching\n",
      "        0   dmembp_0 ?·∞   10000000         100 d=5,p=0.012,decoder=dmembp_0  \n",
      "        0   dmembp_1 ?·∞   10000000         100 d=5,p=0.012,decoder=dmembp_1  \u001b[0m\n",
      "\u001b[31m13 tasks left:\n",
      "  workers    decoder eta shots_left errors_left json_metadata                 \n",
      "        1 pymatching <1m    9612655          37 d=5,p=0.004,decoder=pymatching\n",
      "        1   dmembp_1 <1m    9869679          63 d=5,p=0.004,decoder=dmembp_1  \n",
      "        1   dmembp_1 <1m    9933167          55 d=5,p=0.006,decoder=dmembp_1  \n",
      "        1   dmembp_0 <1m    9988463          39 d=5,p=0.008,decoder=dmembp_0  \n",
      "        1   dmembp_1 <1m    9997679          98 d=5,p=0.008,decoder=dmembp_1  \n",
      "        1         bp   ?   10000000         100 d=5,p=0.01,decoder=bp         \n",
      "        1 pymatching   ?   10000000         100 d=5,p=0.01,decoder=pymatching \n",
      "        0   dmembp_0 ?·∞   10000000         100 d=5,p=0.01,decoder=dmembp_0   \n",
      "        0   dmembp_1 ?·∞   10000000         100 d=5,p=0.01,decoder=dmembp_1   \n",
      "        0         bp ?·∞   10000000         100 d=5,p=0.012,decoder=bp        \n",
      "        0 pymatching ?·∞   10000000         100 d=5,p=0.012,decoder=pymatching\n",
      "        0   dmembp_0 ?·∞   10000000         100 d=5,p=0.012,decoder=dmembp_0  \n",
      "        0   dmembp_1 ?·∞   10000000         100 d=5,p=0.012,decoder=dmembp_1  \u001b[0m\n",
      "\u001b[31m12 tasks left:\n",
      "  workers    decoder eta shots_left errors_left json_metadata                 \n",
      "        1 pymatching <1m    9612655          37 d=5,p=0.004,decoder=pymatching\n",
      "        1   dmembp_1 <1m    9869679          63 d=5,p=0.004,decoder=dmembp_1  \n",
      "        1   dmembp_1 <1m    9905519          32 d=5,p=0.006,decoder=dmembp_1  \n",
      "        1   dmembp_1 <1m    9985391          78 d=5,p=0.008,decoder=dmembp_1  \n",
      "        1         bp <1m    9992559          39 d=5,p=0.01,decoder=bp         \n",
      "        1 pymatching   ?   10000000         100 d=5,p=0.01,decoder=pymatching \n",
      "        1   dmembp_0 <1m    9998703          83 d=5,p=0.01,decoder=dmembp_0   \n",
      "        0   dmembp_1 ?·∞   10000000         100 d=5,p=0.01,decoder=dmembp_1   \n",
      "        0         bp ?·∞   10000000         100 d=5,p=0.012,decoder=bp        \n",
      "        0 pymatching ?·∞   10000000         100 d=5,p=0.012,decoder=pymatching\n",
      "        0   dmembp_0 ?·∞   10000000         100 d=5,p=0.012,decoder=dmembp_0  \n",
      "        0   dmembp_1 ?·∞   10000000         100 d=5,p=0.012,decoder=dmembp_1  \u001b[0m\n",
      "\u001b[31m11 tasks left:\n",
      "  workers    decoder        eta shots_left errors_left json_metadata                 \n",
      "        1 pymatching        <1m    9447791          13 d=5,p=0.004,decoder=pymatching\n",
      "        1   dmembp_1        <1m    9810287          54 d=5,p=0.004,decoder=dmembp_1  \n",
      "        1   dmembp_1 [draining]    9874799          -1 d=5,p=0.006,decoder=dmembp_1  \n",
      "        1   dmembp_1        <1m    9969007          50 d=5,p=0.008,decoder=dmembp_1  \n",
      "        1 pymatching        <1m    9978223          54 d=5,p=0.01,decoder=pymatching \n",
      "        1   dmembp_0 [draining]    9988463         -11 d=5,p=0.01,decoder=dmembp_0   \n",
      "        1   dmembp_1        <1m    9994607          79 d=5,p=0.01,decoder=dmembp_1   \n",
      "        0         bp        ?·∞   10000000         100 d=5,p=0.012,decoder=bp        \n",
      "        0 pymatching        ?·∞   10000000         100 d=5,p=0.012,decoder=pymatching\n",
      "        0   dmembp_0        ?·∞   10000000         100 d=5,p=0.012,decoder=dmembp_0  \n",
      "        0   dmembp_1        ?·∞   10000000         100 d=5,p=0.012,decoder=dmembp_1  \u001b[0m\n",
      "\u001b[31m8 tasks left:\n",
      "  workers    decoder eta shots_left errors_left json_metadata                 \n",
      "        1 pymatching <1m    9447791          13 d=5,p=0.004,decoder=pymatching\n",
      "        1   dmembp_1 <1m    9810287          54 d=5,p=0.004,decoder=dmembp_1  \n",
      "        1   dmembp_1 <1m    9955695          27 d=5,p=0.008,decoder=dmembp_1  \n",
      "        1   dmembp_1 <1m    9980271          41 d=5,p=0.01,decoder=dmembp_1   \n",
      "        1         bp <1m    9996655          64 d=5,p=0.012,decoder=bp        \n",
      "        1 pymatching   ?   10000000         100 d=5,p=0.012,decoder=pymatching\n",
      "        1   dmembp_0 <1m    9997679          78 d=5,p=0.012,decoder=dmembp_0  \n",
      "        0   dmembp_1 ?·∞   10000000         100 d=5,p=0.012,decoder=dmembp_1  \u001b[0m\n",
      "\u001b[31m4 tasks left:\n",
      "  workers    decoder        eta shots_left errors_left json_metadata                 \n",
      "        2   dmembp_1        <1m    9803870          54 d=5,p=0.004,decoder=dmembp_1  \n",
      "        2 pymatching        <1m    9986415          51 d=5,p=0.012,decoder=pymatching\n",
      "        2   dmembp_0 [draining]    9988463         -10 d=5,p=0.012,decoder=dmembp_0  \n",
      "        1   dmembp_1        <1m    9994607          67 d=5,p=0.012,decoder=dmembp_1  \u001b[0m\n",
      "\u001b[31m1 tasks left:\n",
      "  workers  decoder eta shots_left errors_left json_metadata               \n",
      "        7 dmembp_1 <1m    9747209          44 d=5,p=0.004,decoder=dmembp_1\u001b[0m\n",
      "\u001b[31m1 tasks left:\n",
      "  workers  decoder        eta shots_left errors_left json_metadata               \n",
      "        7 dmembp_1 [draining]    9539337         -11 d=5,p=0.004,decoder=dmembp_1\u001b[0m\n"
     ]
    }
   ],
   "source": [
    "import sinter\n",
    "import os\n",
    "import numpy as np\n",
    "import matplotlib.pyplot as plt\n",
    "\n",
    "from qecdec import RotatedSurfaceCode, Sinter_BPDecoder, Sinter_DMemBPDecoder\n",
    "\n",
    "d = 5\n",
    "code = RotatedSurfaceCode(d)\n",
    "\n",
    "gamma_candidates = []\n",
    "gamma_candidates.append(np.full(186, 0.))\n",
    "gamma_candidates.append(gamma_numpy)\n",
    "\n",
    "\n",
    "def generate_sinter_tasks():\n",
    "    for p in [0.004, 0.006, 0.008, 0.01, 0.012]:\n",
    "        circuit = code.make_circuit_memory_z_experiment(\n",
    "            rounds=d,\n",
    "            data_qubit_error_rate=p,\n",
    "            meas_error_rate=p,\n",
    "            keep_z_detectors_only=True,\n",
    "        )\n",
    "        for decoder in ['bp', 'pymatching']:\n",
    "            yield sinter.Task(\n",
    "                circuit=circuit,\n",
    "                decoder=decoder,\n",
    "                json_metadata={\n",
    "                    'd': d,\n",
    "                    'p': p,\n",
    "                    'decoder': decoder,\n",
    "                },\n",
    "            )\n",
    "        for dmembp_id in range(len(gamma_candidates)):\n",
    "            decoder = f'dmembp_{dmembp_id}'\n",
    "            yield sinter.Task(\n",
    "                circuit=circuit,\n",
    "                decoder=decoder,\n",
    "                json_metadata={\n",
    "                    'd': d,\n",
    "                    'p': p,\n",
    "                    'decoder': decoder,\n",
    "                },\n",
    "            )\n",
    "        \n",
    "custom_decoders = {\n",
    "    'bp': Sinter_BPDecoder(max_iter=50),\n",
    "}\n",
    "for dmembp_id, gamma in enumerate(gamma_candidates):\n",
    "    custom_decoders[f'dmembp_{dmembp_id}'] = Sinter_DMemBPDecoder(max_iter=50, gamma=gamma)\n",
    "\n",
    "\n",
    "sinter_stats = sinter.collect(\n",
    "    num_workers=os.cpu_count() - 1,\n",
    "    max_shots=10_000_000,\n",
    "    max_errors=100,\n",
    "    tasks=generate_sinter_tasks(),\n",
    "    custom_decoders=custom_decoders,\n",
    "    print_progress=True,\n",
    ")"
   ]
  },
  {
   "cell_type": "code",
   "execution_count": 15,
   "id": "9dd61d4d",
   "metadata": {},
   "outputs": [
    {
     "data": {
      "text/plain": [
       "<matplotlib.legend.Legend at 0x140a38070>"
      ]
     },
     "execution_count": 15,
     "metadata": {},
     "output_type": "execute_result"
    },
    {
     "data": {
      "image/png": "[encoded data removed]",
      "text/plain": [
       "<Figure size 640x480 with 1 Axes>"
      ]
     },
     "metadata": {},
     "output_type": "display_data"
    }
   ],
   "source": [
    "fig, ax = plt.subplots(1, 1)\n",
    "sinter.plot_error_rate(\n",
    "    ax=ax,\n",
    "    stats=sinter_stats,\n",
    "    group_func=lambda stat: f\"{stat.json_metadata['decoder']}\",\n",
    "    x_func=lambda stat: stat.json_metadata['p'],\n",
    ")\n",
    "ax.loglog()\n",
    "# ax.set_ylim(1e-5, 1e-2)\n",
    "ax.grid()\n",
    "ax.set_ylabel('Logical Error Probability (per shot)')\n",
    "ax.set_xlabel('Physical Error Rate')\n",
    "ax.legend()"
   ]
  },
  {
   "cell_type": "code",
   "execution_count": 22,
   "id": "721f2d2e",
   "metadata": {},
   "outputs": [
    {
     "name": "stdout",
     "output_type": "stream",
     "text": [
      "Processing p = 0.004...\n",
      "Processing p = 0.006...\n",
      "Processing p = 0.008...\n",
      "Processing p = 0.01...\n",
      "Processing p = 0.012...\n",
      "Data collection complete!\n"
     ]
    }
   ],
   "source": [
    "import matplotlib.pyplot as plt\n",
    "import numpy as np\n",
    "from qecdec import BPDecoder, DMemBPDecoder, RotatedSurfaceCode, detector_error_model_to_check_matrices\n",
    "import pymatching\n",
    "\n",
    "# Set up the experiment\n",
    "d = 5\n",
    "code = RotatedSurfaceCode(d)\n",
    "num_shots = 100_000\n",
    "seed = 42\n",
    "error_rates = [0.004, 0.006, 0.008, 0.01, 0.012]\n",
    "\n",
    "# Initialize data storage\n",
    "results = {\n",
    "    'error_rates': error_rates,\n",
    "    'BP_syndromes': [],\n",
    "    'BP_observables': [],\n",
    "    'DMemBP_syndromes': [],\n",
    "    'DMemBP_observables': [],\n",
    "    'MWPM_syndromes': [],\n",
    "    'MWPM_observables': []\n",
    "}\n",
    "\n",
    "# Run the comparison\n",
    "for p in error_rates:\n",
    "    print(f\"Processing p = {p}...\")\n",
    "    \n",
    "    circuit = code.make_circuit_memory_z_experiment(\n",
    "        rounds=d,\n",
    "        data_qubit_error_rate=p,\n",
    "        meas_error_rate=p,\n",
    "        keep_z_detectors_only=True,\n",
    "    )\n",
    "    syndromes, observables = circuit.compile_detector_sampler(seed=seed).sample(num_shots, separate_observables=True)\n",
    "    syndromes = syndromes.astype(np.uint8)\n",
    "    observables = observables.astype(np.uint8)\n",
    "\n",
    "    dem = circuit.detector_error_model()\n",
    "    matrices = detector_error_model_to_check_matrices(dem)\n",
    "    chkmat = matrices.check_matrix.toarray().astype(np.uint8)\n",
    "    obsmat = matrices.observables_matrix.toarray().astype(np.uint8)\n",
    "    prior = matrices.priors.astype(np.float64)\n",
    "\n",
    "    # BP Decoder\n",
    "    bp = BPDecoder(\n",
    "        pcm=chkmat,\n",
    "        prior=prior,\n",
    "        max_iter=50\n",
    "    )\n",
    "    ehat = bp.decode_batch(syndromes)\n",
    "    syndromes_predict = (ehat @ chkmat.T) % 2\n",
    "    num_unmatched_syndromes = np.sum(np.any(syndromes_predict != syndromes, axis=1))\n",
    "    observables_predict = (ehat @ obsmat.T) % 2\n",
    "    num_unmatched_observables = np.sum(np.any(observables_predict != observables, axis=1))\n",
    "    \n",
    "    results['BP_syndromes'].append(num_unmatched_syndromes)\n",
    "    results['BP_observables'].append(num_unmatched_observables)\n",
    "\n",
    "    # DMemBP Decoder\n",
    "    dmembp = DMemBPDecoder(\n",
    "        pcm=chkmat,\n",
    "        prior=prior,\n",
    "        gamma=gamma,\n",
    "        max_iter=50\n",
    "    )\n",
    "    ehat = dmembp.decode_batch(syndromes)\n",
    "    syndromes_predict = (ehat @ chkmat.T) % 2\n",
    "    num_unmatched_syndromes = np.sum(np.any(syndromes_predict != syndromes, axis=1))\n",
    "    observables_predict = (ehat @ obsmat.T) % 2\n",
    "    num_unmatched_observables = np.sum(np.any(observables_predict != observables, axis=1))\n",
    "    \n",
    "    results['DMemBP_syndromes'].append(num_unmatched_syndromes)\n",
    "    results['DMemBP_observables'].append(num_unmatched_observables)\n",
    "\n",
    "\n",
    "    # MWPM Decoder\n",
    "    mwpm = pymatching.Matching.from_check_matrix(chkmat, weights=np.log((1 - prior) / prior))\n",
    "    ehat = mwpm.decode_batch(syndromes)\n",
    "    syndromes_predict = (ehat @ chkmat.T) % 2\n",
    "    num_unmatched_syndromes = np.sum(np.any(syndromes_predict != syndromes, axis=1))\n",
    "    observables_predict = (ehat @ obsmat.T) % 2\n",
    "    num_unmatched_observables = np.sum(np.any(observables_predict != observables, axis=1))\n",
    "    \n",
    "    results['MWPM_syndromes'].append(num_unmatched_syndromes)\n",
    "    results['MWPM_observables'].append(num_unmatched_observables)\n",
    "\n",
    "print(\"Data collection complete!\")\n"
   ]
  },
  {
   "cell_type": "code",
   "execution_count": 23,
   "id": "84872ef6",
   "metadata": {},
   "outputs": [
    {
     "data": {
      "image/png": "[encoded data removed]",
      "text/plain": [
       "<Figure size 1500x600 with 2 Axes>"
      ]
     },
     "metadata": {},
     "output_type": "display_data"
    },
    {
     "name": "stdout",
     "output_type": "stream",
     "text": [
      "\n",
      "Summary Statistics:\n",
      "==================================================\n",
      "\n",
      "Error Rate p = 0.004:\n",
      "  BP:          541 unmatched syndromes,   104 unmatched observables\n",
      "  DMemBP:        1 unmatched syndromes,    21 unmatched observables\n",
      "  MWPM:          0 unmatched syndromes,    16 unmatched observables\n",
      "\n",
      "Error Rate p = 0.006:\n",
      "  BP:         1172 unmatched syndromes,   264 unmatched observables\n",
      "  DMemBP:       14 unmatched syndromes,    83 unmatched observables\n",
      "  MWPM:          0 unmatched syndromes,    58 unmatched observables\n",
      "\n",
      "Error Rate p = 0.008:\n",
      "  BP:         1955 unmatched syndromes,   466 unmatched observables\n",
      "  DMemBP:       20 unmatched syndromes,   179 unmatched observables\n",
      "  MWPM:          0 unmatched syndromes,   138 unmatched observables\n",
      "\n",
      "Error Rate p = 0.010:\n",
      "  BP:         3009 unmatched syndromes,   765 unmatched observables\n",
      "  DMemBP:       26 unmatched syndromes,   324 unmatched observables\n",
      "  MWPM:          0 unmatched syndromes,   255 unmatched observables\n",
      "\n",
      "Error Rate p = 0.012:\n",
      "  BP:         4251 unmatched syndromes,  1161 unmatched observables\n",
      "  DMemBP:       49 unmatched syndromes,   588 unmatched observables\n",
      "  MWPM:          0 unmatched syndromes,   417 unmatched observables\n"
     ]
    }
   ],
   "source": [
    "# Create bar charts\n",
    "fig, (ax1, ax2) = plt.subplots(1, 2, figsize=(15, 6))\n",
    "\n",
    "# Convert to numpy arrays for easier plotting\n",
    "error_rates = np.array(results['error_rates'])\n",
    "bp_syndromes = np.array(results['BP_syndromes'])\n",
    "bp_observables = np.array(results['BP_observables'])\n",
    "dmembp_syndromes = np.array(results['DMemBP_syndromes'])\n",
    "dmembp_observables = np.array(results['DMemBP_observables'])\n",
    "mwpm_syndromes = np.array(results['MWPM_syndromes'])\n",
    "mwpm_observables = np.array(results['MWPM_observables'])\n",
    "\n",
    "# Set up bar positions\n",
    "x = np.arange(len(error_rates))\n",
    "width = 0.25\n",
    "\n",
    "# Plot 1: Unmatched Syndromes\n",
    "bars1 = ax1.bar(x - width, bp_syndromes, width, label='BP', alpha=0.8, color='skyblue')\n",
    "bars2 = ax1.bar(x, dmembp_syndromes, width, label='DMemBP', alpha=0.8, color='lightcoral')\n",
    "bars3 = ax1.bar(x + width, mwpm_syndromes, width, label='MWPM', alpha=0.8, color='lightgreen')\n",
    "\n",
    "ax1.set_xlabel('Error Rate (p)')\n",
    "ax1.set_ylabel('Number of Unmatched Syndromes')\n",
    "ax1.set_title('Decoder Performance: Unmatched Syndromes')\n",
    "ax1.set_xticks(x)\n",
    "ax1.set_xticklabels([f'{p:.3f}' for p in error_rates])\n",
    "ax1.legend()\n",
    "ax1.grid(True, alpha=0.3)\n",
    "\n",
    "# Add value labels on bars\n",
    "for bars in [bars1, bars2, bars3]:\n",
    "    for bar in bars:\n",
    "        height = bar.get_height()\n",
    "        ax1.annotate(f'{int(height)}',\n",
    "                    xy=(bar.get_x() + bar.get_width() / 2, height),\n",
    "                    xytext=(0, 3),  # 3 points vertical offset\n",
    "                    textcoords=\"offset points\",\n",
    "                    ha='center', va='bottom', fontsize=8)\n",
    "\n",
    "# Plot 2: Unmatched Observables\n",
    "bars4 = ax2.bar(x - width, bp_observables, width, label='BP', alpha=0.8, color='skyblue')\n",
    "bars5 = ax2.bar(x, dmembp_observables, width, label='DMemBP', alpha=0.8, color='lightcoral')\n",
    "bars6 = ax2.bar(x + width, mwpm_observables, width, label='MWPM', alpha=0.8, color='lightgreen')\n",
    "\n",
    "ax2.set_xlabel('Error Rate (p)')\n",
    "ax2.set_ylabel('Number of Unmatched Observables')\n",
    "ax2.set_title('Decoder Performance: Unmatched Observables')\n",
    "ax2.set_xticks(x)\n",
    "ax2.set_xticklabels([f'{p:.3f}' for p in error_rates])\n",
    "ax2.legend()\n",
    "ax2.grid(True, alpha=0.3)\n",
    "\n",
    "# Add value labels on bars\n",
    "for bars in [bars4, bars5, bars6]:\n",
    "    for bar in bars:\n",
    "        height = bar.get_height()\n",
    "        ax2.annotate(f'{int(height)}',\n",
    "                    xy=(bar.get_x() + bar.get_width() / 2, height),\n",
    "                    xytext=(0, 3),  # 3 points vertical offset\n",
    "                    textcoords=\"offset points\",\n",
    "                    ha='center', va='bottom', fontsize=8)\n",
    "\n",
    "plt.tight_layout()\n",
    "plt.show()\n",
    "\n",
    "# Print summary statistics\n",
    "print(\"\\nSummary Statistics:\")\n",
    "print(\"=\" * 50)\n",
    "for i, p in enumerate(error_rates):\n",
    "    print(f\"\\nError Rate p = {p:.3f}:\")\n",
    "    print(f\"  BP:        {bp_syndromes[i]:5d} unmatched syndromes, {bp_observables[i]:5d} unmatched observables\")\n",
    "    print(f\"  DMemBP:    {dmembp_syndromes[i]:5d} unmatched syndromes, {dmembp_observables[i]:5d} unmatched observables\")\n",
    "    print(f\"  MWPM:      {mwpm_syndromes[i]:5d} unmatched syndromes, {mwpm_observables[i]:5d} unmatched observables\")\n"
   ]
  },
  {
   "cell_type": "code",
   "execution_count": 24,
   "id": "5397a44c",
   "metadata": {},
   "outputs": [
    {
     "name": "stdout",
     "output_type": "stream",
     "text": [
      "Processing p = 0.004...\n",
      "Processing p = 0.006...\n",
      "Processing p = 0.008...\n",
      "Processing p = 0.01...\n",
      "Processing p = 0.012...\n",
      "Data collection complete!\n"
     ]
    }
   ],
   "source": [
    "import matplotlib.pyplot as plt\n",
    "import numpy as np\n",
    "from qecdec import BPDecoder, DMemBPDecoder, RotatedSurfaceCode, detector_error_model_to_check_matrices\n",
    "import pymatching\n",
    "\n",
    "# Set up the experiment\n",
    "d = 5\n",
    "code = RotatedSurfaceCode(d)\n",
    "num_shots = 100_000\n",
    "seed = 42\n",
    "error_rates = [0.004, 0.006, 0.008, 0.01, 0.012]\n",
    "\n",
    "# Initialize data storage\n",
    "results = {\n",
    "    'error_rates': error_rates,\n",
    "    'BP_syndromes': [],\n",
    "    'BP_observables': [],\n",
    "    'DMemBP_syndromes': [],\n",
    "    'DMemBP_observables': [],\n",
    "    'MWPM_syndromes': [],\n",
    "    'MWPM_observables': []\n",
    "}\n",
    "\n",
    "# Run the comparison\n",
    "for p in error_rates:\n",
    "    print(f\"Processing p = {p}...\")\n",
    "    \n",
    "    circuit_phenom = code.make_circuit_memory_z_experiment(\n",
    "        rounds=d,\n",
    "        data_qubit_error_rate=p,\n",
    "        meas_error_rate=p,\n",
    "        keep_z_detectors_only=True,\n",
    "    )\n",
    "    circuit_circlevel = code.make_circuit_memory_z_experiment(\n",
    "        rounds=d,\n",
    "        data_qubit_error_rate=p,\n",
    "        prep_error_rate=p,\n",
    "        meas_error_rate=p,\n",
    "        gate1_error_rate=p,\n",
    "        gate2_error_rate=p,\n",
    "        keep_z_detectors_only=True,\n",
    "    )\n",
    "\n",
    "    syndromes, observables = circuit_circlevel.compile_detector_sampler(seed=seed).sample(num_shots, separate_observables=True)\n",
    "    syndromes = syndromes.astype(np.uint8)\n",
    "    observables = observables.astype(np.uint8)\n",
    "\n",
    "    dem = circuit_phenom.detector_error_model()\n",
    "    matrices = detector_error_model_to_check_matrices(dem)\n",
    "    chkmat = matrices.check_matrix.toarray().astype(np.uint8)\n",
    "    obsmat = matrices.observables_matrix.toarray().astype(np.uint8)\n",
    "    prior = matrices.priors.astype(np.float64)\n",
    "\n",
    "    # BP Decoder\n",
    "    bp = BPDecoder(\n",
    "        pcm=chkmat,\n",
    "        prior=prior,\n",
    "        max_iter=50\n",
    "    )\n",
    "    ehat = bp.decode_batch(syndromes)\n",
    "    syndromes_predict = (ehat @ chkmat.T) % 2\n",
    "    num_unmatched_syndromes = np.sum(np.any(syndromes_predict != syndromes, axis=1))\n",
    "    observables_predict = (ehat @ obsmat.T) % 2\n",
    "    num_unmatched_observables = np.sum(np.any(observables_predict != observables, axis=1))\n",
    "    \n",
    "    results['BP_syndromes'].append(num_unmatched_syndromes)\n",
    "    results['BP_observables'].append(num_unmatched_observables)\n",
    "\n",
    "    # DMemBP Decoder\n",
    "    dmembp = DMemBPDecoder(\n",
    "        pcm=chkmat,\n",
    "        prior=prior,\n",
    "        gamma=gamma,\n",
    "        max_iter=50\n",
    "    )\n",
    "    ehat = dmembp.decode_batch(syndromes)\n",
    "    syndromes_predict = (ehat @ chkmat.T) % 2\n",
    "    num_unmatched_syndromes = np.sum(np.any(syndromes_predict != syndromes, axis=1))\n",
    "    observables_predict = (ehat @ obsmat.T) % 2\n",
    "    num_unmatched_observables = np.sum(np.any(observables_predict != observables, axis=1))\n",
    "    \n",
    "    results['DMemBP_syndromes'].append(num_unmatched_syndromes)\n",
    "    results['DMemBP_observables'].append(num_unmatched_observables)\n",
    "\n",
    "\n",
    "    # MWPM Decoder\n",
    "    mwpm = pymatching.Matching.from_check_matrix(chkmat, weights=np.log((1 - prior) / prior))\n",
    "    ehat = mwpm.decode_batch(syndromes)\n",
    "    syndromes_predict = (ehat @ chkmat.T) % 2\n",
    "    num_unmatched_syndromes = np.sum(np.any(syndromes_predict != syndromes, axis=1))\n",
    "    observables_predict = (ehat @ obsmat.T) % 2\n",
    "    num_unmatched_observables = np.sum(np.any(observables_predict != observables, axis=1))\n",
    "    \n",
    "    results['MWPM_syndromes'].append(num_unmatched_syndromes)\n",
    "    results['MWPM_observables'].append(num_unmatched_observables)\n",
    "\n",
    "print(\"Data collection complete!\")\n"
   ]
  },
  {
   "cell_type": "code",
   "execution_count": 25,
   "id": "e96c842d",
   "metadata": {},
   "outputs": [
    {
     "data": {
      "image/png": "[encoded data removed]",
      "text/plain": [
       "<Figure size 1500x600 with 2 Axes>"
      ]
     },
     "metadata": {},
     "output_type": "display_data"
    },
    {
     "name": "stdout",
     "output_type": "stream",
     "text": [
      "\n",
      "Summary Statistics:\n",
      "==================================================\n",
      "\n",
      "Error Rate p = 0.004:\n",
      "  BP:        19945 unmatched syndromes,  3393 unmatched observables\n",
      "  DMemBP:      145 unmatched syndromes,  2017 unmatched observables\n",
      "  MWPM:          0 unmatched syndromes,  2055 unmatched observables\n",
      "\n",
      "Error Rate p = 0.006:\n",
      "  BP:        28649 unmatched syndromes,  7070 unmatched observables\n",
      "  DMemBP:      328 unmatched syndromes,  4816 unmatched observables\n",
      "  MWPM:          0 unmatched syndromes,  4696 unmatched observables\n",
      "\n",
      "Error Rate p = 0.008:\n",
      "  BP:        35741 unmatched syndromes, 11758 unmatched observables\n",
      "  DMemBP:      645 unmatched syndromes,  8498 unmatched observables\n",
      "  MWPM:          0 unmatched syndromes,  8285 unmatched observables\n",
      "\n",
      "Error Rate p = 0.010:\n",
      "  BP:        42060 unmatched syndromes, 16941 unmatched observables\n",
      "  DMemBP:      950 unmatched syndromes, 12884 unmatched observables\n",
      "  MWPM:          0 unmatched syndromes, 12554 unmatched observables\n",
      "\n",
      "Error Rate p = 0.012:\n",
      "  BP:        47931 unmatched syndromes, 22121 unmatched observables\n",
      "  DMemBP:     1360 unmatched syndromes, 17974 unmatched observables\n",
      "  MWPM:          0 unmatched syndromes, 17184 unmatched observables\n"
     ]
    }
   ],
   "source": [
    "# Create bar charts\n",
    "fig, (ax1, ax2) = plt.subplots(1, 2, figsize=(15, 6))\n",
    "\n",
    "# Convert to numpy arrays for easier plotting\n",
    "error_rates = np.array(results['error_rates'])\n",
    "bp_syndromes = np.array(results['BP_syndromes'])\n",
    "bp_observables = np.array(results['BP_observables'])\n",
    "dmembp_syndromes = np.array(results['DMemBP_syndromes'])\n",
    "dmembp_observables = np.array(results['DMemBP_observables'])\n",
    "mwpm_syndromes = np.array(results['MWPM_syndromes'])\n",
    "mwpm_observables = np.array(results['MWPM_observables'])\n",
    "\n",
    "# Set up bar positions\n",
    "x = np.arange(len(error_rates))\n",
    "width = 0.25\n",
    "\n",
    "# Plot 1: Unmatched Syndromes\n",
    "bars1 = ax1.bar(x - width, bp_syndromes, width, label='BP', alpha=0.8, color='skyblue')\n",
    "bars2 = ax1.bar(x, dmembp_syndromes, width, label='DMemBP', alpha=0.8, color='lightcoral')\n",
    "bars3 = ax1.bar(x + width, mwpm_syndromes, width, label='MWPM', alpha=0.8, color='lightgreen')\n",
    "\n",
    "ax1.set_xlabel('Error Rate (p)')\n",
    "ax1.set_ylabel('Number of Unmatched Syndromes')\n",
    "ax1.set_title('Decoder Performance: Unmatched Syndromes')\n",
    "ax1.set_xticks(x)\n",
    "ax1.set_xticklabels([f'{p:.3f}' for p in error_rates])\n",
    "ax1.legend()\n",
    "ax1.grid(True, alpha=0.3)\n",
    "\n",
    "# Add value labels on bars\n",
    "for bars in [bars1, bars2, bars3]:\n",
    "    for bar in bars:\n",
    "        height = bar.get_height()\n",
    "        ax1.annotate(f'{int(height)}',\n",
    "                    xy=(bar.get_x() + bar.get_width() / 2, height),\n",
    "                    xytext=(0, 3),  # 3 points vertical offset\n",
    "                    textcoords=\"offset points\",\n",
    "                    ha='center', va='bottom', fontsize=8)\n",
    "\n",
    "# Plot 2: Unmatched Observables\n",
    "bars4 = ax2.bar(x - width, bp_observables, width, label='BP', alpha=0.8, color='skyblue')\n",
    "bars5 = ax2.bar(x, dmembp_observables, width, label='DMemBP', alpha=0.8, color='lightcoral')\n",
    "bars6 = ax2.bar(x + width, mwpm_observables, width, label='MWPM', alpha=0.8, color='lightgreen')\n",
    "\n",
    "ax2.set_xlabel('Error Rate (p)')\n",
    "ax2.set_ylabel('Number of Unmatched Observables')\n",
    "ax2.set_title('Decoder Performance: Unmatched Observables')\n",
    "ax2.set_xticks(x)\n",
    "ax2.set_xticklabels([f'{p:.3f}' for p in error_rates])\n",
    "ax2.legend()\n",
    "ax2.grid(True, alpha=0.3)\n",
    "\n",
    "# Add value labels on bars\n",
    "for bars in [bars4, bars5, bars6]:\n",
    "    for bar in bars:\n",
    "        height = bar.get_height()\n",
    "        ax2.annotate(f'{int(height)}',\n",
    "                    xy=(bar.get_x() + bar.get_width() / 2, height),\n",
    "                    xytext=(0, 3),  # 3 points vertical offset\n",
    "                    textcoords=\"offset points\",\n",
    "                    ha='center', va='bottom', fontsize=8)\n",
    "\n",
    "plt.tight_layout()\n",
    "plt.show()\n",
    "\n",
    "# Print summary statistics\n",
    "print(\"\\nSummary Statistics:\")\n",
    "print(\"=\" * 50)\n",
    "for i, p in enumerate(error_rates):\n",
    "    print(f\"\\nError Rate p = {p:.3f}:\")\n",
    "    print(f\"  BP:        {bp_syndromes[i]:5d} unmatched syndromes, {bp_observables[i]:5d} unmatched observables\")\n",
    "    print(f\"  DMemBP:    {dmembp_syndromes[i]:5d} unmatched syndromes, {dmembp_observables[i]:5d} unmatched observables\")\n",
    "    print(f\"  MWPM:      {mwpm_syndromes[i]:5d} unmatched syndromes, {mwpm_observables[i]:5d} unmatched observables\")\n"
   ]
  },
  {
   "cell_type": "code",
   "execution_count": null,
   "id": "96efdf49",
   "metadata": {},
   "outputs": [],
   "source": []
  }
 ],
 "metadata": {
  "kernelspec": {
   "display_name": ".env",
   "language": "python",
   "name": "python3"
  },
  "language_info": {
   "codemirror_mode": {
    "name": "ipython",
    "version": 3
   },
   "file_extension": ".py",
   "mimetype": "text/x-python",
   "name": "python",
   "nbconvert_exporter": "python",
   "pygments_lexer": "ipython3",
   "version": "3.10.6"
  }
 },
 "nbformat": 4,
 "nbformat_minor": 5
}
