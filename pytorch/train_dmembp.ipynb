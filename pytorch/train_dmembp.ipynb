{
 "cells": [
  {
   "cell_type": "code",
   "execution_count": null,
   "id": "33711a1c",
   "metadata": {},
   "outputs": [],
   "source": [
    "%reload_ext autoreload\n",
    "%autoreload 2\n",
    "import numpy as np\n",
    "import torch\n",
    "\n",
    "from qecdec import RotatedSurfaceCode_Memory\n",
    "from learned_decoders import *\n",
    "from train_utils import *\n",
    "from datetime import datetime\n",
    "\n",
    "d = 5\n",
    "rounds = 5\n",
    "p = 0.01\n",
    "num_bp_iters = 5\n",
    "learning_rate = 0.002\n",
    "loss_beta = 1.0"
   ]
  },
  {
   "cell_type": "code",
   "execution_count": null,
   "id": "9094f6b2",
   "metadata": {},
   "outputs": [
    {
     "name": "stdout",
     "output_type": "stream",
     "text": [
      "Number of error mechanisms: 186\n",
      "Number of detectors: 72\n",
      "Number of observables: 1\n"
     ]
    }
   ],
   "source": [
    "expmt = RotatedSurfaceCode_Memory(\n",
    "    d=d,\n",
    "    rounds=rounds,\n",
    "    basis='Z',\n",
    "    data_qubit_error_rate=p,\n",
    "    meas_error_rate=p,\n",
    ")\n",
    "print(\"Number of error mechanisms:\", expmt.num_error_mechanisms)\n",
    "print(\"Number of detectors:\", expmt.num_detectors)\n",
    "print(\"Number of observables:\", expmt.num_observables)"
   ]
  },
  {
   "cell_type": "code",
   "execution_count": 3,
   "id": "e29c27ca",
   "metadata": {},
   "outputs": [
    {
     "name": "stdout",
     "output_type": "stream",
     "text": [
      "Size of train_dataset: 25556\n",
      "Size of val_dataset: 815\n"
     ]
    }
   ],
   "source": [
    "train_dataset, val_dataset = build_datasets(\n",
    "    expmt,\n",
    "    train_shots=10_000,\n",
    "    val_shots=1_000,\n",
    "    seed=42,\n",
    ")\n",
    "print(\"Size of train_dataset:\", len(train_dataset))\n",
    "print(\"Size of val_dataset:\", len(val_dataset))\n",
    "\n",
    "model = LearnedDMemBP(expmt.chkmat, expmt.prior, num_iters=num_bp_iters)\n",
    "loss_fn = DecodingLoss(expmt.chkmat, expmt.obsmat, beta=loss_beta)\n",
    "metric = DecodingMetric(expmt.chkmat, expmt.obsmat)\n",
    "optimizer = torch.optim.Adam(model.parameters(), lr=learning_rate)"
   ]
  },
  {
   "cell_type": "code",
   "execution_count": 4,
   "id": "aadb66b1",
   "metadata": {},
   "outputs": [
    {
     "name": "stdout",
     "output_type": "stream",
     "text": [
      "Using cpu device\n"
     ]
    },
    {
     "name": "stderr",
     "output_type": "stream",
     "text": [
      "Epoch 1/20: 100%|██████████| 100/100 [04:25<00:00,  2.66s/it, avg_loss=0.766982, grad_norm=0.249598]\n"
     ]
    },
    {
     "name": "stdout",
     "output_type": "stream",
     "text": [
      "Epoch 1 Summary:\n",
      "  Avg Train Loss: 0.766982\n",
      "  Avg Val Loss: 0.829145\n",
      "  wrong_syndrome_rate: 0.053988\n",
      "  wrong_observable_rate: 0.011043\n",
      "  failure_rate: 0.053988\n",
      "  Learning Rate: 0.002000\n",
      "\n"
     ]
    },
    {
     "name": "stderr",
     "output_type": "stream",
     "text": [
      "Epoch 2/20: 100%|██████████| 100/100 [04:25<00:00,  2.65s/it, avg_loss=0.703902, grad_norm=0.124192]\n"
     ]
    },
    {
     "name": "stdout",
     "output_type": "stream",
     "text": [
      "Epoch 2 Summary:\n",
      "  Avg Train Loss: 0.703902\n",
      "  Avg Val Loss: 0.783050\n",
      "  wrong_syndrome_rate: 0.051534\n",
      "  wrong_observable_rate: 0.011043\n",
      "  failure_rate: 0.051534\n",
      "  Learning Rate: 0.002000\n",
      "\n"
     ]
    },
    {
     "name": "stderr",
     "output_type": "stream",
     "text": [
      "Epoch 3/20: 100%|██████████| 100/100 [04:25<00:00,  2.65s/it, avg_loss=0.677188, grad_norm=0.119595]\n"
     ]
    },
    {
     "name": "stdout",
     "output_type": "stream",
     "text": [
      "Epoch 3 Summary:\n",
      "  Avg Train Loss: 0.677188\n",
      "  Avg Val Loss: 0.763699\n",
      "  wrong_syndrome_rate: 0.045399\n",
      "  wrong_observable_rate: 0.012270\n",
      "  failure_rate: 0.045399\n",
      "  Learning Rate: 0.002000\n",
      "\n"
     ]
    },
    {
     "name": "stderr",
     "output_type": "stream",
     "text": [
      "Epoch 4/20: 100%|██████████| 100/100 [04:22<00:00,  2.63s/it, avg_loss=0.663185, grad_norm=0.155058]\n"
     ]
    },
    {
     "name": "stdout",
     "output_type": "stream",
     "text": [
      "Epoch 4 Summary:\n",
      "  Avg Train Loss: 0.663185\n",
      "  Avg Val Loss: 0.754795\n",
      "  wrong_syndrome_rate: 0.045399\n",
      "  wrong_observable_rate: 0.012270\n",
      "  failure_rate: 0.045399\n",
      "  Learning Rate: 0.002000\n",
      "\n"
     ]
    },
    {
     "name": "stderr",
     "output_type": "stream",
     "text": [
      "Epoch 5/20: 100%|██████████| 100/100 [04:24<00:00,  2.65s/it, avg_loss=0.653930, grad_norm=0.152184]\n"
     ]
    },
    {
     "name": "stdout",
     "output_type": "stream",
     "text": [
      "Epoch 5 Summary:\n",
      "  Avg Train Loss: 0.653930\n",
      "  Avg Val Loss: 0.751365\n",
      "  wrong_syndrome_rate: 0.044172\n",
      "  wrong_observable_rate: 0.012270\n",
      "  failure_rate: 0.044172\n",
      "  Learning Rate: 0.002000\n",
      "\n"
     ]
    },
    {
     "name": "stderr",
     "output_type": "stream",
     "text": [
      "Epoch 6/20: 100%|██████████| 100/100 [04:25<00:00,  2.65s/it, avg_loss=0.647820, grad_norm=0.146551]\n"
     ]
    },
    {
     "name": "stdout",
     "output_type": "stream",
     "text": [
      "Epoch 6 Summary:\n",
      "  Avg Train Loss: 0.647820\n",
      "  Avg Val Loss: 0.750128\n",
      "  wrong_syndrome_rate: 0.038037\n",
      "  wrong_observable_rate: 0.013497\n",
      "  failure_rate: 0.039264\n",
      "  Learning Rate: 0.002000\n",
      "\n"
     ]
    },
    {
     "name": "stderr",
     "output_type": "stream",
     "text": [
      "Epoch 7/20: 100%|██████████| 100/100 [04:27<00:00,  2.67s/it, avg_loss=0.642901, grad_norm=0.133063]\n"
     ]
    },
    {
     "name": "stdout",
     "output_type": "stream",
     "text": [
      "Epoch 7 Summary:\n",
      "  Avg Train Loss: 0.642901\n",
      "  Avg Val Loss: 0.750312\n",
      "  wrong_syndrome_rate: 0.035583\n",
      "  wrong_observable_rate: 0.013497\n",
      "  failure_rate: 0.036810\n",
      "  Learning Rate: 0.002000\n",
      "\n"
     ]
    },
    {
     "name": "stderr",
     "output_type": "stream",
     "text": [
      "Epoch 8/20: 100%|██████████| 100/100 [04:25<00:00,  2.66s/it, avg_loss=0.639216, grad_norm=0.121764]\n"
     ]
    },
    {
     "name": "stdout",
     "output_type": "stream",
     "text": [
      "Epoch 8 Summary:\n",
      "  Avg Train Loss: 0.639216\n",
      "  Avg Val Loss: 0.751466\n",
      "  wrong_syndrome_rate: 0.034356\n",
      "  wrong_observable_rate: 0.013497\n",
      "  failure_rate: 0.035583\n",
      "  Learning Rate: 0.002000\n",
      "\n"
     ]
    },
    {
     "name": "stderr",
     "output_type": "stream",
     "text": [
      "Epoch 9/20: 100%|██████████| 100/100 [04:24<00:00,  2.65s/it, avg_loss=0.636516, grad_norm=0.084022]\n"
     ]
    },
    {
     "name": "stdout",
     "output_type": "stream",
     "text": [
      "Epoch 9 Summary:\n",
      "  Avg Train Loss: 0.636516\n",
      "  Avg Val Loss: 0.752080\n",
      "  wrong_syndrome_rate: 0.031902\n",
      "  wrong_observable_rate: 0.013497\n",
      "  failure_rate: 0.033129\n",
      "  Learning Rate: 0.002000\n",
      "\n"
     ]
    },
    {
     "name": "stderr",
     "output_type": "stream",
     "text": [
      "Epoch 10/20: 100%|██████████| 100/100 [04:24<00:00,  2.65s/it, avg_loss=0.634569, grad_norm=0.113857]\n"
     ]
    },
    {
     "name": "stdout",
     "output_type": "stream",
     "text": [
      "Epoch 10 Summary:\n",
      "  Avg Train Loss: 0.634569\n",
      "  Avg Val Loss: 0.751789\n",
      "  wrong_syndrome_rate: 0.033129\n",
      "  wrong_observable_rate: 0.012270\n",
      "  failure_rate: 0.034356\n",
      "  Learning Rate: 0.000400\n",
      "\n"
     ]
    },
    {
     "name": "stderr",
     "output_type": "stream",
     "text": [
      "Epoch 11/20: 100%|██████████| 100/100 [04:23<00:00,  2.64s/it, avg_loss=0.632954, grad_norm=0.103478]\n"
     ]
    },
    {
     "name": "stdout",
     "output_type": "stream",
     "text": [
      "Epoch 11 Summary:\n",
      "  Avg Train Loss: 0.632954\n",
      "  Avg Val Loss: 0.751791\n",
      "  wrong_syndrome_rate: 0.033129\n",
      "  wrong_observable_rate: 0.012270\n",
      "  failure_rate: 0.034356\n",
      "  Learning Rate: 0.000400\n",
      "\n"
     ]
    },
    {
     "name": "stderr",
     "output_type": "stream",
     "text": [
      "Epoch 12/20: 100%|██████████| 100/100 [04:24<00:00,  2.64s/it, avg_loss=0.632980, grad_norm=0.163386]\n"
     ]
    },
    {
     "name": "stdout",
     "output_type": "stream",
     "text": [
      "Epoch 12 Summary:\n",
      "  Avg Train Loss: 0.632980\n",
      "  Avg Val Loss: 0.751724\n",
      "  wrong_syndrome_rate: 0.033129\n",
      "  wrong_observable_rate: 0.012270\n",
      "  failure_rate: 0.034356\n",
      "  Learning Rate: 0.000400\n",
      "\n",
      "Early stopping triggered\n"
     ]
    }
   ],
   "source": [
    "train_gamma(\n",
    "    model,\n",
    "    train_dataset,\n",
    "    val_dataset,\n",
    "    loss_fn,\n",
    "    metric,\n",
    "    optimizer,\n",
    "    num_epochs=20,\n",
    "    batch_size=256,\n",
    "    device=\"cpu\",\n",
    "    scheduler_kwargs=dict(factor=0.2, patience=3, threshold=1e-3, threshold_mode=\"abs\"),\n",
    "    early_stopper=EarlyStopper(patience=5, min_delta=1e-3),\n",
    ")"
   ]
  },
  {
   "cell_type": "code",
   "execution_count": null,
   "id": "b7a38b98",
   "metadata": {},
   "outputs": [],
   "source": [
    "gamma = model.gamma.detach().numpy().astype(np.float64)\n",
    "now = datetime.now().strftime(\"%Y-%m-%d-%H-%M-%S\")\n",
    "np.save(f\"learned_params/dmembp_{now}_gamma.npy\", gamma)"
   ]
  }
 ],
 "metadata": {
  "kernelspec": {
   "display_name": ".env",
   "language": "python",
   "name": "python3"
  },
  "language_info": {
   "codemirror_mode": {
    "name": "ipython",
    "version": 3
   },
   "file_extension": ".py",
   "mimetype": "text/x-python",
   "name": "python",
   "nbconvert_exporter": "python",
   "pygments_lexer": "ipython3",
   "version": "3.10.6"
  }
 },
 "nbformat": 4,
 "nbformat_minor": 5
}
