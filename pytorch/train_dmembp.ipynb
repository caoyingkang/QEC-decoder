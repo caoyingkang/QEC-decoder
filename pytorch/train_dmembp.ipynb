{
 "cells": [
  {
   "cell_type": "markdown",
   "id": "0376b39a",
   "metadata": {},
   "source": [
    "# d=5"
   ]
  },
  {
   "cell_type": "code",
   "execution_count": 1,
   "id": "33711a1c",
   "metadata": {},
   "outputs": [],
   "source": [
    "%reload_ext autoreload\n",
    "%autoreload 2\n",
    "import numpy as np\n",
    "import torch\n",
    "\n",
    "from qecdec import RotatedSurfaceCode_Memory\n",
    "from learned_decoders import *\n",
    "from train_utils import *\n",
    "from datetime import datetime\n",
    "\n",
    "# Set experiment parameters.\n",
    "d = 5  # code distance\n",
    "rounds = 5  # number of rounds of stabilizer measurements\n",
    "p = 0.01  # physical error rate\n",
    "\n",
    "# Set training parameters.\n",
    "num_epochs = 20\n",
    "batch_size = 256\n",
    "model_kwargs = dict(num_iters=5)\n",
    "optimizer_kwargs = dict(lr=0.002)\n",
    "loss_fn_kwargs = dict(beta=1.0, skip_iters=0)\n",
    "lr_scheduler_kwargs=dict(factor=0.2, patience=3, threshold=1e-3, threshold_mode=\"abs\")\n",
    "early_stopper_kwargs = dict(patience=5, min_delta=1e-3)"
   ]
  },
  {
   "cell_type": "code",
   "execution_count": 2,
   "id": "9094f6b2",
   "metadata": {},
   "outputs": [
    {
     "name": "stdout",
     "output_type": "stream",
     "text": [
      "Number of error mechanisms: 186\n",
      "Number of detectors: 72\n",
      "Number of observables: 1\n"
     ]
    }
   ],
   "source": [
    "expmt = RotatedSurfaceCode_Memory(\n",
    "    d=d,\n",
    "    rounds=rounds,\n",
    "    basis='Z',\n",
    "    data_qubit_error_rate=p,\n",
    "    meas_error_rate=p,\n",
    ")\n",
    "print(\"Number of error mechanisms:\", expmt.num_error_mechanisms)\n",
    "print(\"Number of detectors:\", expmt.num_detectors)\n",
    "print(\"Number of observables:\", expmt.num_observables)"
   ]
  },
  {
   "cell_type": "code",
   "execution_count": 3,
   "id": "e29c27ca",
   "metadata": {},
   "outputs": [
    {
     "name": "stdout",
     "output_type": "stream",
     "text": [
      "Sampling shots from the noisy circuit...\n",
      "Added 8165 samples to the training dataset.\n",
      "Added 815 samples to the validation dataset.\n",
      "Generating all weight-1 errors...\n",
      "Added 186 samples to the training dataset.\n",
      "Generating all weight-2 errors...\n",
      "Added 17205 samples to the training dataset.\n",
      "Size of train_dataset: 25556\n",
      "Size of val_dataset: 815\n"
     ]
    }
   ],
   "source": [
    "train_dataset, val_dataset = build_datasets(\n",
    "    expmt,\n",
    "    train_shots=10_000,\n",
    "    val_shots=1_000,\n",
    "    seed=42,\n",
    "    train_all_wt1_errors=True,\n",
    "    train_all_wt2_errors=True,\n",
    "    remove_trivial_syndromes=True,\n",
    ")\n",
    "\n",
    "model = LearnedDMemBP(expmt.chkmat, expmt.prior, **model_kwargs)\n",
    "loss_fn = DecodingLoss(expmt.chkmat, expmt.obsmat, **loss_fn_kwargs)\n",
    "metric = DecodingMetric(expmt.chkmat, expmt.obsmat)\n",
    "optimizer = torch.optim.Adam(model.parameters(), **optimizer_kwargs)\n",
    "lr_scheduler = torch.optim.lr_scheduler.ReduceLROnPlateau(optimizer, **lr_scheduler_kwargs)\n",
    "early_stopper=EarlyStopper(**early_stopper_kwargs)"
   ]
  },
  {
   "cell_type": "code",
   "execution_count": 4,
   "id": "aadb66b1",
   "metadata": {},
   "outputs": [
    {
     "name": "stdout",
     "output_type": "stream",
     "text": [
      "Using cpu device\n"
     ]
    },
    {
     "name": "stderr",
     "output_type": "stream",
     "text": [
      "Epoch 1/20: 100%|██████████| 100/100 [00:16<00:00,  6.04it/s, avg_loss=0.767078, grad_norm=0.303137]\n"
     ]
    },
    {
     "name": "stdout",
     "output_type": "stream",
     "text": [
      "Epoch 1 Summary:\n",
      "  Avg Train Loss: 0.767078\n",
      "  Avg Val Loss: 0.832159\n",
      "  wrong_syndrome_rate: 0.050307\n",
      "  wrong_observable_rate: 0.007362\n",
      "  failure_rate: 0.050307\n",
      "  Learning Rate: 0.002000\n",
      "\n"
     ]
    },
    {
     "name": "stderr",
     "output_type": "stream",
     "text": [
      "Epoch 2/20: 100%|██████████| 100/100 [00:16<00:00,  6.11it/s, avg_loss=0.704019, grad_norm=0.272567]\n"
     ]
    },
    {
     "name": "stdout",
     "output_type": "stream",
     "text": [
      "Epoch 2 Summary:\n",
      "  Avg Train Loss: 0.704019\n",
      "  Avg Val Loss: 0.784984\n",
      "  wrong_syndrome_rate: 0.050307\n",
      "  wrong_observable_rate: 0.011043\n",
      "  failure_rate: 0.050307\n",
      "  Learning Rate: 0.002000\n",
      "\n"
     ]
    },
    {
     "name": "stderr",
     "output_type": "stream",
     "text": [
      "Epoch 3/20: 100%|██████████| 100/100 [00:16<00:00,  6.06it/s, avg_loss=0.677190, grad_norm=0.196400]\n"
     ]
    },
    {
     "name": "stdout",
     "output_type": "stream",
     "text": [
      "Epoch 3 Summary:\n",
      "  Avg Train Loss: 0.677190\n",
      "  Avg Val Loss: 0.765155\n",
      "  wrong_syndrome_rate: 0.045399\n",
      "  wrong_observable_rate: 0.012270\n",
      "  failure_rate: 0.045399\n",
      "  Learning Rate: 0.002000\n",
      "\n"
     ]
    },
    {
     "name": "stderr",
     "output_type": "stream",
     "text": [
      "Epoch 4/20: 100%|██████████| 100/100 [00:16<00:00,  6.04it/s, avg_loss=0.662672, grad_norm=0.128141]\n"
     ]
    },
    {
     "name": "stdout",
     "output_type": "stream",
     "text": [
      "Epoch 4 Summary:\n",
      "  Avg Train Loss: 0.662672\n",
      "  Avg Val Loss: 0.756020\n",
      "  wrong_syndrome_rate: 0.041718\n",
      "  wrong_observable_rate: 0.013497\n",
      "  failure_rate: 0.042945\n",
      "  Learning Rate: 0.002000\n",
      "\n"
     ]
    },
    {
     "name": "stderr",
     "output_type": "stream",
     "text": [
      "Epoch 5/20: 100%|██████████| 100/100 [00:16<00:00,  6.17it/s, avg_loss=0.653461, grad_norm=0.132810]\n"
     ]
    },
    {
     "name": "stdout",
     "output_type": "stream",
     "text": [
      "Epoch 5 Summary:\n",
      "  Avg Train Loss: 0.653461\n",
      "  Avg Val Loss: 0.752269\n",
      "  wrong_syndrome_rate: 0.039264\n",
      "  wrong_observable_rate: 0.013497\n",
      "  failure_rate: 0.040491\n",
      "  Learning Rate: 0.002000\n",
      "\n"
     ]
    },
    {
     "name": "stderr",
     "output_type": "stream",
     "text": [
      "Epoch 6/20: 100%|██████████| 100/100 [00:16<00:00,  6.17it/s, avg_loss=0.647153, grad_norm=0.157165]\n"
     ]
    },
    {
     "name": "stdout",
     "output_type": "stream",
     "text": [
      "Epoch 6 Summary:\n",
      "  Avg Train Loss: 0.647153\n",
      "  Avg Val Loss: 0.750873\n",
      "  wrong_syndrome_rate: 0.035583\n",
      "  wrong_observable_rate: 0.013497\n",
      "  failure_rate: 0.036810\n",
      "  Learning Rate: 0.002000\n",
      "\n"
     ]
    },
    {
     "name": "stderr",
     "output_type": "stream",
     "text": [
      "Epoch 7/20: 100%|██████████| 100/100 [00:16<00:00,  6.07it/s, avg_loss=0.642682, grad_norm=0.124679]\n"
     ]
    },
    {
     "name": "stdout",
     "output_type": "stream",
     "text": [
      "Epoch 7 Summary:\n",
      "  Avg Train Loss: 0.642682\n",
      "  Avg Val Loss: 0.751024\n",
      "  wrong_syndrome_rate: 0.036810\n",
      "  wrong_observable_rate: 0.013497\n",
      "  failure_rate: 0.038037\n",
      "  Learning Rate: 0.002000\n",
      "\n"
     ]
    },
    {
     "name": "stderr",
     "output_type": "stream",
     "text": [
      "Epoch 8/20: 100%|██████████| 100/100 [00:16<00:00,  6.16it/s, avg_loss=0.639662, grad_norm=0.150676]\n"
     ]
    },
    {
     "name": "stdout",
     "output_type": "stream",
     "text": [
      "Epoch 8 Summary:\n",
      "  Avg Train Loss: 0.639662\n",
      "  Avg Val Loss: 0.750999\n",
      "  wrong_syndrome_rate: 0.038037\n",
      "  wrong_observable_rate: 0.013497\n",
      "  failure_rate: 0.039264\n",
      "  Learning Rate: 0.002000\n",
      "\n"
     ]
    },
    {
     "name": "stderr",
     "output_type": "stream",
     "text": [
      "Epoch 9/20: 100%|██████████| 100/100 [00:16<00:00,  6.04it/s, avg_loss=0.637262, grad_norm=0.145191]\n"
     ]
    },
    {
     "name": "stdout",
     "output_type": "stream",
     "text": [
      "Epoch 9 Summary:\n",
      "  Avg Train Loss: 0.637262\n",
      "  Avg Val Loss: 0.751149\n",
      "  wrong_syndrome_rate: 0.036810\n",
      "  wrong_observable_rate: 0.014724\n",
      "  failure_rate: 0.038037\n",
      "  Learning Rate: 0.002000\n",
      "\n"
     ]
    },
    {
     "name": "stderr",
     "output_type": "stream",
     "text": [
      "Epoch 10/20: 100%|██████████| 100/100 [00:16<00:00,  6.11it/s, avg_loss=0.635644, grad_norm=0.136541]\n"
     ]
    },
    {
     "name": "stdout",
     "output_type": "stream",
     "text": [
      "Epoch 10 Summary:\n",
      "  Avg Train Loss: 0.635644\n",
      "  Avg Val Loss: 0.750919\n",
      "  wrong_syndrome_rate: 0.035583\n",
      "  wrong_observable_rate: 0.012270\n",
      "  failure_rate: 0.036810\n",
      "  Learning Rate: 0.000400\n",
      "\n"
     ]
    },
    {
     "name": "stderr",
     "output_type": "stream",
     "text": [
      "Epoch 11/20: 100%|██████████| 100/100 [00:16<00:00,  6.04it/s, avg_loss=0.633803, grad_norm=0.062244]\n"
     ]
    },
    {
     "name": "stdout",
     "output_type": "stream",
     "text": [
      "Epoch 11 Summary:\n",
      "  Avg Train Loss: 0.633803\n",
      "  Avg Val Loss: 0.750666\n",
      "  wrong_syndrome_rate: 0.034356\n",
      "  wrong_observable_rate: 0.012270\n",
      "  failure_rate: 0.035583\n",
      "  Learning Rate: 0.000400\n",
      "\n"
     ]
    },
    {
     "name": "stderr",
     "output_type": "stream",
     "text": [
      "Epoch 12/20: 100%|██████████| 100/100 [00:16<00:00,  5.91it/s, avg_loss=0.633886, grad_norm=0.158321]\n"
     ]
    },
    {
     "name": "stdout",
     "output_type": "stream",
     "text": [
      "Epoch 12 Summary:\n",
      "  Avg Train Loss: 0.633886\n",
      "  Avg Val Loss: 0.750557\n",
      "  wrong_syndrome_rate: 0.034356\n",
      "  wrong_observable_rate: 0.012270\n",
      "  failure_rate: 0.035583\n",
      "  Learning Rate: 0.000400\n",
      "\n",
      "Early stopping triggered\n"
     ]
    }
   ],
   "source": [
    "train_decoder(\n",
    "    model,\n",
    "    train_dataset,\n",
    "    val_dataset,\n",
    "    loss_fn,\n",
    "    metric,\n",
    "    optimizer,\n",
    "    num_epochs=num_epochs,\n",
    "    batch_size=batch_size,\n",
    "    device=\"cpu\",\n",
    "    lr_scheduler=lr_scheduler,\n",
    "    early_stopper=early_stopper,\n",
    ")"
   ]
  },
  {
   "cell_type": "code",
   "execution_count": null,
   "id": "b7a38b98",
   "metadata": {},
   "outputs": [],
   "source": [
    "gamma = torch.stack([x.detach() for x in model.gamma]).cpu().numpy().astype(np.float64)\n",
    "timestamp = datetime.now().strftime(\"%Y-%m-%d-%H-%M-%S\")\n",
    "np.save(f\"learned_params/dmembp_d{d}_{timestamp}_gamma.npy\", gamma)"
   ]
  },
  {
   "cell_type": "markdown",
   "id": "4853cc64",
   "metadata": {},
   "source": [
    "# d=7"
   ]
  },
  {
   "cell_type": "code",
   "execution_count": 1,
   "id": "7c5a3fc8",
   "metadata": {},
   "outputs": [],
   "source": [
    "%reload_ext autoreload\n",
    "%autoreload 2\n",
    "import numpy as np\n",
    "import torch\n",
    "\n",
    "from qecdec import RotatedSurfaceCode_Memory\n",
    "from learned_decoders import *\n",
    "from train_utils import *\n",
    "from datetime import datetime\n",
    "\n",
    "# Set experiment parameters.\n",
    "d = 7  # code distance\n",
    "rounds = 7  # number of rounds of stabilizer measurements\n",
    "p = 0.01  # physical error rate\n",
    "\n",
    "# Set training parameters.\n",
    "num_epochs = 20\n",
    "batch_size = 256\n",
    "model_kwargs = dict(num_iters=5)\n",
    "optimizer_kwargs = dict(lr=0.002)\n",
    "loss_fn_kwargs = dict(beta=1.0, skip_iters=0)\n",
    "lr_scheduler_kwargs=dict(factor=0.2, patience=3, threshold=1e-3, threshold_mode=\"abs\")\n",
    "early_stopper_kwargs = dict(patience=5, min_delta=1e-3)"
   ]
  },
  {
   "cell_type": "code",
   "execution_count": 2,
   "id": "f9beb982",
   "metadata": {},
   "outputs": [
    {
     "name": "stdout",
     "output_type": "stream",
     "text": [
      "Number of error mechanisms: 512\n",
      "Number of detectors: 192\n",
      "Number of observables: 1\n"
     ]
    }
   ],
   "source": [
    "expmt = RotatedSurfaceCode_Memory(\n",
    "    d=d,\n",
    "    rounds=rounds,\n",
    "    basis='Z',\n",
    "    data_qubit_error_rate=p,\n",
    "    meas_error_rate=p,\n",
    ")\n",
    "print(\"Number of error mechanisms:\", expmt.num_error_mechanisms)\n",
    "print(\"Number of detectors:\", expmt.num_detectors)\n",
    "print(\"Number of observables:\", expmt.num_observables)"
   ]
  },
  {
   "cell_type": "code",
   "execution_count": 3,
   "id": "bb4afaa8",
   "metadata": {},
   "outputs": [
    {
     "name": "stdout",
     "output_type": "stream",
     "text": [
      "Sampling shots from the noisy circuit...\n",
      "Added 13427 samples to the training dataset.\n",
      "Added 1338 samples to the validation dataset.\n",
      "Generating all weight-1 errors...\n",
      "Added 512 samples to the training dataset.\n",
      "Generating all weight-2 errors...\n",
      "Added 2282 samples to the training dataset.\n",
      "Size of train_dataset: 16221\n",
      "Size of val_dataset: 1338\n"
     ]
    }
   ],
   "source": [
    "train_dataset, val_dataset = build_datasets_version_2(\n",
    "    expmt,\n",
    "    train_shots=100_000,\n",
    "    val_shots=10_000,\n",
    "    seed=42,\n",
    ")\n",
    "\n",
    "model = LearnedDMemBP(expmt.chkmat, expmt.prior, **model_kwargs)\n",
    "loss_fn = DecodingLoss(expmt.chkmat, expmt.obsmat, **loss_fn_kwargs)\n",
    "metric = DecodingMetric(expmt.chkmat, expmt.obsmat)\n",
    "optimizer = torch.optim.Adam(model.parameters(), **optimizer_kwargs)\n",
    "lr_scheduler = torch.optim.lr_scheduler.ReduceLROnPlateau(optimizer, **lr_scheduler_kwargs)\n",
    "early_stopper=EarlyStopper(**early_stopper_kwargs)"
   ]
  },
  {
   "cell_type": "code",
   "execution_count": 4,
   "id": "5bc82d3b",
   "metadata": {},
   "outputs": [
    {
     "name": "stdout",
     "output_type": "stream",
     "text": [
      "Using cpu device\n"
     ]
    },
    {
     "name": "stderr",
     "output_type": "stream",
     "text": [
      "Epoch 1/20: 100%|██████████| 64/64 [00:31<00:00,  2.00it/s, avg_loss=8.084339, grad_norm=1.444346]\n"
     ]
    },
    {
     "name": "stdout",
     "output_type": "stream",
     "text": [
      "Epoch 1 Summary:\n",
      "  Avg Train Loss: 8.084339\n",
      "  Avg Val Loss: 7.735803\n",
      "  wrong_syndrome_rate: 0.828849\n",
      "  wrong_observable_rate: 0.110613\n",
      "  failure_rate: 0.829596\n",
      "  Learning Rate: 0.002000\n",
      "\n"
     ]
    },
    {
     "name": "stderr",
     "output_type": "stream",
     "text": [
      "Epoch 2/20: 100%|██████████| 64/64 [00:30<00:00,  2.09it/s, avg_loss=6.969124, grad_norm=1.287716]\n"
     ]
    },
    {
     "name": "stdout",
     "output_type": "stream",
     "text": [
      "Epoch 2 Summary:\n",
      "  Avg Train Loss: 6.969124\n",
      "  Avg Val Loss: 6.936110\n",
      "  wrong_syndrome_rate: 0.724963\n",
      "  wrong_observable_rate: 0.106876\n",
      "  failure_rate: 0.725710\n",
      "  Learning Rate: 0.002000\n",
      "\n"
     ]
    },
    {
     "name": "stderr",
     "output_type": "stream",
     "text": [
      "Epoch 3/20: 100%|██████████| 64/64 [00:30<00:00,  2.09it/s, avg_loss=6.317776, grad_norm=1.110275]\n"
     ]
    },
    {
     "name": "stdout",
     "output_type": "stream",
     "text": [
      "Epoch 3 Summary:\n",
      "  Avg Train Loss: 6.317776\n",
      "  Avg Val Loss: 6.428805\n",
      "  wrong_syndrome_rate: 0.651719\n",
      "  wrong_observable_rate: 0.091928\n",
      "  failure_rate: 0.652466\n",
      "  Learning Rate: 0.002000\n",
      "\n"
     ]
    },
    {
     "name": "stderr",
     "output_type": "stream",
     "text": [
      "Epoch 4/20: 100%|██████████| 64/64 [00:30<00:00,  2.08it/s, avg_loss=5.858488, grad_norm=1.001386]\n"
     ]
    },
    {
     "name": "stdout",
     "output_type": "stream",
     "text": [
      "Epoch 4 Summary:\n",
      "  Avg Train Loss: 5.858488\n",
      "  Avg Val Loss: 6.075483\n",
      "  wrong_syndrome_rate: 0.538864\n",
      "  wrong_observable_rate: 0.088191\n",
      "  failure_rate: 0.538864\n",
      "  Learning Rate: 0.002000\n",
      "\n"
     ]
    },
    {
     "name": "stderr",
     "output_type": "stream",
     "text": [
      "Epoch 5/20: 100%|██████████| 64/64 [00:31<00:00,  2.04it/s, avg_loss=5.542397, grad_norm=1.024369]\n"
     ]
    },
    {
     "name": "stdout",
     "output_type": "stream",
     "text": [
      "Epoch 5 Summary:\n",
      "  Avg Train Loss: 5.542397\n",
      "  Avg Val Loss: 5.833280\n",
      "  wrong_syndrome_rate: 0.455157\n",
      "  wrong_observable_rate: 0.082960\n",
      "  failure_rate: 0.455157\n",
      "  Learning Rate: 0.002000\n",
      "\n"
     ]
    },
    {
     "name": "stderr",
     "output_type": "stream",
     "text": [
      "Epoch 6/20: 100%|██████████| 64/64 [00:30<00:00,  2.10it/s, avg_loss=5.331680, grad_norm=0.864795]\n"
     ]
    },
    {
     "name": "stdout",
     "output_type": "stream",
     "text": [
      "Epoch 6 Summary:\n",
      "  Avg Train Loss: 5.331680\n",
      "  Avg Val Loss: 5.672523\n",
      "  wrong_syndrome_rate: 0.417040\n",
      "  wrong_observable_rate: 0.079223\n",
      "  failure_rate: 0.417040\n",
      "  Learning Rate: 0.002000\n",
      "\n"
     ]
    },
    {
     "name": "stderr",
     "output_type": "stream",
     "text": [
      "Epoch 7/20: 100%|██████████| 64/64 [00:30<00:00,  2.10it/s, avg_loss=5.193877, grad_norm=0.766425]\n"
     ]
    },
    {
     "name": "stdout",
     "output_type": "stream",
     "text": [
      "Epoch 7 Summary:\n",
      "  Avg Train Loss: 5.193877\n",
      "  Avg Val Loss: 5.571498\n",
      "  wrong_syndrome_rate: 0.387892\n",
      "  wrong_observable_rate: 0.080717\n",
      "  failure_rate: 0.387892\n",
      "  Learning Rate: 0.002000\n",
      "\n"
     ]
    },
    {
     "name": "stderr",
     "output_type": "stream",
     "text": [
      "Epoch 8/20: 100%|██████████| 64/64 [00:31<00:00,  2.05it/s, avg_loss=5.103400, grad_norm=0.798742]\n"
     ]
    },
    {
     "name": "stdout",
     "output_type": "stream",
     "text": [
      "Epoch 8 Summary:\n",
      "  Avg Train Loss: 5.103400\n",
      "  Avg Val Loss: 5.503787\n",
      "  wrong_syndrome_rate: 0.375187\n",
      "  wrong_observable_rate: 0.078475\n",
      "  failure_rate: 0.375187\n",
      "  Learning Rate: 0.002000\n",
      "\n"
     ]
    },
    {
     "name": "stderr",
     "output_type": "stream",
     "text": [
      "Epoch 9/20: 100%|██████████| 64/64 [00:30<00:00,  2.09it/s, avg_loss=5.040296, grad_norm=0.632357]\n"
     ]
    },
    {
     "name": "stdout",
     "output_type": "stream",
     "text": [
      "Epoch 9 Summary:\n",
      "  Avg Train Loss: 5.040296\n",
      "  Avg Val Loss: 5.453731\n",
      "  wrong_syndrome_rate: 0.360239\n",
      "  wrong_observable_rate: 0.080717\n",
      "  failure_rate: 0.360239\n",
      "  Learning Rate: 0.002000\n",
      "\n"
     ]
    },
    {
     "name": "stderr",
     "output_type": "stream",
     "text": [
      "Epoch 10/20: 100%|██████████| 64/64 [00:31<00:00,  2.06it/s, avg_loss=4.998749, grad_norm=0.599438]\n"
     ]
    },
    {
     "name": "stdout",
     "output_type": "stream",
     "text": [
      "Epoch 10 Summary:\n",
      "  Avg Train Loss: 4.998749\n",
      "  Avg Val Loss: 5.415423\n",
      "  wrong_syndrome_rate: 0.353513\n",
      "  wrong_observable_rate: 0.079970\n",
      "  failure_rate: 0.353513\n",
      "  Learning Rate: 0.002000\n",
      "\n"
     ]
    },
    {
     "name": "stderr",
     "output_type": "stream",
     "text": [
      "Epoch 11/20: 100%|██████████| 64/64 [00:30<00:00,  2.11it/s, avg_loss=4.974809, grad_norm=0.687393]\n"
     ]
    },
    {
     "name": "stdout",
     "output_type": "stream",
     "text": [
      "Epoch 11 Summary:\n",
      "  Avg Train Loss: 4.974809\n",
      "  Avg Val Loss: 5.386994\n",
      "  wrong_syndrome_rate: 0.342302\n",
      "  wrong_observable_rate: 0.079223\n",
      "  failure_rate: 0.342302\n",
      "  Learning Rate: 0.002000\n",
      "\n"
     ]
    },
    {
     "name": "stderr",
     "output_type": "stream",
     "text": [
      "Epoch 12/20: 100%|██████████| 64/64 [00:30<00:00,  2.09it/s, avg_loss=4.954606, grad_norm=0.675994]\n"
     ]
    },
    {
     "name": "stdout",
     "output_type": "stream",
     "text": [
      "Epoch 12 Summary:\n",
      "  Avg Train Loss: 4.954606\n",
      "  Avg Val Loss: 5.365338\n",
      "  wrong_syndrome_rate: 0.341555\n",
      "  wrong_observable_rate: 0.079223\n",
      "  failure_rate: 0.341555\n",
      "  Learning Rate: 0.002000\n",
      "\n"
     ]
    },
    {
     "name": "stderr",
     "output_type": "stream",
     "text": [
      "Epoch 13/20: 100%|██████████| 64/64 [00:30<00:00,  2.11it/s, avg_loss=4.936510, grad_norm=0.658788]\n"
     ]
    },
    {
     "name": "stdout",
     "output_type": "stream",
     "text": [
      "Epoch 13 Summary:\n",
      "  Avg Train Loss: 4.936510\n",
      "  Avg Val Loss: 5.354263\n",
      "  wrong_syndrome_rate: 0.337070\n",
      "  wrong_observable_rate: 0.077728\n",
      "  failure_rate: 0.337070\n",
      "  Learning Rate: 0.002000\n",
      "\n"
     ]
    },
    {
     "name": "stderr",
     "output_type": "stream",
     "text": [
      "Epoch 14/20: 100%|██████████| 64/64 [00:30<00:00,  2.10it/s, avg_loss=4.924982, grad_norm=0.722616]\n"
     ]
    },
    {
     "name": "stdout",
     "output_type": "stream",
     "text": [
      "Epoch 14 Summary:\n",
      "  Avg Train Loss: 4.924982\n",
      "  Avg Val Loss: 5.348056\n",
      "  wrong_syndrome_rate: 0.333333\n",
      "  wrong_observable_rate: 0.076233\n",
      "  failure_rate: 0.333333\n",
      "  Learning Rate: 0.002000\n",
      "\n"
     ]
    },
    {
     "name": "stderr",
     "output_type": "stream",
     "text": [
      "Epoch 15/20: 100%|██████████| 64/64 [00:30<00:00,  2.10it/s, avg_loss=4.917564, grad_norm=0.583868]\n"
     ]
    },
    {
     "name": "stdout",
     "output_type": "stream",
     "text": [
      "Epoch 15 Summary:\n",
      "  Avg Train Loss: 4.917564\n",
      "  Avg Val Loss: 5.341097\n",
      "  wrong_syndrome_rate: 0.328849\n",
      "  wrong_observable_rate: 0.075486\n",
      "  failure_rate: 0.328849\n",
      "  Learning Rate: 0.002000\n",
      "\n"
     ]
    },
    {
     "name": "stderr",
     "output_type": "stream",
     "text": [
      "Epoch 16/20: 100%|██████████| 64/64 [00:30<00:00,  2.07it/s, avg_loss=4.912100, grad_norm=0.675144]\n"
     ]
    },
    {
     "name": "stdout",
     "output_type": "stream",
     "text": [
      "Epoch 16 Summary:\n",
      "  Avg Train Loss: 4.912100\n",
      "  Avg Val Loss: 5.337361\n",
      "  wrong_syndrome_rate: 0.322123\n",
      "  wrong_observable_rate: 0.075486\n",
      "  failure_rate: 0.322123\n",
      "  Learning Rate: 0.002000\n",
      "\n"
     ]
    },
    {
     "name": "stderr",
     "output_type": "stream",
     "text": [
      "Epoch 17/20: 100%|██████████| 64/64 [00:31<00:00,  2.05it/s, avg_loss=4.904949, grad_norm=0.605418]\n"
     ]
    },
    {
     "name": "stdout",
     "output_type": "stream",
     "text": [
      "Epoch 17 Summary:\n",
      "  Avg Train Loss: 4.904949\n",
      "  Avg Val Loss: 5.333443\n",
      "  wrong_syndrome_rate: 0.323617\n",
      "  wrong_observable_rate: 0.076233\n",
      "  failure_rate: 0.323617\n",
      "  Learning Rate: 0.002000\n",
      "\n"
     ]
    },
    {
     "name": "stderr",
     "output_type": "stream",
     "text": [
      "Epoch 18/20: 100%|██████████| 64/64 [00:30<00:00,  2.09it/s, avg_loss=4.896978, grad_norm=0.599894]\n"
     ]
    },
    {
     "name": "stdout",
     "output_type": "stream",
     "text": [
      "Epoch 18 Summary:\n",
      "  Avg Train Loss: 4.896978\n",
      "  Avg Val Loss: 5.331110\n",
      "  wrong_syndrome_rate: 0.323617\n",
      "  wrong_observable_rate: 0.076233\n",
      "  failure_rate: 0.323617\n",
      "  Learning Rate: 0.002000\n",
      "\n"
     ]
    },
    {
     "name": "stderr",
     "output_type": "stream",
     "text": [
      "Epoch 19/20: 100%|██████████| 64/64 [00:30<00:00,  2.09it/s, avg_loss=4.902651, grad_norm=0.689222]\n"
     ]
    },
    {
     "name": "stdout",
     "output_type": "stream",
     "text": [
      "Epoch 19 Summary:\n",
      "  Avg Train Loss: 4.902651\n",
      "  Avg Val Loss: 5.330956\n",
      "  wrong_syndrome_rate: 0.325112\n",
      "  wrong_observable_rate: 0.078475\n",
      "  failure_rate: 0.325112\n",
      "  Learning Rate: 0.002000\n",
      "\n"
     ]
    },
    {
     "name": "stderr",
     "output_type": "stream",
     "text": [
      "Epoch 20/20: 100%|██████████| 64/64 [00:30<00:00,  2.11it/s, avg_loss=4.900708, grad_norm=0.742198]\n"
     ]
    },
    {
     "name": "stdout",
     "output_type": "stream",
     "text": [
      "Epoch 20 Summary:\n",
      "  Avg Train Loss: 4.900708\n",
      "  Avg Val Loss: 5.325924\n",
      "  wrong_syndrome_rate: 0.325112\n",
      "  wrong_observable_rate: 0.079223\n",
      "  failure_rate: 0.325112\n",
      "  Learning Rate: 0.002000\n",
      "\n"
     ]
    }
   ],
   "source": [
    "train_decoder(\n",
    "    model,\n",
    "    train_dataset,\n",
    "    val_dataset,\n",
    "    loss_fn,\n",
    "    metric,\n",
    "    optimizer,\n",
    "    num_epochs=num_epochs,\n",
    "    batch_size=batch_size,\n",
    "    device=\"cpu\",\n",
    "    lr_scheduler=lr_scheduler,\n",
    "    early_stopper=early_stopper,\n",
    ")"
   ]
  },
  {
   "cell_type": "code",
   "execution_count": 5,
   "id": "11eb043c",
   "metadata": {},
   "outputs": [],
   "source": [
    "gamma = torch.stack([x.detach() for x in model.gamma]).cpu().numpy().astype(np.float64)\n",
    "timestamp = datetime.now().strftime(\"%Y-%m-%d-%H-%M-%S\")\n",
    "np.save(f\"learned_params/dmembp_d{d}_{timestamp}_gamma.npy\", gamma)"
   ]
  },
  {
   "cell_type": "code",
   "execution_count": null,
   "id": "1fda5aef",
   "metadata": {},
   "outputs": [],
   "source": []
  }
 ],
 "metadata": {
  "kernelspec": {
   "display_name": ".env",
   "language": "python",
   "name": "python3"
  },
  "language_info": {
   "codemirror_mode": {
    "name": "ipython",
    "version": 3
   },
   "file_extension": ".py",
   "mimetype": "text/x-python",
   "name": "python",
   "nbconvert_exporter": "python",
   "pygments_lexer": "ipython3",
   "version": "3.10.6"
  }
 },
 "nbformat": 4,
 "nbformat_minor": 5
}
