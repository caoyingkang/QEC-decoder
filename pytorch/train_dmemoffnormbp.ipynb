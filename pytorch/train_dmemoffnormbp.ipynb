{
 "cells": [
  {
   "cell_type": "code",
   "execution_count": 9,
   "id": "33711a1c",
   "metadata": {},
   "outputs": [],
   "source": [
    "%reload_ext autoreload\n",
    "%autoreload 2\n",
    "import numpy as np\n",
    "import torch\n",
    "\n",
    "from qecdec import RotatedSurfaceCode_Memory\n",
    "from learned_decoders import *\n",
    "from train_utils import *\n",
    "from datetime import datetime\n",
    "import pickle\n",
    "\n",
    "d = 5\n",
    "rounds = 5\n",
    "p = 0.01\n",
    "num_bp_iters = 5\n",
    "learning_rate = 0.002\n",
    "loss_beta = 1.0\n",
    "train_offset = False\n",
    "train_nf = True"
   ]
  },
  {
   "cell_type": "code",
   "execution_count": 2,
   "id": "9094f6b2",
   "metadata": {},
   "outputs": [
    {
     "name": "stdout",
     "output_type": "stream",
     "text": [
      "Number of error mechanisms: 186\n",
      "Number of detectors: 72\n",
      "Number of observables: 1\n"
     ]
    }
   ],
   "source": [
    "expmt = RotatedSurfaceCode_Memory(\n",
    "    d=d,\n",
    "    rounds=rounds,\n",
    "    basis='Z',\n",
    "    data_qubit_error_rate=p,\n",
    "    meas_error_rate=p,\n",
    ")\n",
    "print(\"Number of error mechanisms:\", expmt.num_error_mechanisms)\n",
    "print(\"Number of detectors:\", expmt.num_detectors)\n",
    "print(\"Number of observables:\", expmt.num_observables)"
   ]
  },
  {
   "cell_type": "code",
   "execution_count": null,
   "id": "e29c27ca",
   "metadata": {},
   "outputs": [
    {
     "name": "stdout",
     "output_type": "stream",
     "text": [
      "Size of train_dataset: 25556\n",
      "Size of val_dataset: 815\n"
     ]
    }
   ],
   "source": [
    "train_dataset, val_dataset = build_datasets(\n",
    "    expmt,\n",
    "    train_shots=10_000,\n",
    "    val_shots=1_000,\n",
    "    seed=42,\n",
    ")\n",
    "print(\"Size of train_dataset:\", len(train_dataset))\n",
    "print(\"Size of val_dataset:\", len(val_dataset))\n",
    "\n",
    "model = LearnedDMemOffNormBP(expmt.chkmat, expmt.prior, num_iters=num_bp_iters, train_offset=train_offset, train_nf=train_nf)\n",
    "loss_fn = DecodingLoss(expmt.chkmat, expmt.obsmat, beta=loss_beta)\n",
    "metric = DecodingMetric(expmt.chkmat, expmt.obsmat)\n",
    "optimizer = torch.optim.Adam(model.parameters(), lr=learning_rate)"
   ]
  },
  {
   "cell_type": "code",
   "execution_count": 4,
   "id": "aadb66b1",
   "metadata": {},
   "outputs": [
    {
     "name": "stdout",
     "output_type": "stream",
     "text": [
      "Using cpu device\n"
     ]
    },
    {
     "name": "stderr",
     "output_type": "stream",
     "text": [
      "Epoch 1/20: 100%|██████████| 100/100 [07:02<00:00,  4.22s/it, avg_loss=0.706679, grad_norm=0.165694]\n"
     ]
    },
    {
     "name": "stdout",
     "output_type": "stream",
     "text": [
      "Epoch 1 Summary:\n",
      "  Avg Train Loss: 0.706679\n",
      "  Avg Val Loss: 0.736395\n",
      "  wrong_syndrome_rate: 0.047853\n",
      "  wrong_observable_rate: 0.006135\n",
      "  failure_rate: 0.047853\n",
      "  Learning Rate: 0.002000\n",
      "\n"
     ]
    },
    {
     "name": "stderr",
     "output_type": "stream",
     "text": [
      "Epoch 2/20: 100%|██████████| 100/100 [06:42<00:00,  4.02s/it, avg_loss=0.606926, grad_norm=0.134927]\n"
     ]
    },
    {
     "name": "stdout",
     "output_type": "stream",
     "text": [
      "Epoch 2 Summary:\n",
      "  Avg Train Loss: 0.606926\n",
      "  Avg Val Loss: 0.685253\n",
      "  wrong_syndrome_rate: 0.041718\n",
      "  wrong_observable_rate: 0.006135\n",
      "  failure_rate: 0.041718\n",
      "  Learning Rate: 0.002000\n",
      "\n"
     ]
    },
    {
     "name": "stderr",
     "output_type": "stream",
     "text": [
      "Epoch 3/20: 100%|██████████| 100/100 [06:41<00:00,  4.02s/it, avg_loss=0.575189, grad_norm=0.167043]\n"
     ]
    },
    {
     "name": "stdout",
     "output_type": "stream",
     "text": [
      "Epoch 3 Summary:\n",
      "  Avg Train Loss: 0.575189\n",
      "  Avg Val Loss: 0.664348\n",
      "  wrong_syndrome_rate: 0.035583\n",
      "  wrong_observable_rate: 0.009816\n",
      "  failure_rate: 0.035583\n",
      "  Learning Rate: 0.002000\n",
      "\n"
     ]
    },
    {
     "name": "stderr",
     "output_type": "stream",
     "text": [
      "Epoch 4/20: 100%|██████████| 100/100 [07:00<00:00,  4.20s/it, avg_loss=0.560948, grad_norm=0.139897]\n"
     ]
    },
    {
     "name": "stdout",
     "output_type": "stream",
     "text": [
      "Epoch 4 Summary:\n",
      "  Avg Train Loss: 0.560948\n",
      "  Avg Val Loss: 0.654378\n",
      "  wrong_syndrome_rate: 0.033129\n",
      "  wrong_observable_rate: 0.009816\n",
      "  failure_rate: 0.033129\n",
      "  Learning Rate: 0.002000\n",
      "\n"
     ]
    },
    {
     "name": "stderr",
     "output_type": "stream",
     "text": [
      "Epoch 5/20: 100%|██████████| 100/100 [06:49<00:00,  4.09s/it, avg_loss=0.553642, grad_norm=0.119104]\n"
     ]
    },
    {
     "name": "stdout",
     "output_type": "stream",
     "text": [
      "Epoch 5 Summary:\n",
      "  Avg Train Loss: 0.553642\n",
      "  Avg Val Loss: 0.648804\n",
      "  wrong_syndrome_rate: 0.033129\n",
      "  wrong_observable_rate: 0.011043\n",
      "  failure_rate: 0.033129\n",
      "  Learning Rate: 0.002000\n",
      "\n"
     ]
    },
    {
     "name": "stderr",
     "output_type": "stream",
     "text": [
      "Epoch 6/20: 100%|██████████| 100/100 [07:03<00:00,  4.23s/it, avg_loss=0.549233, grad_norm=0.140235]\n"
     ]
    },
    {
     "name": "stdout",
     "output_type": "stream",
     "text": [
      "Epoch 6 Summary:\n",
      "  Avg Train Loss: 0.549233\n",
      "  Avg Val Loss: 0.645372\n",
      "  wrong_syndrome_rate: 0.030675\n",
      "  wrong_observable_rate: 0.011043\n",
      "  failure_rate: 0.030675\n",
      "  Learning Rate: 0.002000\n",
      "\n"
     ]
    },
    {
     "name": "stderr",
     "output_type": "stream",
     "text": [
      "Epoch 7/20: 100%|██████████| 100/100 [07:46<00:00,  4.66s/it, avg_loss=0.546304, grad_norm=0.135438]\n"
     ]
    },
    {
     "name": "stdout",
     "output_type": "stream",
     "text": [
      "Epoch 7 Summary:\n",
      "  Avg Train Loss: 0.546304\n",
      "  Avg Val Loss: 0.643604\n",
      "  wrong_syndrome_rate: 0.028221\n",
      "  wrong_observable_rate: 0.011043\n",
      "  failure_rate: 0.028221\n",
      "  Learning Rate: 0.002000\n",
      "\n"
     ]
    },
    {
     "name": "stderr",
     "output_type": "stream",
     "text": [
      "Epoch 8/20: 100%|██████████| 100/100 [08:20<00:00,  5.01s/it, avg_loss=0.544280, grad_norm=0.115290]\n"
     ]
    },
    {
     "name": "stdout",
     "output_type": "stream",
     "text": [
      "Epoch 8 Summary:\n",
      "  Avg Train Loss: 0.544280\n",
      "  Avg Val Loss: 0.643180\n",
      "  wrong_syndrome_rate: 0.030675\n",
      "  wrong_observable_rate: 0.011043\n",
      "  failure_rate: 0.030675\n",
      "  Learning Rate: 0.002000\n",
      "\n"
     ]
    },
    {
     "name": "stderr",
     "output_type": "stream",
     "text": [
      "Epoch 9/20: 100%|██████████| 100/100 [08:26<00:00,  5.07s/it, avg_loss=0.542905, grad_norm=0.114171]\n"
     ]
    },
    {
     "name": "stdout",
     "output_type": "stream",
     "text": [
      "Epoch 9 Summary:\n",
      "  Avg Train Loss: 0.542905\n",
      "  Avg Val Loss: 0.642101\n",
      "  wrong_syndrome_rate: 0.030675\n",
      "  wrong_observable_rate: 0.012270\n",
      "  failure_rate: 0.030675\n",
      "  Learning Rate: 0.002000\n",
      "\n"
     ]
    },
    {
     "name": "stderr",
     "output_type": "stream",
     "text": [
      "Epoch 10/20: 100%|██████████| 100/100 [09:41<00:00,  5.82s/it, avg_loss=0.541889, grad_norm=0.164322]\n"
     ]
    },
    {
     "name": "stdout",
     "output_type": "stream",
     "text": [
      "Epoch 10 Summary:\n",
      "  Avg Train Loss: 0.541889\n",
      "  Avg Val Loss: 0.642250\n",
      "  wrong_syndrome_rate: 0.029448\n",
      "  wrong_observable_rate: 0.011043\n",
      "  failure_rate: 0.029448\n",
      "  Learning Rate: 0.002000\n",
      "\n"
     ]
    },
    {
     "name": "stderr",
     "output_type": "stream",
     "text": [
      "Epoch 11/20: 100%|██████████| 100/100 [09:03<00:00,  5.44s/it, avg_loss=0.540859, grad_norm=0.140868]\n"
     ]
    },
    {
     "name": "stdout",
     "output_type": "stream",
     "text": [
      "Epoch 11 Summary:\n",
      "  Avg Train Loss: 0.540859\n",
      "  Avg Val Loss: 0.641284\n",
      "  wrong_syndrome_rate: 0.028221\n",
      "  wrong_observable_rate: 0.011043\n",
      "  failure_rate: 0.028221\n",
      "  Learning Rate: 0.002000\n",
      "\n"
     ]
    },
    {
     "name": "stderr",
     "output_type": "stream",
     "text": [
      "Epoch 12/20: 100%|██████████| 100/100 [06:56<00:00,  4.17s/it, avg_loss=0.540219, grad_norm=0.138315]\n"
     ]
    },
    {
     "name": "stdout",
     "output_type": "stream",
     "text": [
      "Epoch 12 Summary:\n",
      "  Avg Train Loss: 0.540219\n",
      "  Avg Val Loss: 0.639943\n",
      "  wrong_syndrome_rate: 0.025767\n",
      "  wrong_observable_rate: 0.008589\n",
      "  failure_rate: 0.025767\n",
      "  Learning Rate: 0.002000\n",
      "\n"
     ]
    },
    {
     "name": "stderr",
     "output_type": "stream",
     "text": [
      "Epoch 13/20: 100%|██████████| 100/100 [07:04<00:00,  4.24s/it, avg_loss=0.539877, grad_norm=0.157961]\n"
     ]
    },
    {
     "name": "stdout",
     "output_type": "stream",
     "text": [
      "Epoch 13 Summary:\n",
      "  Avg Train Loss: 0.539877\n",
      "  Avg Val Loss: 0.639934\n",
      "  wrong_syndrome_rate: 0.026994\n",
      "  wrong_observable_rate: 0.009816\n",
      "  failure_rate: 0.026994\n",
      "  Learning Rate: 0.002000\n",
      "\n"
     ]
    },
    {
     "name": "stderr",
     "output_type": "stream",
     "text": [
      "Epoch 14/20: 100%|██████████| 100/100 [07:02<00:00,  4.23s/it, avg_loss=0.539336, grad_norm=0.107047]\n"
     ]
    },
    {
     "name": "stdout",
     "output_type": "stream",
     "text": [
      "Epoch 14 Summary:\n",
      "  Avg Train Loss: 0.539336\n",
      "  Avg Val Loss: 0.638983\n",
      "  wrong_syndrome_rate: 0.024540\n",
      "  wrong_observable_rate: 0.008589\n",
      "  failure_rate: 0.024540\n",
      "  Learning Rate: 0.002000\n",
      "\n"
     ]
    },
    {
     "name": "stderr",
     "output_type": "stream",
     "text": [
      "Epoch 15/20: 100%|██████████| 100/100 [07:04<00:00,  4.24s/it, avg_loss=0.538892, grad_norm=0.094967]\n"
     ]
    },
    {
     "name": "stdout",
     "output_type": "stream",
     "text": [
      "Epoch 15 Summary:\n",
      "  Avg Train Loss: 0.538892\n",
      "  Avg Val Loss: 0.639920\n",
      "  wrong_syndrome_rate: 0.024540\n",
      "  wrong_observable_rate: 0.007362\n",
      "  failure_rate: 0.024540\n",
      "  Learning Rate: 0.002000\n",
      "\n"
     ]
    },
    {
     "name": "stderr",
     "output_type": "stream",
     "text": [
      "Epoch 16/20: 100%|██████████| 100/100 [07:36<00:00,  4.56s/it, avg_loss=0.538826, grad_norm=0.148664]\n"
     ]
    },
    {
     "name": "stdout",
     "output_type": "stream",
     "text": [
      "Epoch 16 Summary:\n",
      "  Avg Train Loss: 0.538826\n",
      "  Avg Val Loss: 0.638933\n",
      "  wrong_syndrome_rate: 0.026994\n",
      "  wrong_observable_rate: 0.007362\n",
      "  failure_rate: 0.026994\n",
      "  Learning Rate: 0.002000\n",
      "\n"
     ]
    },
    {
     "name": "stderr",
     "output_type": "stream",
     "text": [
      "Epoch 17/20: 100%|██████████| 100/100 [07:10<00:00,  4.30s/it, avg_loss=0.538380, grad_norm=0.125235]\n"
     ]
    },
    {
     "name": "stdout",
     "output_type": "stream",
     "text": [
      "Epoch 17 Summary:\n",
      "  Avg Train Loss: 0.538380\n",
      "  Avg Val Loss: 0.638336\n",
      "  wrong_syndrome_rate: 0.026994\n",
      "  wrong_observable_rate: 0.007362\n",
      "  failure_rate: 0.026994\n",
      "  Learning Rate: 0.002000\n",
      "\n"
     ]
    },
    {
     "name": "stderr",
     "output_type": "stream",
     "text": [
      "Epoch 18/20: 100%|██████████| 100/100 [07:10<00:00,  4.30s/it, avg_loss=0.538267, grad_norm=0.134970]\n"
     ]
    },
    {
     "name": "stdout",
     "output_type": "stream",
     "text": [
      "Epoch 18 Summary:\n",
      "  Avg Train Loss: 0.538267\n",
      "  Avg Val Loss: 0.638609\n",
      "  wrong_syndrome_rate: 0.026994\n",
      "  wrong_observable_rate: 0.008589\n",
      "  failure_rate: 0.026994\n",
      "  Learning Rate: 0.002000\n",
      "\n"
     ]
    },
    {
     "name": "stderr",
     "output_type": "stream",
     "text": [
      "Epoch 19/20: 100%|██████████| 100/100 [07:12<00:00,  4.33s/it, avg_loss=0.538015, grad_norm=0.130692]\n"
     ]
    },
    {
     "name": "stdout",
     "output_type": "stream",
     "text": [
      "Epoch 19 Summary:\n",
      "  Avg Train Loss: 0.538015\n",
      "  Avg Val Loss: 0.638925\n",
      "  wrong_syndrome_rate: 0.025767\n",
      "  wrong_observable_rate: 0.007362\n",
      "  failure_rate: 0.025767\n",
      "  Learning Rate: 0.002000\n",
      "\n"
     ]
    },
    {
     "name": "stderr",
     "output_type": "stream",
     "text": [
      "Epoch 20/20: 100%|██████████| 100/100 [07:11<00:00,  4.31s/it, avg_loss=0.537913, grad_norm=0.128910]\n"
     ]
    },
    {
     "name": "stdout",
     "output_type": "stream",
     "text": [
      "Epoch 20 Summary:\n",
      "  Avg Train Loss: 0.537913\n",
      "  Avg Val Loss: 0.639143\n",
      "  wrong_syndrome_rate: 0.023313\n",
      "  wrong_observable_rate: 0.007362\n",
      "  failure_rate: 0.023313\n",
      "  Learning Rate: 0.000400\n",
      "\n"
     ]
    }
   ],
   "source": [
    "train_gamma(\n",
    "    model,\n",
    "    train_dataset,\n",
    "    val_dataset,\n",
    "    loss_fn,\n",
    "    metric,\n",
    "    optimizer,\n",
    "    num_epochs=20,\n",
    "    batch_size=256,\n",
    "    device=\"cpu\",\n",
    "    scheduler_kwargs=dict(factor=0.2, patience=3, threshold=1e-3, threshold_mode=\"abs\"),\n",
    "    early_stopper=EarlyStopper(patience=5, min_delta=1e-3),\n",
    ")"
   ]
  },
  {
   "cell_type": "code",
   "execution_count": 10,
   "id": "6a738602",
   "metadata": {},
   "outputs": [],
   "source": [
    "now = datetime.now().strftime(\"%Y-%m-%d-%H-%M-%S\")\n",
    "\n",
    "gamma = model.gamma.detach().numpy().astype(np.float64)\n",
    "np.save(f\"learned_params/dmemoffnormbp_{now}_gamma.npy\", gamma)\n",
    "\n",
    "if train_offset:\n",
    "    offset = [x.detach().tolist() for x in model.offset] # list[list[float]]\n",
    "    with open(f\"learned_params/dmemoffnormbp_{now}_offset.pkl\", \"wb\") as f:\n",
    "        pickle.dump(offset, f)\n",
    "\n",
    "if train_nf:\n",
    "    nf = [x.detach().tolist() for x in model.nf] # list[list[float]]\n",
    "    with open(f\"learned_params/dmemoffnormbp_{now}_nf.pkl\", \"wb\") as f:\n",
    "        pickle.dump(nf, f)\n"
   ]
  }
 ],
 "metadata": {
  "kernelspec": {
   "display_name": ".env",
   "language": "python",
   "name": "python3"
  },
  "language_info": {
   "codemirror_mode": {
    "name": "ipython",
    "version": 3
   },
   "file_extension": ".py",
   "mimetype": "text/x-python",
   "name": "python",
   "nbconvert_exporter": "python",
   "pygments_lexer": "ipython3",
   "version": "3.10.6"
  }
 },
 "nbformat": 4,
 "nbformat_minor": 5
}
